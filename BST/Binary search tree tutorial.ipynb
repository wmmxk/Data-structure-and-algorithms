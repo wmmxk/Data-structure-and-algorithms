{
 "cells": [
  {
   "cell_type": "code",
   "execution_count": null,
   "metadata": {
    "collapsed": true
   },
   "outputs": [],
   "source": [
    "source: http://www.laurentluce.com/posts/binary-search-tree-library-in-python/comment-page-1/\n",
    "    这个讲解非常清楚，没一步怎么执行的，都说清楚了。"
   ]
  },
  {
   "cell_type": "code",
   "execution_count": null,
   "metadata": {
    "collapsed": true
   },
   "outputs": [],
   "source": [
    "这个树这个class,其实就是一个带有递归的Node, 而每个Node有三个attributes, self.left and self.right默认\n",
    "都是None, leave处的node不用特别定义其位None, 所以一个Node的attribute可以有这几种情况， 是一个Node,\n",
    "是一个None"
   ]
  },
  {
   "cell_type": "code",
   "execution_count": null,
   "metadata": {
    "collapsed": true
   },
   "outputs": [],
   "source": [
    "讲解：http://www.laurentluce.com/posts/binary-search-tree-library-in-python/comment-page-1/\n",
    "1. 定义一个Node, which has three attributes: cargo/data, left child, right child.\n",
    "2. Insert也很简单，用recursion来完成。每个node都有Insert这个method"
   ]
  },
  {
   "cell_type": "code",
   "execution_count": null,
   "metadata": {
    "collapsed": true
   },
   "outputs": [],
   "source": [
    "stack与queue的区别：\n",
    "Imagine a stack of paper. The first piece put into the stack is at the bottom, \n",
    "so it is the last one to come out. This is LIFO. （last in first out)\n",
    "\n",
    "Imagine a queue at the store. The first person in line is the first person \n",
    "to get out of the line. This is FIFO. (First in first out)"
   ]
  },
  {
   "cell_type": "code",
   "execution_count": null,
   "metadata": {
    "collapsed": true
   },
   "outputs": [],
   "source": []
  },
  {
   "cell_type": "code",
   "execution_count": 16,
   "metadata": {
    "collapsed": false
   },
   "outputs": [],
   "source": [
    "class Node:\n",
    "    def __init__(self, data=None):\n",
    "        self.left = None\n",
    "        self.right = None\n",
    "        self.data = data\n",
    "    def insert(self, data):\n",
    "        if self.data:\n",
    "            if data < self.data:\n",
    "                if self.left is None:\n",
    "                    self.left = Node(data)\n",
    "                else:\n",
    "                    self.left.insert(data)\n",
    "            elif data > self.data:\n",
    "                if self.right is None:\n",
    "                    self.right = Node(data)\n",
    "                else:\n",
    "                    self.right.insert(data)\n",
    "        else:\n",
    "            self.data = data\n",
    "    def tree_data(self):\n",
    "        stack = []\n",
    "        node = self\n",
    "        while stack or node:\n",
    "            if node:\n",
    "                stack.append(node)\n",
    "                node = node.left\n",
    "            else: # we are returning so we pop the node and we yield it\n",
    "                node = stack.pop()\n",
    "                yield node.data\n",
    "                node = node.right"
   ]
  },
  {
   "cell_type": "code",
   "execution_count": 19,
   "metadata": {
    "collapsed": false
   },
   "outputs": [
    {
     "name": "stdout",
     "output_type": "stream",
     "text": [
      "true\n"
     ]
    }
   ],
   "source": [
    "test=Node(8)\n",
    "if test:\n",
    "    print \"true\""
   ]
  },
  {
   "cell_type": "code",
   "execution_count": 24,
   "metadata": {
    "collapsed": false
   },
   "outputs": [
    {
     "name": "stdout",
     "output_type": "stream",
     "text": [
      "None\n"
     ]
    }
   ],
   "source": [
    "print test.left"
   ]
  },
  {
   "cell_type": "code",
   "execution_count": 17,
   "metadata": {
    "collapsed": true
   },
   "outputs": [],
   "source": [
    "root=Node(8)\n",
    "root.insert(3)\n",
    "root.insert(10)\n",
    "root.insert(1)\n",
    "root.insert(14)\n",
    "root.insert(6)"
   ]
  },
  {
   "cell_type": "code",
   "execution_count": 18,
   "metadata": {
    "collapsed": false,
    "scrolled": true
   },
   "outputs": [
    {
     "name": "stdout",
     "output_type": "stream",
     "text": [
      "1\n",
      "3\n",
      "6\n",
      "8\n",
      "10\n",
      "14\n"
     ]
    }
   ],
   "source": [
    "for data in root.tree_data():\n",
    "    print data"
   ]
  },
  {
   "cell_type": "code",
   "execution_count": 1,
   "metadata": {
    "collapsed": false,
    "scrolled": true
   },
   "outputs": [
    {
     "name": "stdout",
     "output_type": "stream",
     "text": [
      "1\n",
      "2 3\n",
      "4 5 6\n",
      "7\n"
     ]
    }
   ],
   "source": [
    "\n",
    "class Node(object):\n",
    "  def __init__(self, value, left=None, right=None):\n",
    "    self.value = value\n",
    "    self.left = left\n",
    "    self.right = right\n",
    "\n",
    "def traverse(rootnode):\n",
    "  thislevel = [rootnode]\n",
    "  while thislevel:\n",
    "    nextlevel = list()\n",
    "    for n in thislevel:\n",
    "      print n.value,\n",
    "      if n.left: nextlevel.append(n.left)\n",
    "      if n.right: nextlevel.append(n.right)\n",
    "    print\n",
    "    thislevel = nextlevel\n",
    "\n",
    "t = Node(1, Node(2, Node(4, Node(7))), Node(3, Node(5), Node(6)))\n",
    "\n",
    "traverse(t)"
   ]
  },
  {
   "cell_type": "code",
   "execution_count": null,
   "metadata": {
    "collapsed": true
   },
   "outputs": [],
   "source": [
    "source: http://www.cs.uml.edu/~jlu1/doc/source/report/BinarySearchTree1.html"
   ]
  },
  {
   "cell_type": "code",
   "execution_count": null,
   "metadata": {
    "collapsed": true
   },
   "outputs": [],
   "source": [
    "用iteration的方法插入：insert function有三个出口，current_node那里并不是出口，而是插入成功之后，或者已经存在的，那里的return"
   ]
  },
  {
   "cell_type": "code",
   "execution_count": 65,
   "metadata": {
    "collapsed": false
   },
   "outputs": [],
   "source": [
    "class Node:\n",
    "    def __init__(self, data=None):\n",
    "        self.left = None\n",
    "        self.right = None\n",
    "        self.data = data\n",
    "    def insert(self, data):\n",
    "     \n",
    "        if self.data:\n",
    "           current_node = self\n",
    "           while current_node:\n",
    "              if data == current_node.data:\n",
    "                print \"The key does exist!\"\n",
    "                return False\n",
    "              elif data < current_node.data:\n",
    "                print \"left\"\n",
    "                if current_node.left:\n",
    "                    current_node = current_node.left\n",
    "                else:\n",
    "                    current_node.left = Node(data)\n",
    "                    return True\n",
    "              else:\n",
    "                if current_node.right:\n",
    "                    current_node = current_node.right\n",
    "                   # print \"right current\"\n",
    "                else:\n",
    "                    current_node.right =Node(data)\n",
    "                    return True\n",
    "        else:\n",
    "            self.data=data\n",
    "            \n",
    "    def find_iterative(self, data):\n",
    "            current_node = self\n",
    "            while current_node:\n",
    "                if data == current_node.data:\n",
    "                   return \"Found\"\n",
    "                if data < current_node.data:\n",
    "                   current_node = current_node.left\n",
    "                else:\n",
    "                   current_node = current_node.right\n",
    "            return \"Does not exist\"\n",
    "    def lookup(self, data, parent=None):\n",
    "        if data < self.data:\n",
    "            if self.left is None:\n",
    "                return None, None\n",
    "            return self.left.lookup(data, self)\n",
    "        elif data > self.data:\n",
    "            if self.right is None:\n",
    "                return None, None\n",
    "            return self.right.lookup(data, self)\n",
    "        else:\n",
    "            return self, parent\n"
   ]
  },
  {
   "cell_type": "code",
   "execution_count": 67,
   "metadata": {
    "collapsed": true
   },
   "outputs": [],
   "source": [
    "myBST=Node()\n",
    "myBST.insert(3)"
   ]
  },
  {
   "cell_type": "code",
   "execution_count": 68,
   "metadata": {
    "collapsed": false
   },
   "outputs": [
    {
     "data": {
      "text/plain": [
       "True"
      ]
     },
     "execution_count": 68,
     "metadata": {},
     "output_type": "execute_result"
    }
   ],
   "source": [
    "myBST.insert(5)"
   ]
  },
  {
   "cell_type": "code",
   "execution_count": 69,
   "metadata": {
    "collapsed": false
   },
   "outputs": [
    {
     "data": {
      "text/plain": [
       "True"
      ]
     },
     "execution_count": 69,
     "metadata": {},
     "output_type": "execute_result"
    }
   ],
   "source": [
    "myBST.insert(6)"
   ]
  },
  {
   "cell_type": "code",
   "execution_count": 70,
   "metadata": {
    "collapsed": false
   },
   "outputs": [
    {
     "data": {
      "text/plain": [
       "'Found'"
      ]
     },
     "execution_count": 70,
     "metadata": {},
     "output_type": "execute_result"
    }
   ],
   "source": [
    "myBST.find_iterative(6)"
   ]
  },
  {
   "cell_type": "code",
   "execution_count": 71,
   "metadata": {
    "collapsed": false,
    "scrolled": true
   },
   "outputs": [
    {
     "data": {
      "text/plain": [
       "'Does not exist'"
      ]
     },
     "execution_count": 71,
     "metadata": {},
     "output_type": "execute_result"
    }
   ],
   "source": [
    "myBST.find_iterative(7)"
   ]
  },
  {
   "cell_type": "code",
   "execution_count": 74,
   "metadata": {
    "collapsed": false
   },
   "outputs": [
    {
     "data": {
      "text/plain": [
       "(<__main__.Node instance at 0x7f442ee65d88>,\n",
       " <__main__.Node instance at 0x7f442ee65cb0>)"
      ]
     },
     "execution_count": 74,
     "metadata": {},
     "output_type": "execute_result"
    }
   ],
   "source": [
    "myBST.lookup(5)"
   ]
  },
  {
   "cell_type": "code",
   "execution_count": null,
   "metadata": {
    "collapsed": true
   },
   "outputs": [],
   "source": [
    "source:http://www.laurentluce.com/posts/binary-search-tree-library-in-python/comment-page-1/\n",
    "#这个网页里有全套的逐步讲解，recursion一步一步怎么调用的都讲了"
   ]
  }
 ],
 "metadata": {
  "kernelspec": {
   "display_name": "Python [Root]",
   "language": "python",
   "name": "Python [Root]"
  },
  "language_info": {
   "codemirror_mode": {
    "name": "ipython",
    "version": 2
   },
   "file_extension": ".py",
   "mimetype": "text/x-python",
   "name": "python",
   "nbconvert_exporter": "python",
   "pygments_lexer": "ipython2",
   "version": "2.7.12"
  }
 },
 "nbformat": 4,
 "nbformat_minor": 0
}
