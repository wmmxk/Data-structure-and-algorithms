{
 "cells": [
  {
   "cell_type": "code",
   "execution_count": null,
   "metadata": {
    "collapsed": true
   },
   "outputs": [],
   "source": []
  },
  {
   "cell_type": "code",
   "execution_count": null,
   "metadata": {
    "collapsed": true
   },
   "outputs": [],
   "source": [
    "source: http://www.geeksforgeeks.org/inorder-tree-traversal-without-recursion/"
   ]
  },
  {
   "cell_type": "code",
   "execution_count": null,
   "metadata": {
    "collapsed": true
   },
   "outputs": [],
   "source": [
    "# First, what is inorder transveral\n",
    "source: http://www.programmerinterview.com/index.php/val-structures/inorder-traversal/"
   ]
  },
  {
   "cell_type": "code",
   "execution_count": null,
   "metadata": {
    "collapsed": true
   },
   "outputs": [],
   "source": [
    "So, it looks like each sub-tree within the larger tree is being traversed \n",
    "in the same pattern – which should make you start thinking in terms \n",
    "of breaking this problem down into sub-trees. And anytime a problem is \n",
    "broken down into smaller problems that keep repeating,\n",
    "you should immediately start thinking in recursion to find the most efficient solution. "
   ]
  },
  {
   "cell_type": "code",
   "execution_count": null,
   "metadata": {
    "collapsed": true
   },
   "outputs": [],
   "source": [
    "Recursion的思路：\n",
    "1.  Go the left subtree, and perform an inorder traversal \n",
    "on that node.\n",
    "\n",
    "2.  Print out the value of the current node.\n",
    "\n",
    "3.  Go to the right child node, and then perform \n",
    "an inorder traversal on that right child node's subtree.\n"
   ]
  },
  {
   "cell_type": "code",
   "execution_count": null,
   "metadata": {
    "collapsed": true
   },
   "outputs": [],
   "source": [
    "下面是非Recursion的实现方法：\n",
    "source: http://chaoren.is-programmer.com/posts/42773.html"
   ]
  },
  {
   "cell_type": "code",
   "execution_count": 13,
   "metadata": {
    "collapsed": true
   },
   "outputs": [],
   "source": [
    "class Node:\n",
    "    def __init__(self, x):\n",
    "         self.val = x\n",
    "         self.left = None\n",
    "         self.right = None\n",
    "    def insert(self, val):\n",
    "        if self.val:\n",
    "            if val < self.val:\n",
    "                if self.left is None:\n",
    "                    self.left = Node(val)\n",
    "                else:\n",
    "                    self.left.insert(val)\n",
    "            elif val > self.val:\n",
    "                if self.right is None:\n",
    "                    self.right = Node(val)\n",
    "                else:\n",
    "                    self.right.insert(val)\n",
    "        else:\n",
    "            self.val = val\n",
    "\n",
    "    def inorderTraversal(self, root):\n",
    "        res = []; stack = []\n",
    "        while root or stack:\n",
    "            if root:\n",
    "                stack.append(root)\n",
    "                root = root.left\n",
    "            else:\n",
    "                root = stack.pop()\n",
    "                res.append(root.val)\n",
    "                root = root.right\n",
    "        return res"
   ]
  },
  {
   "cell_type": "code",
   "execution_count": 14,
   "metadata": {
    "collapsed": false
   },
   "outputs": [],
   "source": [
    "root=Node(8)\n",
    "root.insert(3)\n",
    "root.insert(10)\n",
    "root.insert(1)\n",
    "root.insert(14)\n",
    "root.insert(6)"
   ]
  },
  {
   "cell_type": "code",
   "execution_count": 15,
   "metadata": {
    "collapsed": false
   },
   "outputs": [
    {
     "name": "stdout",
     "output_type": "stream",
     "text": [
      "[1, 3, 6, 8, 10, 14]\n"
     ]
    }
   ],
   "source": [
    "values = root.inorderTraversal(root)\n",
    "print values"
   ]
  }
 ],
 "metadata": {
  "kernelspec": {
   "display_name": "Python [Root]",
   "language": "python",
   "name": "Python [Root]"
  },
  "language_info": {
   "codemirror_mode": {
    "name": "ipython",
    "version": 2
   },
   "file_extension": ".py",
   "mimetype": "text/x-python",
   "name": "python",
   "nbconvert_exporter": "python",
   "pygments_lexer": "ipython2",
   "version": "2.7.12"
  }
 },
 "nbformat": 4,
 "nbformat_minor": 0
}
