{
 "cells": [
  {
   "cell_type": "code",
   "execution_count": null,
   "metadata": {
    "collapsed": true
   },
   "outputs": [],
   "source": [
    "source: http://www.ardendertat.com/2012/01/26/programming-interview-questions-27-squareroot-of-a-number/\n",
    "        "
   ]
  },
  {
   "cell_type": "code",
   "execution_count": null,
   "metadata": {
    "collapsed": true
   },
   "outputs": [],
   "source": [
    "#standard binary search"
   ]
  },
  {
   "cell_type": "code",
   "execution_count": 9,
   "metadata": {
    "collapsed": true
   },
   "outputs": [],
   "source": [
    "def binary_search(number):\n",
    "  numbers_list = range(30, 100)\n",
    "  low = 0\n",
    "  high = len(numbers_list)\n",
    "  while low < high:\n",
    "    middle = int((low + high) / 2)\n",
    "    if number > numbers_list[middle]:\n",
    "        low = middle + 1\n",
    "    else:\n",
    "        high = middle\n",
    "  \n",
    "  return 'the index is '+str(low) if numbers_list[low]==number else \"Not found\""
   ]
  },
  {
   "cell_type": "code",
   "execution_count": 10,
   "metadata": {
    "collapsed": false
   },
   "outputs": [
    {
     "data": {
      "text/plain": [
       "'Not found'"
      ]
     },
     "execution_count": 10,
     "metadata": {},
     "output_type": "execute_result"
    }
   ],
   "source": [
    "binary_search(5)"
   ]
  },
  {
   "cell_type": "code",
   "execution_count": null,
   "metadata": {
    "collapsed": true
   },
   "outputs": [],
   "source": [
    "# 这与standard binary search的区别在于，那里low,middle, high是index肯定是整数，而这里不是\n",
    "所以，对于standard binary search:如果number>numbers_list[middle],肯定在middle+1与high之间可能存在。\n",
    "    对于sqrt, 如果mid**2<num，只能说明sqrt(num)比mid大，但不一定比mid+1大，\n",
    "    \n",
    "#另一个不同之处，如果low与high相差1, 那么mid一直等于low,这时如果mid**<num, mid赋值给low，陷入死循环。\n",
    "                                                 #如果mid**>num, mid赋值给high\n"
   ]
  },
  {
   "cell_type": "code",
   "execution_count": 1,
   "metadata": {
    "collapsed": true
   },
   "outputs": [],
   "source": [
    "def sqrt2(num):\n",
    "    if num<0:\n",
    "        raise ValueError\n",
    "    if num==1:\n",
    "        return 1\n",
    "    low=0\n",
    "    high=1+(num/2)\n",
    "    while low+1<high:\n",
    "        mid=low+(high-low)/2\n",
    "        square=mid**2\n",
    "        if square==num:\n",
    "            return mid\n",
    "        elif square<num:\n",
    "            low=mid\n",
    "        else:\n",
    "            high=mid\n",
    "        print \"low\",low,\"high\",high,\"mid\",mid,\"square\",square\n",
    "    return low"
   ]
  },
  {
   "cell_type": "code",
   "execution_count": 2,
   "metadata": {
    "collapsed": false
   },
   "outputs": [
    {
     "name": "stdout",
     "output_type": "stream",
     "text": [
      "low 2 high 5 mid 2 square 4\n",
      "low 2 high 3 mid 3 square 9\n"
     ]
    },
    {
     "data": {
      "text/plain": [
       "2"
      ]
     },
     "execution_count": 2,
     "metadata": {},
     "output_type": "execute_result"
    }
   ],
   "source": [
    "sqrt2(8)"
   ]
  }
 ],
 "metadata": {
  "kernelspec": {
   "display_name": "Python [Root]",
   "language": "python",
   "name": "Python [Root]"
  },
  "language_info": {
   "codemirror_mode": {
    "name": "ipython",
    "version": 2
   },
   "file_extension": ".py",
   "mimetype": "text/x-python",
   "name": "python",
   "nbconvert_exporter": "python",
   "pygments_lexer": "ipython2",
   "version": "2.7.12"
  }
 },
 "nbformat": 4,
 "nbformat_minor": 0
}
