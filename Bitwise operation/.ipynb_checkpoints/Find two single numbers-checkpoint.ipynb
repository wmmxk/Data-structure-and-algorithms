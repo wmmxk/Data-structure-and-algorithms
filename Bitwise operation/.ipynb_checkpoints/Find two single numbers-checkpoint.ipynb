{
 "cells": [
  {
   "cell_type": "code",
   "execution_count": null,
   "metadata": {
    "collapsed": true
   },
   "outputs": [],
   "source": [
    "题目source: http://www.jianshu.com/p/d00f10b7f08e\n",
    "讲解source： http://storypku.com/2015/10/leetcode-question-260-single-number-iii/"
   ]
  },
  {
   "cell_type": "code",
   "execution_count": null,
   "metadata": {
    "collapsed": true
   },
   "outputs": [],
   "source": []
  },
  {
   "cell_type": "code",
   "execution_count": null,
   "metadata": {
    "collapsed": true
   },
   "outputs": [],
   "source": [
    "# 关键点：两个不相等的数的XOR，一定含有1的digit\n",
    "# 如何提起一个二进制位数，最左边数的第一个1，\n",
    "# 第一次对所有元素进行XOR时，某个digit得到1, 说明那两个single numbers里面对应那个digit有一个为0,\n",
    "   # 有一个为1.\n",
    "#现在用一个只有这个digit为1的数与那两个数，求bit and operation，原来含有1的，此digit仍为1,而另一个\n",
    "  #结果为零。\n",
    "#其它数无关紧要\n",
    "# x & y bitwise and return a decimal number"
   ]
  },
  {
   "cell_type": "code",
   "execution_count": 18,
   "metadata": {
    "collapsed": true
   },
   "outputs": [],
   "source": [
    "def singleNumber(nums):\n",
    "        xor = 0 \n",
    "        for item in nums:\n",
    "            xor ^= item\n",
    "\n",
    "        lastBit = xor - (xor & xor - 1)    \n",
    "        group1, group2 = 0, 0\n",
    "        for item in nums:\n",
    "            if lastBit & item == 0:\n",
    "                print \"group1\",item\n",
    "                group1 ^= item\n",
    "            else:\n",
    "                print \"group2\",item\n",
    "                group2 ^= item\n",
    "\n",
    "        res = []\n",
    "        res.append(group1)\n",
    "        res.append(group2)\n",
    "        return res,lastBit"
   ]
  },
  {
   "cell_type": "code",
   "execution_count": 33,
   "metadata": {
    "collapsed": false
   },
   "outputs": [
    {
     "data": {
      "text/plain": [
       "'0b10'"
      ]
     },
     "execution_count": 33,
     "metadata": {},
     "output_type": "execute_result"
    }
   ],
   "source": [
    "bin(lastBit & b)"
   ]
  },
  {
   "cell_type": "code",
   "execution_count": 24,
   "metadata": {
    "collapsed": false
   },
   "outputs": [
    {
     "name": "stdout",
     "output_type": "stream",
     "text": [
      "group1 1\n",
      "group1 4\n",
      "group2 10\n",
      "group1 1\n"
     ]
    },
    {
     "data": {
      "text/plain": [
       "([4, 10], 2)"
      ]
     },
     "execution_count": 24,
     "metadata": {},
     "output_type": "execute_result"
    }
   ],
   "source": [
    "nums=[1,4,10,1]\n",
    "singleNumber(nums)"
   ]
  }
 ],
 "metadata": {
  "kernelspec": {
   "display_name": "Python [Root]",
   "language": "python",
   "name": "Python [Root]"
  },
  "language_info": {
   "codemirror_mode": {
    "name": "ipython",
    "version": 2
   },
   "file_extension": ".py",
   "mimetype": "text/x-python",
   "name": "python",
   "nbconvert_exporter": "python",
   "pygments_lexer": "ipython2",
   "version": "2.7.12"
  }
 },
 "nbformat": 4,
 "nbformat_minor": 0
}
