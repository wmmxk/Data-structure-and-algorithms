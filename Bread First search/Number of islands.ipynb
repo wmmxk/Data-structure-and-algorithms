{
 "cells": [
  {
   "cell_type": "code",
   "execution_count": null,
   "metadata": {
    "collapsed": true
   },
   "outputs": [],
   "source": [
    "用减法过一遍，\n",
    "然后在把核心code 走一遍，（走两步）"
   ]
  },
  {
   "cell_type": "code",
   "execution_count": 1,
   "metadata": {
    "collapsed": true
   },
   "outputs": [],
   "source": [
    "grid = [\n",
    "[1,1,0,0,0],\n",
    "[1,1,0,0,0],\n",
    "[0,0,1,0,0],\n",
    "[0,0,0,1,1],\n",
    "]"
   ]
  },
  {
   "cell_type": "code",
   "execution_count": null,
   "metadata": {
    "collapsed": true
   },
   "outputs": [],
   "source": [
    "m, n = len(grid), len(grid[0])"
   ]
  },
  {
   "cell_type": "code",
   "execution_count": null,
   "metadata": {
    "collapsed": true
   },
   "outputs": [],
   "source": [
    "visited = [ [False] * n for x in range(m) ] # m * n"
   ]
  },
  {
   "cell_type": "code",
   "execution_count": null,
   "metadata": {
    "collapsed": true
   },
   "outputs": [],
   "source": [
    "这跟Surrounded island差不多，对于每个1找到都联通的1,并标记为visited。\n",
    "BFS没结束一次，就找到一个island"
   ]
  },
  {
   "cell_type": "code",
   "execution_count": null,
   "metadata": {
    "collapsed": true
   },
   "outputs": [],
   "source": [
    "def numIslands(grid):\n",
    "        ans = 0\n",
    "\n",
    "        for x in range(m):\n",
    "            for y in range(n):\n",
    "                if grid[x][y] == '1' and not visited[x][y]:\n",
    "                    ans += 1\n",
    "                    bfs(grid, visited, x, y, m, n)\n",
    "        return ans\n",
    "    \n",
    "def isValid(np, m, n): #这个code 很好理解，在于它把一个意思，放到一行code里说完了，\n",
    "        return np[0] >= 0 and np[0] < m and np[1] >= 0 and np[1] < n\n",
    "\n",
    "def bfs(grid, visited, x, y, m, n):\n",
    "        dz = zip( [1, 0, -1, 0], [0, 1, 0, -1] )\n",
    "        queue = [ (x, y) ]\n",
    "        visited[x][y] = True\n",
    "        while queue:\n",
    "            front = queue.pop(0)\n",
    "            for p in dz:\n",
    "                np = (front[0] + p[0], front[1] + p[1])\n",
    "                if isValid(np, m, n) and grid[np[0]][np[1]] == '1' \\\n",
    "                and not visited[np[0]][np[1]]:\n",
    "                    visited[ np[0] ][ np[1] ] = True\n",
    "                    queue.append(np)\n",
    "\n",
    "    "
   ]
  }
 ],
 "metadata": {
  "kernelspec": {
   "display_name": "Python [Root]",
   "language": "python",
   "name": "Python [Root]"
  },
  "language_info": {
   "codemirror_mode": {
    "name": "ipython",
    "version": 2
   },
   "file_extension": ".py",
   "mimetype": "text/x-python",
   "name": "python",
   "nbconvert_exporter": "python",
   "pygments_lexer": "ipython2",
   "version": "2.7.12"
  }
 },
 "nbformat": 4,
 "nbformat_minor": 0
}
