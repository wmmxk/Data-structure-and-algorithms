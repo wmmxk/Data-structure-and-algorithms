{
 "cells": [
  {
   "cell_type": "code",
   "execution_count": null,
   "metadata": {
    "collapsed": true
   },
   "outputs": [],
   "source": [
    "Suppose you have sorted the opening and closing positions of the intervals together. \n",
    "For example if your intervals are [1,7], [2,3], [5,10]. \n",
    "The sorted list L would then be 1s, 2s, 3e, 5s, 7e, 10e \n",
    "(s and e correspond to start and end). \n",
    "Now consider every s as +1 and e as -1 and find the prefix sums of the array. \n",
    "You end up with P = 1, 2, 1, 2, 1, 0. Binary search on the previous \n",
    "sorted list L to find the number just less than or equal to what you are looking for. \n",
    "For example, if you want to look for 6, you will get the 5s with binary search. \n",
    "Read the corresponding entry in the prefix sum array P. This is 2, and is the answer you want."
   ]
  },
  {
   "cell_type": "code",
   "execution_count": null,
   "metadata": {
    "collapsed": true
   },
   "outputs": [],
   "source": [
    "def create_prefix_sum(result, index):\n",
    "\tsum = [0]*(index+1)\n",
    "\tfor i in range(0, index+1):\n",
    "\t\tif not i:\n",
    "\t\t\tsum[i] = 1 if (result[i])[-1] == 's' else -1\n",
    "\t\t\tcontinue\n",
    "\t\tif (result[i])[-1] == 's':\n",
    "\t\t\tsum[i] = sum[i-1] + 1\n",
    "\t\telse:\n",
    "\t\t\tsum[i] = sum[i-1] - 1\n",
    "\treturn sum\n",
    " \n",
    "def get_range(intervals, key):\n",
    "\tresult = []\n",
    "\tsort_second = list(intervals)\n",
    "\tsort_first = sorted(intervals, key=lambda interval: interval[0])\n",
    "\tsort_second = sorted(sort_second, key=lambda interval: interval[1])\t\n",
    "\tfor i in range(0, len(intervals)):\n",
    "\t\tresult.append(str(sort_first[i][0]) + 's')\n",
    "\t\tresult.append(str(sort_second[i][1]) + 'e')\n",
    "\tresult = sorted(result, key=lambda word:int(\"\".join(c for c in word if c.isdigit())))\n",
    "\tindex = -1\n",
    "\tfor i in range(0, len(result)):\n",
    "\t\tdata = int(\"\".join(c for c in result[i] if c.isdigit()))\n",
    "\t\tif data >= key:\n",
    "\t\t\tbreak\n",
    "\t\tindex = i\n",
    "\tif index == -1:\n",
    "\t\tprint(\"key is not found in the intervals given\")\n",
    "\t\treturn\n",
    "\tprint(\"key is found and it is found in \")\n",
    "\tsum = create_prefix_sum(result, index)\n",
    "\tprint(sum)\n",
    "\treturn sum[index]\n",
    "\t\t\n",
    "print(get_range(((1,3),(2,7),(3, 14)), 6))"
   ]
  }
 ],
 "metadata": {
  "kernelspec": {
   "display_name": "Python [Root]",
   "language": "python",
   "name": "Python [Root]"
  },
  "language_info": {
   "codemirror_mode": {
    "name": "ipython",
    "version": 2
   },
   "file_extension": ".py",
   "mimetype": "text/x-python",
   "name": "python",
   "nbconvert_exporter": "python",
   "pygments_lexer": "ipython2",
   "version": "2.7.12"
  }
 },
 "nbformat": 4,
 "nbformat_minor": 0
}
