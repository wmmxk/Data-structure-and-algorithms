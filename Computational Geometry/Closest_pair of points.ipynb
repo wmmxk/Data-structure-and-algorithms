{
 "cells": [
  {
   "cell_type": "code",
   "execution_count": null,
   "metadata": {
    "collapsed": true
   },
   "outputs": [],
   "source": [
    "source: http://www.ics.uci.edu/~eppstein/161/python/"
   ]
  },
  {
   "cell_type": "code",
   "execution_count": 2,
   "metadata": {
    "collapsed": true
   },
   "outputs": [],
   "source": [
    "# divide and conquer 里面的merge这里是求最小,那个这个程序的框架就是，divide, and merge，\n",
    "# 如果divide之后，"
   ]
  },
  {
   "cell_type": "code",
   "execution_count": null,
   "metadata": {
    "collapsed": true
   },
   "outputs": [],
   "source": [
    "# bug：有可能lefts和rights里面没有点. 你跑那个test案例，按照y来分，没问题，但按x分就出了问题\n",
    "best_LR= [sqdist(lefts[0],rights[0]), [lefts[0],rights[0]]]"
   ]
  },
  {
   "cell_type": "code",
   "execution_count": null,
   "metadata": {
    "collapsed": true
   },
   "outputs": [],
   "source": [
    "# sort a custom object;\n",
    "A=[1,[(1,2),(3,4)]]\n",
    "B= [2, [(2,2),(3,3)]]\n",
    "C= [2, [(2,2),(3,3)]]\n",
    "all=[A,B,C]\n",
    "min(all,key=lambda x: x[0])"
   ]
  },
  {
   "cell_type": "code",
   "execution_count": 62,
   "metadata": {
    "collapsed": false
   },
   "outputs": [],
   "source": [
    "# assign an infinite to a variable:\n",
    "a = float('inf')"
   ]
  },
  {
   "cell_type": "code",
   "execution_count": 102,
   "metadata": {
    "collapsed": false
   },
   "outputs": [],
   "source": [
    "from math import sqrt\n",
    "def square(x): \n",
    "    return x*x\n",
    "def sqdist(p,q): \n",
    "    return sqrt(square(p[0]-q[0])+square(p[1]-q[1]))"
   ]
  },
  {
   "cell_type": "code",
   "execution_count": 103,
   "metadata": {
    "collapsed": false
   },
   "outputs": [],
   "source": [
    "def recursion(Points):\n",
    "    if len(Points) == 2:\n",
    "        best=[sqdist(Points[0],Points[1]),Points]\n",
    "        return best\n",
    "    if len(Points) ==1:\n",
    "        best=[float('inf'),[Points[0],Points[0]]]\n",
    "        return best\n",
    "    \n",
    "    else:\n",
    "        split = len(Points)/2\n",
    "\n",
    "        \n",
    "        best_L = recursion(Points[:split])\n",
    "        best_R = recursion(Points[split:])\n",
    "        best_inner = min(best_L,best_R,key= lambda x: x[0])\n",
    "        \n",
    "        splitx = (Points[split-1][0]+Points[split][0])/2\n",
    "        \n",
    "\n",
    "        lefts = [p for p in Points[split:] if p[0]-splitx < best_inner[0]]\n",
    "        rights = [p for p in Points[:split] if splitx- p[0] < best_inner[0]]\n",
    "        \n",
    "        best_LR= best_inner\n",
    "        for left in lefts:\n",
    "            for right in rights:\n",
    "                if abs(left[1]-right[1])<=best_inner[0]:\n",
    "                    d_LR = sqdist(left,right)\n",
    "                    if d_LR <best_LR[0]:\n",
    "                        best_LR=[d_LR,[left,right]]\n",
    "                        \n",
    "    return min([best_L,best_R,best_LR],key=lambda x: x[0])"
   ]
  },
  {
   "cell_type": "code",
   "execution_count": 104,
   "metadata": {
    "collapsed": true
   },
   "outputs": [],
   "source": [
    "Points=[(0,1),(3,2),(4,3),(5,1),(1,2),(2,1),(6,2),(7,2),(8,3),(4,5),(9,0),(6,4)]\n",
    "Points.sort(key=lambda x: x[0])"
   ]
  },
  {
   "cell_type": "code",
   "execution_count": 105,
   "metadata": {
    "collapsed": false
   },
   "outputs": [
    {
     "data": {
      "text/plain": [
       "[1.0, [(7, 2), (6, 2)]]"
      ]
     },
     "execution_count": 105,
     "metadata": {},
     "output_type": "execute_result"
    }
   ],
   "source": [
    "recursion(Points)"
   ]
  },
  {
   "cell_type": "code",
   "execution_count": 106,
   "metadata": {
    "collapsed": true
   },
   "outputs": [],
   "source": [
    "Points = [(0,0),(7,6),(2,20),(12,5),(16,16),(5,8),(19,7),(14,22),(8,19),(7,29),(10,11),(1,13)]"
   ]
  },
  {
   "cell_type": "code",
   "execution_count": 107,
   "metadata": {
    "collapsed": false
   },
   "outputs": [
    {
     "data": {
      "text/plain": [
       "[2.8284271247461903, [(5, 8), (7, 6)]]"
      ]
     },
     "execution_count": 107,
     "metadata": {},
     "output_type": "execute_result"
    }
   ],
   "source": [
    "recursion(Points)"
   ]
  }
 ],
 "metadata": {
  "kernelspec": {
   "display_name": "Python [Root]",
   "language": "python",
   "name": "Python [Root]"
  },
  "language_info": {
   "codemirror_mode": {
    "name": "ipython",
    "version": 2
   },
   "file_extension": ".py",
   "mimetype": "text/x-python",
   "name": "python",
   "nbconvert_exporter": "python",
   "pygments_lexer": "ipython2",
   "version": "2.7.12"
  }
 },
 "nbformat": 4,
 "nbformat_minor": 0
}
