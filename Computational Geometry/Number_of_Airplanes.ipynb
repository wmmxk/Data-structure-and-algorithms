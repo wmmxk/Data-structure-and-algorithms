{
 "cells": [
  {
   "cell_type": "code",
   "execution_count": null,
   "metadata": {
    "collapsed": true
   },
   "outputs": [],
   "source": [
    "Given an interval list which are flying and landing time of the flight. \n",
    "How many airplanes are on the sky at most?\n",
    "\n",
    "Example\n",
    "For interval list [[1,10],[2,3],[5,8],[4,7]], return 3\n",
    "\n",
    "Note\n",
    "If landing and flying happens at the same time, we consider landing should happen at first."
   ]
  },
  {
   "cell_type": "code",
   "execution_count": null,
   "metadata": {
    "collapsed": true
   },
   "outputs": [],
   "source": [
    "sweep line solution.\n",
    "这里用一个heap， heap与stack相反，heap是可以弹出/压入最左侧的数"
   ]
  },
  {
   "cell_type": "code",
   "execution_count": 2,
   "metadata": {
    "collapsed": true
   },
   "outputs": [],
   "source": [
    "intervals = [[2,3],[1,10],[4,7],[5,8]]"
   ]
  },
  {
   "cell_type": "code",
   "execution_count": 5,
   "metadata": {
    "collapsed": true
   },
   "outputs": [],
   "source": [
    "import heapq\n",
    "def minMeetingRooms(intervals):\n",
    "        intervals.sort(key = lambda x: x[0]) \n",
    "        heap, ans = [], 0\n",
    "        for interval in intervals:\n",
    "            while heap and (heap[0]) <= interval[0]:\n",
    "                heapq.heappop(heap)\n",
    "            heapq.heappush(heap, interval[1])\n",
    "            ans = max(ans, len(heap))\n",
    "        return ans"
   ]
  },
  {
   "cell_type": "code",
   "execution_count": 6,
   "metadata": {
    "collapsed": false
   },
   "outputs": [
    {
     "data": {
      "text/plain": [
       "3"
      ]
     },
     "execution_count": 6,
     "metadata": {},
     "output_type": "execute_result"
    }
   ],
   "source": [
    "minMeetingRooms(intervals)"
   ]
  }
 ],
 "metadata": {
  "kernelspec": {
   "display_name": "Python [Root]",
   "language": "python",
   "name": "Python [Root]"
  },
  "language_info": {
   "codemirror_mode": {
    "name": "ipython",
    "version": 2
   },
   "file_extension": ".py",
   "mimetype": "text/x-python",
   "name": "python",
   "nbconvert_exporter": "python",
   "pygments_lexer": "ipython2",
   "version": "2.7.12"
  }
 },
 "nbformat": 4,
 "nbformat_minor": 0
}
