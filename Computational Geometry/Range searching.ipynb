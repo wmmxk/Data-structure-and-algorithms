{
 "cells": [
  {
   "cell_type": "code",
   "execution_count": null,
   "metadata": {
    "collapsed": true
   },
   "outputs": [],
   "source": [
    "http://stackoverflow.com/questions/18179680/finding-a-set-of-ranges-that-a-number-fall-in"
   ]
  },
  {
   "cell_type": "code",
   "execution_count": null,
   "metadata": {
    "collapsed": true
   },
   "outputs": [],
   "source": [
    "segment tree可以用于快速找出：\n",
    "一个array中一定index 范围内的minimum, maximum和summation."
   ]
  },
  {
   "cell_type": "code",
   "execution_count": null,
   "metadata": {
    "collapsed": true
   },
   "outputs": [],
   "source": [
    "segment tree的架构这里讲了：\n",
    "http://www.geeksforgeeks.org/segment-tree-set-1-sum-of-given-range/\n",
    "    原理和应用无python实现http://blog.jobbole.com/98591/"
   ]
  },
  {
   "cell_type": "code",
   "execution_count": null,
   "metadata": {
    "collapsed": true
   },
   "outputs": [],
   "source": [
    "#这个方法不work:\n",
    "# 定义一个segment tree 不需要数据，只需要两个边界（0-N），每个node的值赋值为零。用recursion的方法，把每个\n",
    " 子 Node的左右边界定义下来。\n",
    "# 而把一个array中的元素 附体 到这个segment tree上时，是一个给定这个element的index和value就可以 （需要logN)操作。\n",
    "\n",
    "class Node(object):\n",
    "    def __init__(self, data=None,LeftInex,=None,RightIndex=None):\n",
    "        self.LeftIndex = self.RightIndex = None\n",
    "        self.LeftChild = self.RightChild = None\n",
    "        self.value = data\n",
    "        \n",
    "    def construct(self,array,LeftIndex=):\n",
    "        self.LeftIndex=0\n",
    "        self.RightIndex=len(array)-1\n",
    "        \n",
    "        if len(array)!=1:\n",
    "           self.LeftChild = Node().construct(array[:len(array)/2+1])\n",
    "           self.LeftChild.LeftIndex = self.LeftIndex\n",
    "           self.LeftChild.RightIndex = self.LeftIndex+len(array)/2\n",
    "        \n",
    "           self.RightChild = Node().construct(array[len(array)/2+1:])\n",
    "           self.RightChild.LeftIndex = self.LeftChild.RightIndex+1\n",
    "           self.RightChild.RightIndex = self.RightInex\n",
    "        \n",
    "           self.value = self.LeftChild.value + self.RightChild.value\n",
    "        elif len(array)==1:\n",
    "            \n",
    "    "
   ]
  },
  {
   "cell_type": "code",
   "execution_count": 5,
   "metadata": {
    "collapsed": true
   },
   "outputs": [],
   "source": [
    "# 跑得通的code\n",
    "class Tree(object):\n",
    "       def __init__(self,l,r):\n",
    "          self.l = l\n",
    "          self.r = r\n",
    "          self.value = 0\n",
    "          self.left = None\n",
    "          self.right = None\n",
    "          if l < r:\n",
    "                 mid = (l + r)/2\n",
    "                 self.left = Tree(l,mid)\n",
    "                 self.right = Tree(mid+1,r)\n",
    "\n",
    "       def set_value(self,index,value):\n",
    "          if self.l == self.r:\n",
    "                 self.value = value\n",
    "                 return\n",
    "          mid = (self.l + self.r)/2\n",
    "          if index <= mid:\n",
    "                 self.left.set_value(index,value)\n",
    "          else:\n",
    "                 self.right.set_value(index,value)\n",
    "        #Propogate the changes after recursive call returns\n",
    "          self.value = self.left.value + self.right.value\n",
    "\n",
    "       def getSum(self,l,r):\n",
    "          #print \"query\",l,r,'\\t',(self.l + self.r)/2,'\\t',self.l,self.r,self.value\n",
    "          if l <= self.l and r>=self.r:\n",
    "                 return self.value\n",
    "          if self.l == self.r:\n",
    "                 return self.value\n",
    "\n",
    "          mid = (self.l + self.r)/2\n",
    "          if mid >= r:\n",
    "                 return self.left.getSum(l,r)\n",
    "          elif mid < l:\n",
    "                 return self.right.getSum(l,r)\n",
    "          else:\n",
    "                 return self.left.getSum(l,mid) + self.right.getSum(mid+1,r)\n"
   ]
  },
  {
   "cell_type": "code",
   "execution_count": 8,
   "metadata": {
    "collapsed": true
   },
   "outputs": [],
   "source": [
    "array= [1,3,5,7,9,11]\n",
    "tree = Tree(0,len(array)-1)\n",
    "for i in xrange(len(array)):\n",
    "    tree.set_value(i,array[i])"
   ]
  },
  {
   "cell_type": "code",
   "execution_count": 9,
   "metadata": {
    "collapsed": false
   },
   "outputs": [
    {
     "name": "stdout",
     "output_type": "stream",
     "text": [
      "query 1 3 \t2 \t0 5 36\n",
      "query 1 2 \t1 \t0 2 9\n",
      "query 1 1 \t0 \t0 1 4\n",
      "query 1 1 \t1 \t1 1 3\n",
      "query 2 2 \t2 \t2 2 5\n",
      "query 3 3 \t4 \t3 5 27\n",
      "query 3 3 \t3 \t3 4 16\n",
      "query 3 3 \t3 \t3 3 7\n"
     ]
    },
    {
     "data": {
      "text/plain": [
       "15"
      ]
     },
     "execution_count": 9,
     "metadata": {},
     "output_type": "execute_result"
    }
   ],
   "source": [
    "tree.getSum(1,3)"
   ]
  },
  {
   "cell_type": "code",
   "execution_count": null,
   "metadata": {
    "collapsed": true
   },
   "outputs": [],
   "source": [
    "# timing the construction and update\n",
    "N = 1024\n",
    "import time\n",
    "old =time.time()\n",
    "tree = Tree(0,N)\n",
    "for i in xrange(N+1):\n",
    "    tree.set_value(i,1)\n",
    "print tree.query(30,60)\n",
    "print time.time() -old\n",
    "\n",
    "\n"
   ]
  },
  {
   "cell_type": "code",
   "execution_count": null,
   "metadata": {
    "collapsed": true
   },
   "outputs": [],
   "source": [
    "另一个实现：\n",
    "https://discuss.leetcode.com/topic/30001/2-python-solutions-using-segment-tree"
   ]
  }
 ],
 "metadata": {
  "kernelspec": {
   "display_name": "Python [Root]",
   "language": "python",
   "name": "Python [Root]"
  },
  "language_info": {
   "codemirror_mode": {
    "name": "ipython",
    "version": 2
   },
   "file_extension": ".py",
   "mimetype": "text/x-python",
   "name": "python",
   "nbconvert_exporter": "python",
   "pygments_lexer": "ipython2",
   "version": "2.7.12"
  }
 },
 "nbformat": 4,
 "nbformat_minor": 0
}
