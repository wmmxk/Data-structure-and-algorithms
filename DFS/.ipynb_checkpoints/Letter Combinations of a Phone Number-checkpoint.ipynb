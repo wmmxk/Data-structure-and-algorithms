{
 "cells": [
  {
   "cell_type": "code",
   "execution_count": 4,
   "metadata": {
    "collapsed": true
   },
   "outputs": [],
   "source": [
    "keyPad = {'0':' ', '1':'*', '2':'abc', '3':'def', '4':'ghi',\n",
    "          '5':'jkl', '6':'mno', '7':'pqrs', '8':'tuv', '9':'wxyz'}"
   ]
  },
  {
   "cell_type": "code",
   "execution_count": null,
   "metadata": {
    "collapsed": true
   },
   "outputs": [],
   "source": [
    "此题的难点，不在于降低复杂度，怎么着都是n!，因为有那么多组合"
   ]
  },
  {
   "cell_type": "code",
   "execution_count": 5,
   "metadata": {
    "collapsed": true
   },
   "outputs": [],
   "source": [
    "#这个方法的backtracking\n",
    "class Solution(object):\n",
    "    def letterCombinations(self, digits):\n",
    "\n",
    "        res = []\n",
    "        if not digits:\n",
    "            return res\n",
    "        self.dfs(digits, \"\", res)\n",
    "        return res\n",
    "\n",
    "    def dfs(self, digits, string, res):\n",
    "        \n",
    "        if len(digits) == 0:\n",
    "            res.append(string)\n",
    "        else:\n",
    "            for char in keyPad[digits[0]]:\n",
    "                self.dfs(digits[1:], string + char, res)"
   ]
  },
  {
   "cell_type": "code",
   "execution_count": 6,
   "metadata": {
    "collapsed": false,
    "scrolled": true
   },
   "outputs": [
    {
     "data": {
      "text/plain": [
       "['ad', 'ae', 'af', 'bd', 'be', 'bf', 'cd', 'ce', 'cf']"
      ]
     },
     "execution_count": 6,
     "metadata": {},
     "output_type": "execute_result"
    }
   ],
   "source": [
    "mySolution = Solution()\n",
    "mySolution.letterCombinations(\"23\")"
   ]
  }
 ],
 "metadata": {
  "kernelspec": {
   "display_name": "Python [Root]",
   "language": "python",
   "name": "Python [Root]"
  },
  "language_info": {
   "codemirror_mode": {
    "name": "ipython",
    "version": 2
   },
   "file_extension": ".py",
   "mimetype": "text/x-python",
   "name": "python",
   "nbconvert_exporter": "python",
   "pygments_lexer": "ipython2",
   "version": "2.7.12"
  }
 },
 "nbformat": 4,
 "nbformat_minor": 0
}
