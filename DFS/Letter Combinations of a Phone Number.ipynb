{
 "cells": [
  {
   "cell_type": "code",
   "execution_count": 1,
   "metadata": {
    "collapsed": true
   },
   "outputs": [],
   "source": [
    "keyPad = {'0':' ', '1':'*', '2':'abc', '3':'def', '4':'ghi',\n",
    "          '5':'jkl', '6':'mno', '7':'pqrs', '8':'tuv', '9':'wxyz'}"
   ]
  },
  {
   "cell_type": "code",
   "execution_count": 2,
   "metadata": {
    "collapsed": false
   },
   "outputs": [
    {
     "ename": "SyntaxError",
     "evalue": "invalid syntax (<ipython-input-2-26089b406559>, line 1)",
     "output_type": "error",
     "traceback": [
      "\u001b[1;36m  File \u001b[1;32m\"<ipython-input-2-26089b406559>\"\u001b[1;36m, line \u001b[1;32m1\u001b[0m\n\u001b[1;33m    此题的难点，不在于降低复杂度，怎么着都是n!，因为有那么多组合\u001b[0m\n\u001b[1;37m    ^\u001b[0m\n\u001b[1;31mSyntaxError\u001b[0m\u001b[1;31m:\u001b[0m invalid syntax\n"
     ]
    }
   ],
   "source": [
    "此题的难点，不在于降低复杂度，怎么着都是n!，因为有那么多组合"
   ]
  },
  {
   "cell_type": "code",
   "execution_count": 10,
   "metadata": {
    "collapsed": true
   },
   "outputs": [],
   "source": [
    "#这个方法的backtracking\n",
    "\n",
    "def letterCombinations(digits):\n",
    "\n",
    "        res = []\n",
    "        #if not digits:\n",
    "         #   return res\n",
    "        dfs(digits, \"\", res)\n",
    "        return res\n",
    "\n",
    "def dfs(digits, string, res):\n",
    "        \n",
    "        if len(digits) == 0:\n",
    "            res.append(string)\n",
    "            print string\n",
    "        else:\n",
    "            for char in keyPad[digits[0]]:\n",
    "                dfs(digits[1:], string + char, res)"
   ]
  },
  {
   "cell_type": "code",
   "execution_count": 11,
   "metadata": {
    "collapsed": false,
    "scrolled": true
   },
   "outputs": [
    {
     "name": "stdout",
     "output_type": "stream",
     "text": [
      "ad\n",
      "ae\n",
      "af\n",
      "bd\n",
      "be\n",
      "bf\n",
      "cd\n",
      "ce\n",
      "cf\n"
     ]
    },
    {
     "data": {
      "text/plain": [
       "['ad', 'ae', 'af', 'bd', 'be', 'bf', 'cd', 'ce', 'cf']"
      ]
     },
     "execution_count": 11,
     "metadata": {},
     "output_type": "execute_result"
    }
   ],
   "source": [
    "letterCombinations(\"23\")"
   ]
  }
 ],
 "metadata": {
  "kernelspec": {
   "display_name": "Python [Root]",
   "language": "python",
   "name": "Python [Root]"
  },
  "language_info": {
   "codemirror_mode": {
    "name": "ipython",
    "version": 2
   },
   "file_extension": ".py",
   "mimetype": "text/x-python",
   "name": "python",
   "nbconvert_exporter": "python",
   "pygments_lexer": "ipython2",
   "version": "2.7.12"
  }
 },
 "nbformat": 4,
 "nbformat_minor": 0
}
