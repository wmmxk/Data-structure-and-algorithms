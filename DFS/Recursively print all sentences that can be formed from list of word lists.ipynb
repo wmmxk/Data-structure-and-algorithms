{
 "cells": [
  {
   "cell_type": "code",
   "execution_count": 8,
   "metadata": {
    "collapsed": false
   },
   "outputs": [
    {
     "name": "stdout",
     "output_type": "stream",
     "text": [
      "[[1, 3, 6, 7], [2, 3, 6, 7], [1, 4, 6, 7], [2, 4, 6, 7], [1, 5, 6, 7], [2, 5, 6, 7], [1, 3, 6, 8], [2, 3, 6, 8], [1, 4, 6, 8], [2, 4, 6, 8], [1, 5, 6, 8], [2, 5, 6, 8], [1, 3, 6, 9], [2, 3, 6, 9], [1, 4, 6, 9], [2, 4, 6, 9], [1, 5, 6, 9], [2, 5, 6, 9]]\n"
     ]
    }
   ],
   "source": [
    "a = [[1,2],[3,4,5],[6],[7,8,9]]\n",
    "\n",
    "r=[[]]\n",
    "for x in a:\n",
    "    t = []\n",
    "    for y in x:\n",
    "            for i in r:\n",
    "                t.append(i+[y])\n",
    "    r = t\n",
    "\n",
    "print r"
   ]
  },
  {
   "cell_type": "code",
   "execution_count": null,
   "metadata": {
    "collapsed": true
   },
   "outputs": [],
   "source": [
    "#r 存储了不包括当前list里的元素的可能的组合，\n",
    "# for y in x：\n",
    "     for i in r:\n",
    "        这个组合把r里的所有组合跟当前那个list里所有组合匹配\n",
    "# t means temporaty; r means result; t 不断归零"
   ]
  },
  {
   "cell_type": "code",
   "execution_count": 20,
   "metadata": {
    "collapsed": false,
    "scrolled": false
   },
   "outputs": [
    {
     "name": "stdout",
     "output_type": "stream",
     "text": [
      "1\n",
      "[[1], [2]] \n",
      "\n",
      "2\n",
      "[[1, 3], [2, 3], [1, 4], [2, 4], [1, 5], [2, 5]] \n",
      "\n",
      "3\n",
      "[[1, 3, 6], [2, 3, 6], [1, 4, 6], [2, 4, 6], [1, 5, 6], [2, 5, 6]] \n",
      "\n"
     ]
    }
   ],
   "source": [
    "a = [[1,2],[3,4,5],[6],[7,8,9]]\n",
    "\n",
    "r=[[]]\n",
    "j=1\n",
    "for x in a:\n",
    "    t = []\n",
    "    for y in x:\n",
    "            for i in r:\n",
    "                t.append(i+[y])\n",
    "    r = t\n",
    "    print j\n",
    "    print r,'\\n'\n",
    "    j+=1\n",
    "\n",
    "#print r"
   ]
  },
  {
   "cell_type": "code",
   "execution_count": 23,
   "metadata": {
    "collapsed": false,
    "scrolled": false
   },
   "outputs": [
    {
     "name": "stdout",
     "output_type": "stream",
     "text": [
      "1\n",
      "[[1, 2]] \n",
      "\n",
      "2\n",
      "[[1, 2, 3, 4, 5]] \n",
      "\n",
      "3\n",
      "[[1, 2, 3, 4, 5, 6]] \n",
      "\n",
      "4\n",
      "[[1, 2, 3, 4, 5, 6, 7, 8, 9]] \n",
      "\n"
     ]
    }
   ],
   "source": [
    "#下面个方法不行，这里有两个分叉，如果r里是多维，可分出更多，如果当下list有多个要分\n",
    "a = [[1,2],[3,4,5],[6],[7,8,9]]\n",
    "\n",
    "r=[[]]\n",
    "j=1\n",
    "for x in a:\n",
    "    t = []\n",
    "    for y in x:\n",
    "            for i in range(len(r)):\n",
    "                r[i]=r[i]+[y]\n",
    "    print j\n",
    "    print r,'\\n'\n",
    "    j+=1\n",
    "\n",
    "#print r"
   ]
  },
  {
   "cell_type": "code",
   "execution_count": 37,
   "metadata": {
    "collapsed": false
   },
   "outputs": [],
   "source": [
    "#dfs的精要是，dfs这个function一直往下递推，直到这里lists所有的行都找过了，每次调用dfs都会出现新的分值，但最先的分值，最后才历遍完。\n",
    "\n",
    "def Combinations(lists):\n",
    "\n",
    "        res = []\n",
    "        #if not digits:\n",
    "         #   return res\n",
    "        dfs(lists, [], res)\n",
    "        #return res\n",
    "\n",
    "def dfs(lists, string, res):\n",
    "        \n",
    "        if len(lists) == 0:\n",
    "            res.append(string)\n",
    "            print string\n",
    "        else:\n",
    "            for char in lists[0]:\n",
    "                dfs(lists[1:], string + [char], res)"
   ]
  },
  {
   "cell_type": "code",
   "execution_count": 39,
   "metadata": {
    "collapsed": false
   },
   "outputs": [
    {
     "name": "stdout",
     "output_type": "stream",
     "text": [
      "['I', 'play']\n",
      "['I', 'cheer']\n",
      "['You', 'play']\n",
      "['You', 'cheer']\n"
     ]
    }
   ],
   "source": [
    "A = [[\"I\",\"You\"],[\"play\",\"cheer\"]]\n",
    "Combinations(A)"
   ]
  }
 ],
 "metadata": {
  "kernelspec": {
   "display_name": "Python [Root]",
   "language": "python",
   "name": "Python [Root]"
  },
  "language_info": {
   "codemirror_mode": {
    "name": "ipython",
    "version": 2
   },
   "file_extension": ".py",
   "mimetype": "text/x-python",
   "name": "python",
   "nbconvert_exporter": "python",
   "pygments_lexer": "ipython2",
   "version": "2.7.12"
  }
 },
 "nbformat": 4,
 "nbformat_minor": 0
}
