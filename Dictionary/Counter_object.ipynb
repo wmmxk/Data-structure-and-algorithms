{
 "cells": [
  {
   "cell_type": "markdown",
   "metadata": {},
   "source": [
    "source: https://docs.python.org/2/library/collections.html"
   ]
  },
  {
   "cell_type": "markdown",
   "metadata": {},
   "source": [
    "讲解：https://pymotw.com/2/collections/counter.html"
   ]
  },
  {
   "cell_type": "code",
   "execution_count": 6,
   "metadata": {
    "collapsed": false
   },
   "outputs": [
    {
     "data": {
      "text/plain": [
       "Counter({'blue': 3, 'green': 1, 'red': 2})"
      ]
     },
     "execution_count": 6,
     "metadata": {},
     "output_type": "execute_result"
    }
   ],
   "source": [
    "# Tally occurrences of words in a list\n",
    "from collections import Counter\n",
    "cnt = Counter()\n",
    "for word in ['red', 'blue', 'red', 'green', 'blue', 'blue']:\n",
    "    cnt[word] += 1\n",
    "cnt\n",
    "\n"
   ]
  },
  {
   "cell_type": "code",
   "execution_count": 7,
   "metadata": {
    "collapsed": false
   },
   "outputs": [
    {
     "name": "stdout",
     "output_type": "stream",
     "text": [
      "Initial : Counter()\n",
      "Sequence: Counter({'a': 3, 'b': 2, 'c': 1, 'd': 1})\n",
      "Dict    : Counter({'d': 6, 'a': 4, 'b': 2, 'c': 1})\n"
     ]
    }
   ],
   "source": [
    "import collections\n",
    "\n",
    "c = collections.Counter()\n",
    "print 'Initial :', c\n",
    "\n",
    "c.update('abcdaab')\n",
    "print 'Sequence:', c\n",
    "\n",
    "c.update({'a':1, 'd':5})\n",
    "print 'Dict    :', c"
   ]
  },
  {
   "cell_type": "code",
   "execution_count": 8,
   "metadata": {
    "collapsed": false
   },
   "outputs": [
    {
     "name": "stdout",
     "output_type": "stream",
     "text": [
      "a : 3\n",
      "b : 2\n",
      "c : 1\n",
      "d : 1\n",
      "e : 0\n"
     ]
    }
   ],
   "source": [
    "import collections\n",
    "\n",
    "c = collections.Counter('abcdaab')\n",
    "\n",
    "for letter in 'abcde':\n",
    "    print '%s : %d' % (letter, c[letter])"
   ]
  },
  {
   "cell_type": "code",
   "execution_count": 4,
   "metadata": {
    "collapsed": false
   },
   "outputs": [
    {
     "data": {
      "text/plain": [
       "[('and', 19),\n",
       " ('the', 10),\n",
       " ('to', 7),\n",
       " ('of', 7),\n",
       " ('in', 7),\n",
       " ('cars', 6),\n",
       " ('autonomous', 6),\n",
       " ('a', 6),\n",
       " ('car', 5),\n",
       " ('with', 4)]"
      ]
     },
     "execution_count": 4,
     "metadata": {},
     "output_type": "execute_result"
    }
   ],
   "source": [
    "\n",
    "# Find the ten most common words in Hamlet\n",
    "import re,collections\n",
    "words = re.findall(r'\\w+', open('./data/test.txt').read().lower())\n",
    "collections.Counter(words).most_common(10)"
   ]
  }
 ],
 "metadata": {
  "kernelspec": {
   "display_name": "Python [Root]",
   "language": "python",
   "name": "Python [Root]"
  },
  "language_info": {
   "codemirror_mode": {
    "name": "ipython",
    "version": 2
   },
   "file_extension": ".py",
   "mimetype": "text/x-python",
   "name": "python",
   "nbconvert_exporter": "python",
   "pygments_lexer": "ipython2",
   "version": "2.7.12"
  }
 },
 "nbformat": 4,
 "nbformat_minor": 0
}
