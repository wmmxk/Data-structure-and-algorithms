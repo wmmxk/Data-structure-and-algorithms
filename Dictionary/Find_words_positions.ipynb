{
 "cells": [
  {
   "cell_type": "code",
   "execution_count": null,
   "metadata": {
    "collapsed": true
   },
   "outputs": [],
   "source": [
    "source: http://www.ardendertat.com/2011/12/20/programming-interview-questions-23-find-word-positions-in-text/"
   ]
  },
  {
   "cell_type": "code",
   "execution_count": null,
   "metadata": {
    "collapsed": true
   },
   "outputs": [],
   "source": [
    "Hashtable approach:\n",
    "    # complexity. O(n) for creating the hashtable\n",
    "    # O(1) for lookup"
   ]
  },
  {
   "cell_type": "code",
   "execution_count": 1,
   "metadata": {
    "collapsed": true
   },
   "outputs": [],
   "source": [
    "def getWords(text):\n",
    "    return re.sub(r'[^a-z0-9]',' ',text.lower()).split()"
   ]
  },
  {
   "cell_type": "code",
   "execution_count": 9,
   "metadata": {
    "collapsed": true
   },
   "outputs": [],
   "source": [
    "def createIndex(text):\n",
    "    index=collections.defaultdict(list)\n",
    "    words=getWords(text)\n",
    "    for pos, word in enumerate(words):\n",
    "        index[word].append(pos)\n",
    "    return index"
   ]
  },
  {
   "cell_type": "code",
   "execution_count": 10,
   "metadata": {
    "collapsed": true
   },
   "outputs": [],
   "source": [
    "def queryIndex(index, word):\n",
    "    if word in index:\n",
    "        return index[word]\n",
    "    else:\n",
    "        return []"
   ]
  },
  {
   "cell_type": "code",
   "execution_count": 11,
   "metadata": {
    "collapsed": false
   },
   "outputs": [],
   "source": [
    "text=\"Once we build the index we can answer any query. Given a word,\\\n",
    "just return its position array if it exists in the hashtable index. Otherwise,\\\n",
    "if the word isn’t present in the index, it means that the word doesn’t appear\\\n",
    "in the file, so return an empty list. Here’s the code:\""
   ]
  },
  {
   "cell_type": "code",
   "execution_count": 16,
   "metadata": {
    "collapsed": false
   },
   "outputs": [
    {
     "name": "stdout",
     "output_type": "stream",
     "text": [
      "['once', 'we', 'build', 'the', 'index', 'we', 'can', 'answer', 'any', 'query', 'given', 'a', 'word', 'just', 'return', 'its', 'position', 'array', 'if', 'it', 'exists', 'in', 'the', 'hashtable', 'index', 'otherwise', 'if', 'the', 'word', 'isn', 't', 'present', 'in', 'the', 'index', 'it', 'means', 'that', 'the', 'word', 'doesn', 't', 'appearin', 'the', 'file', 'so', 'return', 'an', 'empty', 'list', 'here', 's', 'the', 'code']\n"
     ]
    }
   ],
   "source": [
    "words = getWords(text)\n",
    "print words"
   ]
  },
  {
   "cell_type": "code",
   "execution_count": 14,
   "metadata": {
    "collapsed": false
   },
   "outputs": [],
   "source": [
    "import collections, re\n",
    "index = createIndex(text)\n"
   ]
  },
  {
   "cell_type": "code",
   "execution_count": null,
   "metadata": {
    "collapsed": true
   },
   "outputs": [],
   "source": [
    "# Trie approach  好像对于找Index没用Trie里那个position attribute. insert a word时，把flag 标记为end时，同时\n",
    "# 把position给标定上。"
   ]
  },
  {
   "cell_type": "code",
   "execution_count": 17,
   "metadata": {
    "collapsed": true
   },
   "outputs": [],
   "source": [
    "class Node:\n",
    "    def __init__(self, letter):\n",
    "        self.letter=letter\n",
    "        self.isTerminal=False\n",
    "        self.children={}\n",
    "        self.positions=[]"
   ]
  },
  {
   "cell_type": "code",
   "execution_count": 18,
   "metadata": {
    "collapsed": true
   },
   "outputs": [],
   "source": [
    "class Trie:\n",
    "    def __init__(self):\n",
    "        self.root=Node('')        \n",
    " \n",
    "    def __contains__(self, word):\n",
    "        current=self.root\n",
    "        for letter in word:\n",
    "            if letter not in current.children:\n",
    "                return False\n",
    "            current=current.children[letter]\n",
    "        return current.isTerminal\n",
    " \n",
    "    def __getitem__(self, word):\n",
    "        current=self.root\n",
    "        for letter in word:\n",
    "            if letter not in current.children:\n",
    "                current.children[letter]=Node(letter)\n",
    "            current=current.children[letter]\n",
    "        current.isTerminal=True\n",
    "        return current.positions\n",
    " \n",
    "    def __str__(self):\n",
    "        self.output([self.root])\n",
    "        return ''\n",
    " \n",
    "    def output(self, currentPath, indent=''):\n",
    "        #Depth First Search\n",
    "        currentNode=currentPath[-1]\n",
    "        if currentNode.isTerminal:\n",
    "            word=''.join([node.letter for node in currentPath])\n",
    "            print indent+word+' '+str(currentNode.positions)\n",
    "            indent+='  '\n",
    "        for letter, node in sorted(currentNode.children.items()):\n",
    "            self.output(currentPath[:]+[node], indent)\n"
   ]
  },
  {
   "cell_type": "code",
   "execution_count": 26,
   "metadata": {
    "collapsed": true
   },
   "outputs": [],
   "source": [
    "text=\"good bye goodbye good\"\n",
    "trie=Trie()\n",
    "words=getWords(text)\n",
    "for pos, word in enumerate(words):\n",
    "        trie[word].append(pos)"
   ]
  },
  {
   "cell_type": "code",
   "execution_count": 27,
   "metadata": {
    "collapsed": false
   },
   "outputs": [
    {
     "data": {
      "text/plain": [
       "['good', 'bye', 'goodbye', 'good']"
      ]
     },
     "execution_count": 27,
     "metadata": {},
     "output_type": "execute_result"
    }
   ],
   "source": [
    "words"
   ]
  },
  {
   "cell_type": "code",
   "execution_count": 29,
   "metadata": {
    "collapsed": false
   },
   "outputs": [
    {
     "data": {
      "text/plain": [
       "[0, 3]"
      ]
     },
     "execution_count": 29,
     "metadata": {},
     "output_type": "execute_result"
    }
   ],
   "source": [
    "trie[words[0]]"
   ]
  }
 ],
 "metadata": {
  "kernelspec": {
   "display_name": "Python [Root]",
   "language": "python",
   "name": "Python [Root]"
  },
  "language_info": {
   "codemirror_mode": {
    "name": "ipython",
    "version": 2
   },
   "file_extension": ".py",
   "mimetype": "text/x-python",
   "name": "python",
   "nbconvert_exporter": "python",
   "pygments_lexer": "ipython2",
   "version": "2.7.12"
  }
 },
 "nbformat": 4,
 "nbformat_minor": 0
}
