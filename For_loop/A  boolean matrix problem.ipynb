{
 "cells": [
  {
   "cell_type": "code",
   "execution_count": null,
   "metadata": {
    "collapsed": true
   },
   "outputs": [],
   "source": [
    "#source:http://www.geeksforgeeks.org/a-boolean-matrix-question/"
   ]
  },
  {
   "cell_type": "code",
   "execution_count": 8,
   "metadata": {
    "collapsed": false,
    "scrolled": true
   },
   "outputs": [
    {
     "data": {
      "text/plain": [
       "[[1, 0, 0, 0], [1, 1, 1, 1], [0, 0, 1, 1]]"
      ]
     },
     "execution_count": 8,
     "metadata": {},
     "output_type": "execute_result"
    }
   ],
   "source": [
    "import random\n",
    "nums = [[random.randint(0,1) for i in range(4)] for j in range(3)]\n",
    "nums"
   ]
  },
  {
   "cell_type": "code",
   "execution_count": 22,
   "metadata": {
    "collapsed": true
   },
   "outputs": [],
   "source": [
    "def conversion(nums):\n",
    "    n = len(nums)\n",
    "    m = len(nums[0])\n",
    "    rowflag = [0]*n\n",
    "    colflag = [0]*m\n",
    "    for i in range(n):\n",
    "        for j in range(m):\n",
    "            if nums[i][j] ==1:\n",
    "               rowflag[i]=1\n",
    "               colflag[j]=1\n",
    "    \n",
    "    for i in range(n):\n",
    "        for j in range(m):\n",
    "            if rowflag[i] ==1 or colflag[j]==1:\n",
    "                nums[i][j]=1\n",
    "    #return c\n",
    "    \n",
    "                \n",
    "    "
   ]
  },
  {
   "cell_type": "code",
   "execution_count": 24,
   "metadata": {
    "collapsed": false,
    "scrolled": true
   },
   "outputs": [],
   "source": [
    "conversion(nums)"
   ]
  },
  {
   "cell_type": "code",
   "execution_count": 25,
   "metadata": {
    "collapsed": false,
    "scrolled": false
   },
   "outputs": [
    {
     "data": {
      "text/plain": [
       "[[1, 1, 1, 1], [1, 1, 1, 1], [1, 1, 1, 1]]"
      ]
     },
     "execution_count": 25,
     "metadata": {},
     "output_type": "execute_result"
    }
   ],
   "source": [
    "nums"
   ]
  },
  {
   "cell_type": "code",
   "execution_count": 28,
   "metadata": {
    "collapsed": true
   },
   "outputs": [],
   "source": [
    "def conversion(nums):\n",
    "    n = len(nums)\n",
    "    m = len(nums[0])\n",
    "    \n",
    "    for i in range(n):\n",
    "        for j in range(m):\n",
    "            if nums[i][j] ==1:\n",
    "               nums[0][j]=1\n",
    "               nums[i][0]=1\n",
    "    \n",
    "    for i in range(n):\n",
    "        for j in range(m):\n",
    "            if nums[0][j] ==1 or nums[i][0]==1:\n",
    "                nums[i][j]=1\n",
    "    #return c\n",
    "    \n",
    "                \n",
    "    "
   ]
  },
  {
   "cell_type": "code",
   "execution_count": 29,
   "metadata": {
    "collapsed": false
   },
   "outputs": [],
   "source": [
    "conversion(nums)"
   ]
  }
 ],
 "metadata": {
  "kernelspec": {
   "display_name": "Python [Root]",
   "language": "python",
   "name": "Python [Root]"
  },
  "language_info": {
   "codemirror_mode": {
    "name": "ipython",
    "version": 2
   },
   "file_extension": ".py",
   "mimetype": "text/x-python",
   "name": "python",
   "nbconvert_exporter": "python",
   "pygments_lexer": "ipython2",
   "version": "2.7.12"
  }
 },
 "nbformat": 4,
 "nbformat_minor": 0
}
