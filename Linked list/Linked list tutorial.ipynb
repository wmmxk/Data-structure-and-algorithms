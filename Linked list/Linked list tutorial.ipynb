{
 "cells": [
  {
   "cell_type": "code",
   "execution_count": null,
   "metadata": {
    "collapsed": true
   },
   "outputs": [],
   "source": [
    "source:http://www.openbookproject.net/thinkcs/python/english2e/ch18.html"
   ]
  },
  {
   "cell_type": "code",
   "execution_count": 1,
   "metadata": {
    "collapsed": true
   },
   "outputs": [],
   "source": [
    "class Node:\n",
    "    def __init__(self, cargo=None, next=None):\n",
    "        self.cargo = cargo\n",
    "        self.next  = next\n",
    "\n",
    "    def __str__(self):\n",
    "        return str(self.cargo)"
   ]
  },
  {
   "cell_type": "code",
   "execution_count": 4,
   "metadata": {
    "collapsed": true
   },
   "outputs": [],
   "source": [
    "node1=Node(1)\n",
    "node2=Node(2)\n",
    "node3=Node(3)"
   ]
  },
  {
   "cell_type": "code",
   "execution_count": 5,
   "metadata": {
    "collapsed": false
   },
   "outputs": [],
   "source": [
    ">>> node1.next = node2\n",
    ">>> node2.next = node3"
   ]
  },
  {
   "cell_type": "code",
   "execution_count": 6,
   "metadata": {
    "collapsed": false,
    "scrolled": true
   },
   "outputs": [
    {
     "name": "stdout",
     "output_type": "stream",
     "text": [
      "1\n"
     ]
    }
   ],
   "source": [
    "print node1"
   ]
  },
  {
   "cell_type": "code",
   "execution_count": null,
   "metadata": {
    "collapsed": true
   },
   "outputs": [],
   "source": [
    "#这里递归调用print_backward时，最后一个node的返回值，跟其它node的返回值不同：\n",
    "#最后一个node结束到if list==None那儿，而其它node结束到print head那儿。"
   ]
  },
  {
   "cell_type": "code",
   "execution_count": 11,
   "metadata": {
    "collapsed": true
   },
   "outputs": [],
   "source": [
    "def print_backward(list):\n",
    "    if list == None: return \"end\"\n",
    "    head = list\n",
    "    tail = list.next\n",
    "    print print_backward(tail)\n",
    "    print head\n",
    "    return \"Not last\""
   ]
  },
  {
   "cell_type": "code",
   "execution_count": 12,
   "metadata": {
    "collapsed": false,
    "scrolled": true
   },
   "outputs": [
    {
     "name": "stdout",
     "output_type": "stream",
     "text": [
      "end\n",
      "3\n",
      "Not last\n",
      "2\n",
      "Not last\n",
      "1\n"
     ]
    },
    {
     "data": {
      "text/plain": [
       "'Not last'"
      ]
     },
     "execution_count": 12,
     "metadata": {},
     "output_type": "execute_result"
    }
   ],
   "source": [
    "print_backward(node1)"
   ]
  },
  {
   "cell_type": "code",
   "execution_count": null,
   "metadata": {
    "collapsed": true
   },
   "outputs": [],
   "source": [
    "source: http://quiz.geeksforgeeks.org/linked-list-set-3-deleting-node/"
   ]
  },
  {
   "cell_type": "code",
   "execution_count": 27,
   "metadata": {
    "collapsed": false,
    "scrolled": true
   },
   "outputs": [
    {
     "name": "stdout",
     "output_type": "stream",
     "text": [
      "Created Linked List: \n",
      " 2  3  1  7 \n",
      "Linked List after Deletion of 1:\n",
      " 2  3  7\n"
     ]
    }
   ],
   "source": [
    "# Python program to delete a node from linked list\n",
    " \n",
    "# Node class \n",
    "class Node:\n",
    " \n",
    "    # Constructor to initialize the node object\n",
    "    def __init__(self, data):\n",
    "        self.data = data\n",
    "        self.next = None\n",
    " \n",
    "class LinkedList:\n",
    " \n",
    "    # Function to initialize head\n",
    "    def __init__(self):\n",
    "        self.head = None\n",
    " \n",
    "    # Function to insert a new node at the beginning\n",
    "    def push(self, new_data):\n",
    "        new_node = Node(new_data)\n",
    "        new_node.next = self.head\n",
    "        self.head = new_node\n",
    " \n",
    "    # Given a reference to the head of a list and a key,\n",
    "    # delete the first occurence of key in linked list\n",
    "    def delete_a_number(self, key):\n",
    "         \n",
    "        # Store head node\n",
    "        temp = self.head\n",
    " \n",
    "        # If head node itself holds the key to be deleted\n",
    "        if (temp is not None):\n",
    "            if (temp.data == key):\n",
    "                self.head = temp.next\n",
    "                temp = None\n",
    "                return\n",
    " \n",
    "        # Search for the key to be deleted, keep track of the\n",
    "        # previous node as we need to change 'prev.next'\n",
    "            while(temp is not None):\n",
    "                if temp.data == key:\n",
    "                  break\n",
    "                prev = temp\n",
    "                temp = temp.next\n",
    " \n",
    "        # if key was not present in linked list\n",
    "            if(temp == None):\n",
    "              print \"No such node\"\n",
    "              return \n",
    " \n",
    "        # Unlink the node from linked list\n",
    "            prev.next = temp.next\n",
    " \n",
    "            temp = None\n",
    "        else:\n",
    "            print \"Empty list\"\n",
    "    def delete_a_node(self,current_node):\n",
    "         pass\n",
    " \n",
    " \n",
    "    # Utility function to print the linked LinkedList\n",
    "    def printList(self):\n",
    "        temp = self.head\n",
    "        while(temp):\n",
    "            print \" %d\" %(temp.data),\n",
    "            temp = temp.next\n",
    " \n",
    " \n",
    "# Driver program\n",
    "llist = LinkedList()\n",
    "llist.push(7)\n",
    "llist.push(1)\n",
    "llist.push(3)\n",
    "llist.push(2)\n",
    "mylist =llist\n",
    " \n",
    "print \"Created Linked List: \"\n",
    "llist.printList()\n",
    "llist.delete_a_number(1) \n",
    "print \"\\nLinked List after Deletion of 1:\"\n",
    "llist.printList()\n",
    " \n",
    "# This code is contributed by Nikhil Kumar Singh (nickzuck_007)\n"
   ]
  },
  {
   "cell_type": "code",
   "execution_count": null,
   "metadata": {
    "collapsed": true
   },
   "outputs": [],
   "source": [
    "#双向的linked list"
   ]
  },
  {
   "cell_type": "code",
   "execution_count": null,
   "metadata": {
    "collapsed": true
   },
   "outputs": [],
   "source": [
    "# 你原来的push方法有一个空 Node \n",
    "# reverse之后，这个空Node打头，而你print的条件是：while(current_node.data)，所以就什么也没print"
   ]
  },
  {
   "cell_type": "code",
   "execution_count": 142,
   "metadata": {
    "collapsed": false
   },
   "outputs": [
    {
     "name": "stdout",
     "output_type": "stream",
     "text": [
      "\n"
     ]
    }
   ],
   "source": [
    "# Python program to delete a node from linked list\n",
    " \n",
    "# Node class \n",
    "class Node:\n",
    " \n",
    "    # Constructor to initialize the node object\n",
    "    def __init__(self, data=None):\n",
    "        self.data = data\n",
    "        self.next = None\n",
    "        self.previous = None\n",
    " \n",
    "class LinkedList:\n",
    " \n",
    "    # Function to initialize head\n",
    "    def __init__(self):\n",
    "        self.head = Node()\n",
    " \n",
    "    # Function to insert a new node at the beginning\n",
    "    def push(self, new_data):\n",
    "        if self.head.data:\n",
    "           new_node = Node(new_data)\n",
    "           new_node.next = self.head\n",
    "           self.head.previous = new_node\n",
    "           self.head = new_node\n",
    "        else:\n",
    "           self.head.data=new_data\n",
    " \n",
    "    def delete_a_node(self,current_node):\n",
    "        if current_node != self.head:\n",
    "           previous_node = current_node.previous\n",
    "           previous_node.next=current_node.next\n",
    "        else:\n",
    "           current_head = self.head\n",
    "           self.head = current_head.next\n",
    "           self.head.previous=None\n",
    "           current_head=None\n",
    "           \n",
    "\n",
    "    # Utility function to print the linked LinkedList\n",
    "    def printList(self):\n",
    "        current_node = self.head\n",
    "        while(current_node):\n",
    "            print \" %d\" %(current_node.data),\n",
    "            current_node = current_node.next\n",
    "     \n",
    "    def reverse(self):\n",
    "\n",
    "        currentNode = self.head\n",
    "        while(currentNode is not None):\n",
    "            \n",
    "            previousNode = currentNode\n",
    "            nextNode = currentNode.next\n",
    "            \n",
    "            currentNode.next,currentNode.previous = currentNode.previous, currentNode.next\n",
    "               # currentNode将是nextNode的 previous\n",
    "            currentNode = nextNode\n",
    "        self.head = previousNode\n",
    "\n",
    " \n",
    "# Driver program\n",
    "llist = LinkedList()\n",
    "llist.push(7)\n",
    "llist.push(1)\n",
    "llist.push(3)\n",
    "llist.push(2)\n",
    "mylist =llist\n",
    " "
   ]
  },
  {
   "cell_type": "code",
   "execution_count": 143,
   "metadata": {
    "collapsed": false,
    "scrolled": true
   },
   "outputs": [],
   "source": [
    "mylist.head.previous"
   ]
  },
  {
   "cell_type": "code",
   "execution_count": 144,
   "metadata": {
    "collapsed": false,
    "scrolled": true
   },
   "outputs": [
    {
     "name": "stdout",
     "output_type": "stream",
     "text": [
      "7\n"
     ]
    }
   ],
   "source": [
    "print mylist.head.next.next.next.data"
   ]
  },
  {
   "cell_type": "code",
   "execution_count": 145,
   "metadata": {
    "collapsed": false
   },
   "outputs": [
    {
     "name": "stdout",
     "output_type": "stream",
     "text": [
      " 2  3  1  7\n"
     ]
    }
   ],
   "source": [
    "mylist.printList()"
   ]
  },
  {
   "cell_type": "code",
   "execution_count": 146,
   "metadata": {
    "collapsed": false
   },
   "outputs": [],
   "source": [
    "mylist.reverse()"
   ]
  },
  {
   "cell_type": "code",
   "execution_count": 148,
   "metadata": {
    "collapsed": false
   },
   "outputs": [
    {
     "name": "stdout",
     "output_type": "stream",
     "text": [
      " 7  1  3  2\n"
     ]
    }
   ],
   "source": [
    "mylist.printList()"
   ]
  },
  {
   "cell_type": "code",
   "execution_count": 43,
   "metadata": {
    "collapsed": false
   },
   "outputs": [],
   "source": [
    "def delete_low_high(mylist,low,high):\n",
    "    current=mylist.head\n",
    "    while (current):\n",
    "        if current.data<high and current.data>low:\n",
    "            mylist.delete_a_node(current)\n",
    "        current = current.next"
   ]
  }
 ],
 "metadata": {
  "kernelspec": {
   "display_name": "Python [Root]",
   "language": "python",
   "name": "Python [Root]"
  },
  "language_info": {
   "codemirror_mode": {
    "name": "ipython",
    "version": 2
   },
   "file_extension": ".py",
   "mimetype": "text/x-python",
   "name": "python",
   "nbconvert_exporter": "python",
   "pygments_lexer": "ipython2",
   "version": "2.7.12"
  }
 },
 "nbformat": 4,
 "nbformat_minor": 0
}
