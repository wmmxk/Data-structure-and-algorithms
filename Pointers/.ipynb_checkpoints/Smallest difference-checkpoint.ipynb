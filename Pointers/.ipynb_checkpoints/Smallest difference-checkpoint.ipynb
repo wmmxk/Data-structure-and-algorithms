{
 "cells": [
  {
   "cell_type": "code",
   "execution_count": null,
   "metadata": {
    "collapsed": true
   },
   "outputs": [],
   "source": [
    "source: http://www.jianshu.com/p/d87419b7b0cc"
   ]
  },
  {
   "cell_type": "code",
   "execution_count": null,
   "metadata": {
    "collapsed": true
   },
   "outputs": [],
   "source": [
    "找到局部的趋势，然后加以利用:\n",
    "先把两个list 从小到大排序:\n",
    "然后两个指针分别指向两个数组的起始点，每次计算difference，谁小向前移动谁\n",
    "比如： \n",
    "A=[3 6 7 10]\n",
    "B=[4 5 6 7]\n",
    "如果暴力去找当A中取3第一个元素，B可以取任何值，但是如果B[0]>A[0]，那么B[0]往后的元素与A[0]的差，都更大，\n",
    "\n",
    "这里相当与找出每个元素对应的差别最小的组合，如果下个组合的差别比它小， 跟新之"
   ]
  },
  {
   "cell_type": "code",
   "execution_count": null,
   "metadata": {
    "collapsed": true
   },
   "outputs": [],
   "source": [
    "class Solution:\n",
    "    # @param A, B: Two lists of integer\n",
    "    # @return: An integer\n",
    "    def smallestDifference(self, A, B):\n",
    "        # write your code here\n",
    "        A = sorted(A)\n",
    "        B = sorted(B)\n",
    "        res = sys.maxint\n",
    "        p1, p2 = 0, 0\n",
    "        while p1 < len(A) and p2 < len(B):\n",
    "            if A[p1] > B[p2]:\n",
    "                res = min(res, A[p1] - B[p2])\n",
    "                p2 += 1\n",
    "            else:\n",
    "                res = min(res, B[p2] - A[p1])\n",
    "                p1 += 1\n",
    "        return res"
   ]
  }
 ],
 "metadata": {
  "kernelspec": {
   "display_name": "Python [Root]",
   "language": "python",
   "name": "Python [Root]"
  },
  "language_info": {
   "codemirror_mode": {
    "name": "ipython",
    "version": 2
   },
   "file_extension": ".py",
   "mimetype": "text/x-python",
   "name": "python",
   "nbconvert_exporter": "python",
   "pygments_lexer": "ipython2",
   "version": "2.7.12"
  }
 },
 "nbformat": 4,
 "nbformat_minor": 0
}
