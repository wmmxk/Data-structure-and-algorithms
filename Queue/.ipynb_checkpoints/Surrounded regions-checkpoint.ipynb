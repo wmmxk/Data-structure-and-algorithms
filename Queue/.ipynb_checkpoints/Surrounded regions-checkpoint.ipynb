{
 "cells": [
  {
   "cell_type": "code",
   "execution_count": null,
   "metadata": {
    "collapsed": true
   },
   "outputs": [],
   "source": [
    "source: http://www.jianshu.com/p/3ea288ffdb68"
   ]
  },
  {
   "cell_type": "code",
   "execution_count": null,
   "metadata": {
    "collapsed": true
   },
   "outputs": [],
   "source": [
    "solution:\n",
    "http://yucoding.blogspot.com/2013/08/leetcode-question-131-surrounded-regions.html"
   ]
  },
  {
   "cell_type": "code",
   "execution_count": null,
   "metadata": {
    "collapsed": true
   },
   "outputs": [],
   "source": [
    "你把breadth first search之外的东西放到function之外了。"
   ]
  },
  {
   "cell_type": "code",
   "execution_count": null,
   "metadata": {
    "collapsed": true
   },
   "outputs": [],
   "source": [
    "#这里讲了用BFS找出一个graph中一个node所链接的nodes;\n",
    "Connected Component"
   ]
  },
  {
   "cell_type": "code",
   "execution_count": 9,
   "metadata": {
    "collapsed": true
   },
   "outputs": [],
   "source": [
    "board= [\n",
    "    [\"X\",\"X\",\"X\",\"X\"],\n",
    "    [\"X\",\"0\",\"X\",\"X\"],\n",
    "    [\"0\",\"X\",\"0\",\"X\"],\n",
    "    [\"X\",\"0\",\"0\",\"X\"]\n",
    "]\n",
    "row = len(board)\n",
    "col = len(board[0])\n",
    "bb = [[False for j in xrange(0,col)] for i in xrange(0,row)]"
   ]
  },
  {
   "cell_type": "code",
   "execution_count": null,
   "metadata": {
    "collapsed": true
   },
   "outputs": [],
   "source": [
    "#记录下，四个边上为0的元素的index, 存到que里，同时对应的bb中元素update成True\n",
    "que = []\n",
    "for i in xrange(0,col):\n",
    "            if board[0][i]=='O':\n",
    "                bb[0][i]=True\n",
    "                que.append([0,i])\n",
    "            if board[row-1][i]=='O':\n",
    "                bb[row-1][i]=True\n",
    "                que.append([row-1,i])\n",
    "                 \n",
    "for i in xrange(0,row):\n",
    "            if board[i][0]=='O':\n",
    "                bb[i][0]=True\n",
    "                que.append([i,0])\n",
    "            if board[i][col-1]=='O':\n",
    "                bb[i][col-1]=True\n",
    "                que.append([i,col-1])"
   ]
  },
  {
   "cell_type": "code",
   "execution_count": 11,
   "metadata": {
    "collapsed": false
   },
   "outputs": [
    {
     "name": "stdout",
     "output_type": "stream",
     "text": [
      "[1, 2, 3]\n",
      "[2, 3]\n"
     ]
    }
   ],
   "source": [
    "这里是用queue来实现BFS,"
   ]
  },
  {
   "cell_type": "code",
   "execution_count": null,
   "metadata": {
    "collapsed": true
   },
   "outputs": [],
   "source": [
    "def solve(board):     \n",
    "        while que:\n",
    "            i = que[0][0]\n",
    "            j = que[0][1]\n",
    "            que.pop(0)\n",
    "            if (i-1>0 and board[i-1][j]=='O' and bb[i-1][j]==False):\n",
    "                bb[i-1][j]=True\n",
    "                que.append([i-1,j])\n",
    "            if (i+1<row-1 and board[i+1][j]=='O' and bb[i+1][j]==False):\n",
    "                bb[i+1][j]=True\n",
    "                que.append([i+1,j])\n",
    "            if (j-1>0 and board[i][j-1]=='O' and bb[i][j-1]==False):\n",
    "                bb[i][j-1]=True\n",
    "                que.append([i,j-1])\n",
    "            if (j+1<col-1 and board[i][j+1]=='O' and bb[i][j+1]==False):\n",
    "                bb[i][j+1]=True\n",
    "                que.append([i,j+1])\n",
    "                 \n",
    "        for i in xrange(0,row):\n",
    "            for j in xrange(0,col):\n",
    "                if board[i][j]=='O' and bb[i][j]==False:\n",
    "                    board[i][j] = 'X'\n",
    "        return\n",
    "                 "
   ]
  }
 ],
 "metadata": {
  "kernelspec": {
   "display_name": "Python [Root]",
   "language": "python",
   "name": "Python [Root]"
  },
  "language_info": {
   "codemirror_mode": {
    "name": "ipython",
    "version": 2
   },
   "file_extension": ".py",
   "mimetype": "text/x-python",
   "name": "python",
   "nbconvert_exporter": "python",
   "pygments_lexer": "ipython2",
   "version": "2.7.12"
  }
 },
 "nbformat": 4,
 "nbformat_minor": 0
}
