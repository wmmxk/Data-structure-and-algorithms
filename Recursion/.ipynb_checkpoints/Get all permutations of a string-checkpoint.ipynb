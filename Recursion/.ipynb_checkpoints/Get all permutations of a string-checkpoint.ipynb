{
 "cells": [
  {
   "cell_type": "code",
   "execution_count": 3,
   "metadata": {
    "collapsed": false
   },
   "outputs": [],
   "source": [
    "def permutations(word):\n",
    "    if len(word)<=1:\n",
    "        return [word]\n",
    " \n",
    "    #get all permutations of length N-1\n",
    "    perms=permutations(word[1:])\n",
    "    char=word[0]\n",
    "    result=[]\n",
    "    #iterate over all permutations of length N-1\n",
    "    for perm in perms:\n",
    "        #insert the character into every possible location\n",
    "        for i in range(len(perm)+1):\n",
    "            result.append(perm[:i] + char + perm[i:])\n",
    "    return result"
   ]
  },
  {
   "cell_type": "code",
   "execution_count": 5,
   "metadata": {
    "collapsed": false
   },
   "outputs": [
    {
     "data": {
      "text/plain": [
       "24"
      ]
     },
     "execution_count": 5,
     "metadata": {},
     "output_type": "execute_result"
    }
   ],
   "source": [
    "len(permutations(\"good\"))"
   ]
  }
 ],
 "metadata": {
  "kernelspec": {
   "display_name": "Python [Root]",
   "language": "python",
   "name": "Python [Root]"
  },
  "language_info": {
   "codemirror_mode": {
    "name": "ipython",
    "version": 2
   },
   "file_extension": ".py",
   "mimetype": "text/x-python",
   "name": "python",
   "nbconvert_exporter": "python",
   "pygments_lexer": "ipython2",
   "version": "2.7.12"
  }
 },
 "nbformat": 4,
 "nbformat_minor": 0
}
