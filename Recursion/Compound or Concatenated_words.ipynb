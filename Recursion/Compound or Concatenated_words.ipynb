{
 "cells": [
  {
   "cell_type": "markdown",
   "metadata": {},
   "source": [
    "source: https://github.com/kamyu104/LeetCode/blob/master/Python/concatenated-words.py"
   ]
  },
  {
   "cell_type": "code",
   "execution_count": null,
   "metadata": {
    "collapsed": true
   },
   "outputs": [],
   "source": [
    "这里用了三种方法：\n",
    "1. 直接一个词一个词判断。\n",
    "2. Recursion."
   ]
  },
  {
   "cell_type": "code",
   "execution_count": null,
   "metadata": {
    "collapsed": true
   },
   "outputs": [],
   "source": [
    "#把所有的可能的substring都检测一遍\n",
    "#下面的解答，又稍微提高了效率，如果i=0时没有word[0:j]在lookup里的，就不往下查了。（continue那个）\n",
    "#word[0:len(word)+1]肯定在面,所以判断word[i:j]在lookup里不，是要判断j-i\n",
    "# 所有的words要转化成一个set，然后查找word是否in words"
   ]
  },
  {
   "cell_type": "code",
   "execution_count": 26,
   "metadata": {
    "collapsed": true
   },
   "outputs": [],
   "source": [
    "def ConcatenatedWords(words):\n",
    "        \"\"\"\n",
    "        :type words: List[str]\n",
    "        :rtype: List[str]\n",
    "        \"\"\"\n",
    "        lookup = set(words)\n",
    "        result = []\n",
    "        for word in words: \n",
    "            dp = [False] * (len(word)+1)\n",
    "            dp[0] = True\n",
    "            for i in xrange(len(word)):\n",
    "                if not dp[i]:\n",
    "                    continue\n",
    "                \n",
    "                for j in xrange(i+1, len(word)+1):\n",
    "                    if j - i < len(word) and word[i:j] in lookup: \n",
    "                        dp[j] = True\n",
    "\n",
    "                if dp[len(word)]:\n",
    "                    result.append(word)\n",
    "                    break\n",
    "\n",
    "        return result"
   ]
  },
  {
   "cell_type": "code",
   "execution_count": 27,
   "metadata": {
    "collapsed": true
   },
   "outputs": [],
   "source": [
    "words=[\"good\",\"bye\",\"goodbye\",\"goodbyegood\"]"
   ]
  },
  {
   "cell_type": "code",
   "execution_count": 28,
   "metadata": {
    "collapsed": false
   },
   "outputs": [
    {
     "data": {
      "text/plain": [
       "['goodbye', 'goodbyegood']"
      ]
     },
     "execution_count": 28,
     "metadata": {},
     "output_type": "execute_result"
    }
   ],
   "source": [
    "ConcatenatedWords(words)"
   ]
  },
  {
   "cell_type": "code",
   "execution_count": 25,
   "metadata": {
    "collapsed": true
   },
   "outputs": [],
   "source": [
    "#recursion 的方法：把每个词截成两半，然后查找（假设你有了这个查找方法），为什么下面的方法前一半是直接找的。\n",
    "#http://bookshadow.com/weblog/2016/12/18/leetcode-concatenated-words/"
   ]
  },
  {
   "cell_type": "code",
   "execution_count": null,
   "metadata": {
    "collapsed": true
   },
   "outputs": [],
   "source": [
    "search function里那个判断还是需要的，在递归调用时"
   ]
  },
  {
   "cell_type": "code",
   "execution_count": 33,
   "metadata": {
    "collapsed": true
   },
   "outputs": [],
   "source": [
    "class Solution(object):\n",
    "    def findAllConcatenatedWordst(self, words):\n",
    "        \"\"\"\n",
    "        :type words: List[str]\n",
    "        :rtype: List[str]\n",
    "        \"\"\"\n",
    "        ans = []\n",
    "        self.wordSet = set(words)\n",
    "        for word in words:\n",
    "            print word\n",
    "            self.wordSet.remove(word)\n",
    "            if self.search(word):\n",
    "                ans.append(word)\n",
    "            self.wordSet.add(word)\n",
    "        return ans\n",
    "\n",
    "    def search(self, word):\n",
    "        if word in self.wordSet:\n",
    "            print \"magic\",word\n",
    "            return True\n",
    "        for idx in range(1, len(word)):\n",
    "            if word[:idx] in self.wordSet and self.search(word[idx:]):\n",
    "                return True\n",
    "        return False"
   ]
  },
  {
   "cell_type": "code",
   "execution_count": 34,
   "metadata": {
    "collapsed": false,
    "scrolled": true
   },
   "outputs": [
    {
     "name": "stdout",
     "output_type": "stream",
     "text": [
      "good\n",
      "bye\n",
      "goodbye\n",
      "magic bye\n",
      "goodbyegood\n",
      "magic good\n"
     ]
    },
    {
     "data": {
      "text/plain": [
       "['goodbye', 'goodbyegood']"
      ]
     },
     "execution_count": 34,
     "metadata": {},
     "output_type": "execute_result"
    }
   ],
   "source": [
    "mySolution=Solution()\n",
    "mySolution.findAllConcatenatedWordst(words)"
   ]
  },
  {
   "cell_type": "code",
   "execution_count": 32,
   "metadata": {
    "collapsed": false,
    "scrolled": true
   },
   "outputs": [
    {
     "name": "stdout",
     "output_type": "stream",
     "text": [
      "good\n",
      "bye\n",
      "goodbye\n",
      "goodbyegood\n"
     ]
    }
   ],
   "source": [
    "for word in words:\n",
    "    print word"
   ]
  },
  {
   "cell_type": "code",
   "execution_count": null,
   "metadata": {
    "collapsed": true
   },
   "outputs": [],
   "source": [
    "# Trie approach:\n",
    "# source:\n"
   ]
  },
  {
   "cell_type": "code",
   "execution_count": 5,
   "metadata": {
    "collapsed": true
   },
   "outputs": [],
   "source": [
    "class Node:\n",
    "    def __init__(self, letter=None, isTerminal=False):\n",
    "        self.letter=letter\n",
    "        self.children={}\n",
    "        self.isTerminal=isTerminal"
   ]
  },
  {
   "cell_type": "code",
   "execution_count": 9,
   "metadata": {
    "collapsed": true
   },
   "outputs": [],
   "source": [
    "class Trie:\n",
    "    def __init__(self):\n",
    "        self.root=Node('')\n",
    " \n",
    "    def __repr__(self):\n",
    "        self.output([self.root])\n",
    "        return ''\n",
    " \n",
    "    def output(self, currentPath, indent=''):\n",
    "        #Depth First Search\n",
    "        currentNode=currentPath[-1]\n",
    "        if currentNode.isTerminal:\n",
    "            word=''.join([node.letter for node in currentPath])\n",
    "            print indent+word\n",
    "            indent+='  '\n",
    "        for letter, node in sorted(currentNode.children.items()):\n",
    "            self.output(currentPath[:]+[node], indent)\n",
    " \n",
    "    def insert(self, word):\n",
    "        current=self.root\n",
    "        for letter in word:\n",
    "            if letter not in current.children:\n",
    "                current.children[letter]=Node(letter)\n",
    "            current=current.children[letter]\n",
    "        current.isTerminal=True\n",
    " \n",
    "    def __contains__(self, word):\n",
    "        current=self.root\n",
    "        for letter in word:\n",
    "            if letter not in current.children:\n",
    "                return False\n",
    "            current=current.children[letter]\n",
    "        return current.isTerminal\n",
    " \n",
    "    def getAllPrefixesOfWord(self, word):\n",
    "        prefix=''\n",
    "        prefixes=[]\n",
    "        current=self.root\n",
    "        for letter in word:\n",
    "            if letter not in current.children:\n",
    "                return prefixes\n",
    "            current=current.children[letter]\n",
    "            prefix+=letter\n",
    "            if current.isTerminal:\n",
    "                prefixes.append(prefix)\n",
    "        return prefixes"
   ]
  },
  {
   "cell_type": "code",
   "execution_count": 10,
   "metadata": {
    "collapsed": false
   },
   "outputs": [],
   "source": [
    "trie = Trie()\n",
    "trie.insert(\"bye\")\n",
    "trie.insert(\"good\")\n",
    "trie.insert(\"goodbye\")"
   ]
  },
  {
   "cell_type": "code",
   "execution_count": 12,
   "metadata": {
    "collapsed": false
   },
   "outputs": [
    {
     "data": {
      "text/plain": [
       "['good', 'goodbye']"
      ]
     },
     "execution_count": 12,
     "metadata": {},
     "output_type": "execute_result"
    }
   ],
   "source": [
    "trie.getAllPrefixesOfWord(\"goodbye\")"
   ]
  }
 ],
 "metadata": {
  "kernelspec": {
   "display_name": "Python [Root]",
   "language": "python",
   "name": "Python [Root]"
  },
  "language_info": {
   "codemirror_mode": {
    "name": "ipython",
    "version": 2
   },
   "file_extension": ".py",
   "mimetype": "text/x-python",
   "name": "python",
   "nbconvert_exporter": "python",
   "pygments_lexer": "ipython2",
   "version": "2.7.12"
  }
 },
 "nbformat": 4,
 "nbformat_minor": 0
}
