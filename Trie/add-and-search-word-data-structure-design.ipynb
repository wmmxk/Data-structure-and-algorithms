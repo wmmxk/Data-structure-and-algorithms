{
 "cells": [
  {
   "cell_type": "markdown",
   "metadata": {},
   "source": [
    "A tree data structure is defined recursively\n",
    "http://www.openbookproject.net/thinkcs/python/english2e/ch21.html\n",
    "How to think like a computer scientist这本书"
   ]
  },
  {
   "cell_type": "code",
   "execution_count": null,
   "metadata": {
    "collapsed": true
   },
   "outputs": [],
   "source": [
    "current_dict = current_dict.setdefault(letter,{})\n",
    "# 这里需要重新赋值给current_dict吗，setdefault的操作返回什么，还是个dictionary吗？"
   ]
  },
  {
   "cell_type": "code",
   "execution_count": null,
   "metadata": {
    "collapsed": true
   },
   "outputs": [],
   "source": [
    "_end='_end_'\n",
    "word='foo'\n",
    "root = dict()\n",
    "current_dict=root\n",
    "for letter in word:\n",
    "    current_dict = current_dict.setdefault(letter,{})\n",
    "current_dict[_end] = _end\n",
    "root\n",
    "没太明白，只定义一个current_dict，为什么不可以"
   ]
  },
  {
   "cell_type": "markdown",
   "metadata": {},
   "source": [
    "copy a dictionary\n",
    "http://stackoverflow.com/questions/2465921/how-to-copy-a-dictionary-and-only-edit-the-copy\n",
    "不是copy的问题，一开始，current_dict指代root那个dictionary, 在for loop中指代，setdefault的返回值,即 root \n",
    "dictionary的value {}，这个value是一个dictionary，然后对它再进行赋值。"
   ]
  },
  {
   "cell_type": "code",
   "execution_count": null,
   "metadata": {
    "collapsed": true
   },
   "outputs": [],
   "source": [
    "So, to be precise, setdefault is a method of dictionaries that takes one mandatory and\n",
    "one optional argument (which defaults to None). If called as\n",
    "d.setdefault(k,v)\n",
    "then if k is present as a key in d then d[k] is returned.\n",
    "If not, then d[k] is set to v and this value is then returned."
   ]
  },
  {
   "cell_type": "markdown",
   "metadata": {},
   "source": [
    "#修改和重新赋值不同，如果两个变量指代同一个，修改其中一个也会改另一个，但是如果对其中一个重新赋值，另一个不变。\n",
    "dict1 = {\"key1\": \"value1\", \"key2\": \"value2\"}\n",
    "dict2 = dict1\n",
    "dict2[\"key2\"] = \"WHY?!\"\n",
    "print dict1\n",
    "dict3={\"key1n\": \"value1\", \"key2n\": \"value2\"}\n",
    "dict2=dict3\n",
    "print dict1\n",
    "# 对dict2重新赋值后，再修改dict2， dict1不变了\n",
    "dict2[\"key2\"]=\"Why2\"\n",
    "print dict1\n",
    "print dict2"
   ]
  },
  {
   "cell_type": "code",
   "execution_count": 123,
   "metadata": {
    "collapsed": false
   },
   "outputs": [
    {
     "name": "stdout",
     "output_type": "stream",
     "text": [
      "{'key3': {}, 'key2': 'value2', 'key1': 'value1'}\n",
      "{}\n",
      "{'key3': {'innerkey4': {}}, 'key2': 'value2', 'key1': 'value1'}\n",
      "{}\n"
     ]
    }
   ],
   "source": [
    "dict1 = {\"key1\": \"value1\", \"key2\": \"value2\"}\n",
    "dict2 = dict1\n",
    "dict2=dict2.setdefault(\"key3\",{})\n",
    "print dict1\n",
    "print dict2\n",
    "\n",
    "dict2=dict2.setdefault(\"innerkey4\",{})\n",
    "print dict1\n",
    "print dict2\n"
   ]
  },
  {
   "cell_type": "code",
   "execution_count": 128,
   "metadata": {
    "collapsed": false
   },
   "outputs": [
    {
     "name": "stdout",
     "output_type": "stream",
     "text": [
      "{'key2': 'value2', 'key1': 'value1'}\n",
      "{'key2': 'value2', 'key1': 'value1'}\n",
      "{'key2': 'value2', 'key1': 'value1', 'innerkey4': {}}\n",
      "{'key2': 'value2', 'key1': 'value1', 'innerkey4': {}}\n"
     ]
    }
   ],
   "source": [
    "# difference between get and setdefault in this context\n",
    "dict1 = {\"key1\": \"value1\", \"key2\": \"value2\"}\n",
    "dict2 = dict1\n",
    "dict2.get(\"key3\",{}) # 进行这个操作时，只对dict2有改变\n",
    "print dict1\n",
    "print dict2\n",
    "dict2.setdefault(\"innerkey4\",{})\n",
    "print dict1\n",
    "print dict2"
   ]
  },
  {
   "cell_type": "markdown",
   "metadata": {},
   "source": [
    "# get, 如果这个key已经在dictionary中存在，那么，你提交的那个value将被忽略。\n",
    "dictionary = {\"message\": \"Hello, World!\"}\n",
    "data = dictionary.get(\"message\", \"new_add\")\n",
    "print(data)  # Hello, World!"
   ]
  },
  {
   "cell_type": "code",
   "execution_count": null,
   "metadata": {
    "collapsed": true
   },
   "outputs": [],
   "source": [
    "#nested dictionary\n",
    "mydict =dict()\n",
    "mydict[\"key1\"]={}\n",
    "inner_value = mydict[\"key1\"].setdefault(\"key2\",{})\n",
    "inner_value=inner_value.setdefault(\"key3\",{})\n",
    "print mydict\n",
    "print \"key1\" in mydict\n",
    "print \"key2\" in mydict[\"key1\"]"
   ]
  },
  {
   "cell_type": "code",
   "execution_count": null,
   "metadata": {
    "collapsed": true
   },
   "outputs": [],
   "source": [
    "# Else clause in for loop\n",
    "Loop statements may have an else clause; \n",
    "it is executed when the loop terminates through exhaustion of the list (with for) \n",
    "or when the condition becomes false (with while), \n",
    "but not when the loop is terminated by a break statement. \n",
    "This is exemplified by the following loop, which searches for prime numbers:"
   ]
  },
  {
   "cell_type": "code",
   "execution_count": 139,
   "metadata": {
    "collapsed": false,
    "scrolled": true
   },
   "outputs": [
    {
     "name": "stdout",
     "output_type": "stream",
     "text": [
      "1\n",
      "2\n",
      "3\n"
     ]
    }
   ],
   "source": [
    "# star in function argument\n",
    "#The *args and **kwargs is a common idiom to allow arbitrary number of arguments to functions \n",
    "def foo(*args):\n",
    "    for a in args:\n",
    "         print a\n",
    "foo(1,2,3)"
   ]
  },
  {
   "cell_type": "code",
   "execution_count": 140,
   "metadata": {
    "collapsed": false
   },
   "outputs": [
    {
     "name": "stdout",
     "output_type": "stream",
     "text": [
      "1 2\n"
     ]
    }
   ],
   "source": [
    "# another usage of star: unpack arguments when calling a function\n",
    "def foo(bar, lee):\n",
    "     print bar, lee\n",
    "l = [1,2]\n",
    "foo(*l)"
   ]
  },
  {
   "cell_type": "code",
   "execution_count": 1,
   "metadata": {
    "collapsed": true
   },
   "outputs": [],
   "source": [
    "\n",
    "# Time:  O(min(n, h)), per operation\n",
    "# Space: O(min(n, h))\n",
    "#\n",
    "# Design a data structure that supports the following two operations:\n",
    "#\n",
    "# void addWord(word)\n",
    "# bool search(word)\n",
    "# search(word) can search a literal word or a regular expression string containing only letters a-z or .. \n",
    "# A . means it can represent any one letter.\n",
    "#\n",
    "# For example:\n",
    "#\n",
    "# addWord(\"bad\")\n",
    "# addWord(\"dad\")\n",
    "# addWord(\"mad\")\n",
    "# search(\"pad\") -> false\n",
    "# search(\"bad\") -> true\n",
    "# search(\".ad\") -> true\n",
    "# search(\"b..\") -> true\n",
    "# Note:\n",
    "# You may assume that all words are consist of lowercase letters a-z.\n",
    "#\n",
    "\n",
    "class TrieNode:\n",
    "    # Initialize your data structure here.\n",
    "    def __init__(self):\n",
    "        self.is_string = False\n",
    "        self.leaves = {}\n",
    "        \n",
    "class WordDictionary:\n",
    "    def __init__(self):\n",
    "        self.root = TrieNode()\n",
    "        \n",
    "    # @param {string} word\n",
    "    # @return {void}\n",
    "    # Adds a word into the data structure.\n",
    "    def addWord(self, word):\n",
    "        curr = self.root\n",
    "        for c in word:\n",
    "            if not c in curr.leaves:\n",
    "                curr.leaves[c] = TrieNode()\n",
    "            curr = curr.leaves[c]\n",
    "        curr.is_string = True\n",
    "\n",
    "    # @param {string} word\n",
    "    # @return {boolean}\n",
    "    # Returns if the word is in the data structure. A word could\n",
    "    # contain the dot character '.' to represent any one letter.\n",
    "    def search(self, word):\n",
    "        return self.searchHelper(word, 0, self.root)\n",
    "        \n",
    "    def searchHelper(self, word, start, curr):\n",
    "        if start == len(word):\n",
    "            return curr.is_string\n",
    "        if word[start] in curr.leaves:\n",
    "            return self.searchHelper(word, start+1, curr.leaves[word[start]])\n",
    "        elif word[start] == '.':\n",
    "            for c in curr.leaves:\n",
    "                if self.searchHelper(word, start+1, curr.leaves[c]):\n",
    "                    return True\n",
    "       \n",
    "        return False\n",
    "\n",
    "# Your WordDictionary object will be instantiated and called as such:\n",
    "# wordDictionary = WordDictionary()\n",
    "# wordDictionary.addWord(\"word\")\n",
    "# wordDictionary.search(\"pattern\")"
   ]
  },
  {
   "cell_type": "code",
   "execution_count": null,
   "metadata": {
    "collapsed": true
   },
   "outputs": [],
   "source": [
    "#Implementing a trie in python using dictionaries:\n",
    "#http://stackoverflow.com/questions/11015320/how-to-create-a-trie-in-python"
   ]
  },
  {
   "cell_type": "code",
   "execution_count": 135,
   "metadata": {
    "collapsed": false
   },
   "outputs": [],
   "source": [
    "_end = '_end_'\n",
    "def make_trie(*words):\n",
    "     root = dict()\n",
    "     for word in words:\n",
    "         current_dict = root\n",
    "         for letter in word:\n",
    "             current_dict = current_dict.setdefault(letter, {})\n",
    "         current_dict[_end] = _end\n",
    "     return root"
   ]
  },
  {
   "cell_type": "code",
   "execution_count": 138,
   "metadata": {
    "collapsed": false
   },
   "outputs": [
    {
     "data": {
      "text/plain": [
       "True"
      ]
     },
     "execution_count": 138,
     "metadata": {},
     "output_type": "execute_result"
    }
   ],
   "source": [
    ">>> def in_trie(trie, word):\n",
    "     current_dict = trie\n",
    "     for letter in word:\n",
    "         if letter in current_dict:\n",
    "             current_dict = current_dict[letter]\n",
    "         else:\n",
    "             return False\n",
    "     else:\n",
    "         if _end in current_dict:\n",
    "             return True\n",
    "         else:\n",
    "             return False\n",
    " \n",
    ">>> in_trie(make_trie('foo', 'bar', 'baz', 'barz'), 'baz')"
   ]
  },
  {
   "cell_type": "code",
   "execution_count": null,
   "metadata": {
    "collapsed": true
   },
   "outputs": [],
   "source": [
    "# break down the implementation by recursion"
   ]
  },
  {
   "cell_type": "code",
   "execution_count": 141,
   "metadata": {
    "collapsed": true
   },
   "outputs": [],
   "source": [
    "class TrieNode:\n",
    "    # Initialize your data structure here.\n",
    "    def __init__(self):\n",
    "        self.is_string = False\n",
    "        self.leaves = {}\n",
    "a=TrieNode()"
   ]
  },
  {
   "cell_type": "code",
   "execution_count": 154,
   "metadata": {
    "collapsed": false
   },
   "outputs": [
    {
     "name": "stdout",
     "output_type": "stream",
     "text": [
      "<__main__.TrieNode instance at 0x7fa43c815d40>\n"
     ]
    }
   ],
   "source": [
    "print a"
   ]
  },
  {
   "cell_type": "code",
   "execution_count": 145,
   "metadata": {
    "collapsed": false
   },
   "outputs": [
    {
     "name": "stdout",
     "output_type": "stream",
     "text": [
      "False\n",
      "{}\n"
     ]
    }
   ],
   "source": [
    "print a.is_string\n",
    "print a.leaves"
   ]
  },
  {
   "cell_type": "code",
   "execution_count": 147,
   "metadata": {
    "collapsed": true
   },
   "outputs": [],
   "source": [
    "class WordDictionary:\n",
    "    def __init__(self):\n",
    "        self.root = TrieNode()\n",
    "        \n",
    "    # @param {string} word\n",
    "    # @return {void}\n",
    "    # Adds a word into the data structure.\n",
    "    def addWord(self, word):\n",
    "        curr = self.root\n",
    "        for c in word:\n",
    "            if not c in curr.leaves:\n",
    "                curr.leaves[c] = TrieNode() # 在对不上那一层开始，新插入一个TrieNode\n",
    "            curr = curr.leaves[c]           # 把这个设置为当前的Node\n",
    "        curr.is_string = True\n"
   ]
  },
  {
   "cell_type": "code",
   "execution_count": 162,
   "metadata": {
    "collapsed": false
   },
   "outputs": [
    {
     "data": {
      "text/plain": [
       "{}"
      ]
     },
     "execution_count": 162,
     "metadata": {},
     "output_type": "execute_result"
    }
   ],
   "source": [
    "# initiate an empyt dictionary\n",
    "my_dict = WordDictionary()\n",
    "my_dict.root.leaves"
   ]
  },
  {
   "cell_type": "code",
   "execution_count": 166,
   "metadata": {
    "collapsed": false
   },
   "outputs": [
    {
     "data": {
      "text/plain": [
       "{'f': <__main__.TrieNode instance at 0x7fa43c7e9b90>}"
      ]
     },
     "execution_count": 166,
     "metadata": {},
     "output_type": "execute_result"
    }
   ],
   "source": [
    "# insert the 1st word: \"first\"\n",
    "my_dict.addWord(\"first\")\n",
    "my_dict.root.leaves #  这个dictionay的root是一个TrieNode, 每个TrieNode有两个attributes,一个是它的leave,\n",
    "                    # 一个是an indicator，指示它是不是一个终结string.\n",
    "                    # 它的leave attribute的值是一个dictionary, 这个dictionary的又是一个TrieNode"
   ]
  },
  {
   "cell_type": "code",
   "execution_count": 179,
   "metadata": {
    "collapsed": false,
    "scrolled": true
   },
   "outputs": [
    {
     "name": "stdout",
     "output_type": "stream",
     "text": [
      "<__main__.TrieNode instance at 0x7fa43c7e9b90>\n"
     ]
    }
   ],
   "source": [
    "current_node=  my_dict.root.leaves['f']\n",
    "print current_node"
   ]
  },
  {
   "cell_type": "code",
   "execution_count": 181,
   "metadata": {
    "collapsed": false,
    "scrolled": true
   },
   "outputs": [
    {
     "name": "stdout",
     "output_type": "stream",
     "text": [
      "False\n",
      "{'i': <__main__.TrieNode instance at 0x7fa43c7e9b48>}\n"
     ]
    }
   ],
   "source": [
    "print current_node.is_string\n",
    "print current_node.leaves"
   ]
  },
  {
   "cell_type": "code",
   "execution_count": 188,
   "metadata": {
    "collapsed": false,
    "scrolled": true
   },
   "outputs": [
    {
     "data": {
      "text/plain": [
       "{'r': <__main__.TrieNode instance at 0x7fa43c7e9908>}"
      ]
     },
     "execution_count": 188,
     "metadata": {},
     "output_type": "execute_result"
    }
   ],
   "source": [
    "current_node.leaves['i'].leaves"
   ]
  },
  {
   "cell_type": "code",
   "execution_count": null,
   "metadata": {
    "collapsed": true
   },
   "outputs": [],
   "source": [
    "# recursion那个方法你没明白，下面的方法可行。"
   ]
  },
  {
   "cell_type": "code",
   "execution_count": 191,
   "metadata": {
    "collapsed": false,
    "scrolled": true
   },
   "outputs": [
    {
     "name": "stdout",
     "output_type": "stream",
     "text": [
      "f\n",
      "i\n",
      "r\n",
      "s\n",
      "t\n"
     ]
    },
    {
     "data": {
      "text/plain": [
       "True"
      ]
     },
     "execution_count": 191,
     "metadata": {},
     "output_type": "execute_result"
    }
   ],
   "source": [
    ">>> def in_trie(trie, word):\n",
    "     current_leaves = trie.root.leaves\n",
    "     for letter in word:\n",
    "         print letter\n",
    "         if letter in current_leaves:\n",
    "             current_node = current_leaves[letter]\n",
    "             current_leaves=current_node.leaves\n",
    "         else:\n",
    "             return False\n",
    "     else:\n",
    "         if current_node.is_string:\n",
    "             return True\n",
    "         else:\n",
    "             return False\n",
    " \n",
    ">>> in_trie(my_dict, 'first')"
   ]
  },
  {
   "cell_type": "code",
   "execution_count": 190,
   "metadata": {
    "collapsed": false
   },
   "outputs": [
    {
     "data": {
      "text/plain": [
       "{'f': <__main__.TrieNode instance at 0x7fa43c7e9b90>}"
      ]
     },
     "execution_count": 190,
     "metadata": {},
     "output_type": "execute_result"
    }
   ],
   "source": [
    "my_dict.root.leaves"
   ]
  },
  {
   "cell_type": "code",
   "execution_count": 177,
   "metadata": {
    "collapsed": false
   },
   "outputs": [
    {
     "data": {
      "text/plain": [
       "{'f': <__main__.TrieNode instance at 0x7fa43c7e9b90>}"
      ]
     },
     "execution_count": 177,
     "metadata": {},
     "output_type": "execute_result"
    }
   ],
   "source": [
    "my_dict.root.leaves"
   ]
  },
  {
   "cell_type": "code",
   "execution_count": null,
   "metadata": {
    "collapsed": true
   },
   "outputs": [],
   "source": []
  },
  {
   "cell_type": "code",
   "execution_count": 120,
   "metadata": {
    "collapsed": true
   },
   "outputs": [],
   "source": [
    "# implemenation a trie (从letter逐个插入的角度去看)\n",
    "#source: http://pythonfiddle.com/python-trie-implementation/"
   ]
  },
  {
   "cell_type": "code",
   "execution_count": 121,
   "metadata": {
    "collapsed": false
   },
   "outputs": [],
   "source": [
    "class Node:\n",
    "    def __init__(self):\n",
    "        self.flag= None\n",
    "        self.nodes = {} # dict of nodes\n",
    "    \n",
    "    def insert(self, word, string_pos = 0):\n",
    "        #Add a word to the node in a Trie\n",
    "        current_letter = word[string_pos]\n",
    "        #Add the current letter\"\"\"\n",
    "        # Create the Node if it does not already exist\n",
    "        if current_letter not in self.nodes:\n",
    "            self.nodes[current_letter] = Node();\n",
    "\n",
    "        #插入这个字母后，如果这个word里不剩字母了，那么这个新插入的node.flag标为word\n",
    "        #否则，对这个新插入的node调用insert这个方法,插入下一个字母。\n",
    "        if(string_pos + 1 == len(word)):\n",
    "            self.nodes[current_letter].flag= word\n",
    "        else:\n",
    "            self.nodes[current_letter].insert(word, string_pos + 1)\n",
    "    def get_all(self):\n",
    "        \"\"\"Get all of the words in the trie\"\"\"\n",
    "        x = []\n",
    "        for key, node in self.nodes.iteritems() : \n",
    "            if(node.flag is not None):\n",
    "                x.append(node.flag)\n",
    "            \n",
    "            x += node.get_all()         \n",
    "        return x\n",
    "    def search(self,word):\n",
    "        if  word[:1] not in self.nodes:\n",
    "            return False\n",
    "        else:\n",
    "            next_node = self.nodes[word[:1]]\n",
    "            if len(word[1:])==0:\n",
    "                if next_node.flag:\n",
    "                    return True\n",
    "                else:\n",
    "                    return False\n",
    "            return next_node.search(word[1:])\n",
    "#这种search 方法是把这个词捋一遍，如果到某一处，走不下去了，肯定是没有，如果走完，执行for loop后面的else,看\n",
    "#终结node处的flag\n",
    "    def in_trie(self, word):\n",
    "        current_dict = self.nodes\n",
    "        for letter in word:\n",
    "            if letter in current_dict:\n",
    "               current_node = current_dict[letter]\n",
    "               current_dict = current_node.nodes\n",
    "            else:\n",
    "                return False\n",
    "        else:\n",
    "            if current_node.flag:\n",
    "                return True\n",
    "            else:\n",
    "                return False\n",
    "# get all the words with prefix就很简单，把prefix 捋一遍，结束处的node，调用get_all\n",
    "    def get_words_same_prefix(self,prefix):\n",
    "        current_dict = self.nodes\n",
    "        for letter in prefix:\n",
    "            if letter in current_dict:\n",
    "               current_node = current_dict[letter]\n",
    "               current_dict = current_node.nodes\n",
    "            else:\n",
    "                return \"No such prefix\"\n",
    "        \n",
    "        under_prefix=current_node.get_all()\n",
    "        if current_node.flag:\n",
    "            under_prefix.append(current_node.flag)\n",
    "        return under_prefix\n",
    "    def getAllPrefixesOfWord(self, word):\n",
    "        prefix=''\n",
    "        prefixes=[]\n",
    "        current=self\n",
    "        for letter in word:\n",
    "             if letter not in current.nodes:\n",
    "                return prefixes\n",
    "             current=current.nodes[letter]\n",
    "             prefix+=letter\n",
    "             if current.flag:\n",
    "                prefixes.append(prefix)\n",
    "        return prefixes\n"
   ]
  },
  {
   "cell_type": "code",
   "execution_count": 122,
   "metadata": {
    "collapsed": false
   },
   "outputs": [],
   "source": [
    "trie = Node()\n",
    "trie.insert(\"go\")\n",
    "trie.insert(\"g\")\n",
    "trie.insert(\"gone\")\n",
    "trie.insert(\"bye\")\n",
    "trie.insert(\"good\")\n",
    "trie.insert(\"goodbye\")"
   ]
  },
  {
   "cell_type": "code",
   "execution_count": 127,
   "metadata": {
    "collapsed": false
   },
   "outputs": [
    {
     "data": {
      "text/plain": [
       "'go'"
      ]
     },
     "execution_count": 127,
     "metadata": {},
     "output_type": "execute_result"
    }
   ],
   "source": [
    "trie.nodes['g'].nodes['o'].flag"
   ]
  },
  {
   "cell_type": "code",
   "execution_count": 128,
   "metadata": {
    "collapsed": false,
    "scrolled": true
   },
   "outputs": [
    {
     "data": {
      "text/plain": [
       "['bye', 'g', 'go', 'good', 'goodbye', 'gone']"
      ]
     },
     "execution_count": 128,
     "metadata": {},
     "output_type": "execute_result"
    }
   ],
   "source": [
    "trie.get_all()"
   ]
  },
  {
   "cell_type": "code",
   "execution_count": 129,
   "metadata": {
    "collapsed": false
   },
   "outputs": [
    {
     "data": {
      "text/plain": [
       "False"
      ]
     },
     "execution_count": 129,
     "metadata": {},
     "output_type": "execute_result"
    }
   ],
   "source": [
    "trie.in_trie(\"gi\")"
   ]
  },
  {
   "cell_type": "code",
   "execution_count": 130,
   "metadata": {
    "collapsed": false
   },
   "outputs": [
    {
     "data": {
      "text/plain": [
       "False"
      ]
     },
     "execution_count": 130,
     "metadata": {},
     "output_type": "execute_result"
    }
   ],
   "source": [
    "trie.search(\"gi\")"
   ]
  },
  {
   "cell_type": "code",
   "execution_count": 131,
   "metadata": {
    "collapsed": false
   },
   "outputs": [
    {
     "data": {
      "text/plain": [
       "['good', 'goodbye', 'gone', 'go']"
      ]
     },
     "execution_count": 131,
     "metadata": {},
     "output_type": "execute_result"
    }
   ],
   "source": [
    "trie.get_words_same_prefix(\"go\")"
   ]
  },
  {
   "cell_type": "code",
   "execution_count": 132,
   "metadata": {
    "collapsed": false
   },
   "outputs": [
    {
     "data": {
      "text/plain": [
       "['g', 'go', 'good', 'goodbye']"
      ]
     },
     "execution_count": 132,
     "metadata": {},
     "output_type": "execute_result"
    }
   ],
   "source": [
    "trie.getAllPrefixesOfWord(\"goodbye\")"
   ]
  },
  {
   "cell_type": "code",
   "execution_count": 157,
   "metadata": {
    "collapsed": false
   },
   "outputs": [],
   "source": [
    "import collections\n",
    "def longestWord(words):\n",
    "    #Add words to the trie, and pairs to the queue\n",
    "    trie=Node()\n",
    "    for word in words:\n",
    "        trie.insert(word)\n",
    "        \n",
    "    queue=collections.deque()\n",
    "    \n",
    "    for word in words:\n",
    "        prefixes=trie.getAllPrefixesOfWord(word)\n",
    "        prefixes.pop() # 这个词本身之外的prefix\n",
    "        print \"prefixes\",prefixes\n",
    "        for prefix in prefixes:\n",
    "            if trie.in_trie(word[len(prefix):]):\n",
    "              queue.append( (word, word[len(prefix):]) )\n",
    "        \n",
    "    return queue"
   ]
  },
  {
   "cell_type": "code",
   "execution_count": 158,
   "metadata": {
    "collapsed": true
   },
   "outputs": [],
   "source": [
    "words=[\"good\",\"go\",\"goodbye\",\"togoodbye\",\"to\",\"bye\",\"goto\"]"
   ]
  },
  {
   "cell_type": "code",
   "execution_count": 159,
   "metadata": {
    "collapsed": false
   },
   "outputs": [
    {
     "name": "stdout",
     "output_type": "stream",
     "text": [
      "prefixes ['go']\n",
      "prefixes []\n",
      "prefixes ['go', 'good']\n",
      "prefixes ['to']\n",
      "prefixes []\n",
      "prefixes []\n",
      "prefixes ['go']\n",
      "deque([('goodbye', 'bye'), ('togoodbye', 'goodbye'), ('goto', 'to')])\n"
     ]
    }
   ],
   "source": [
    "queue=longestWord(words)\n",
    "print queue"
   ]
  },
  {
   "cell_type": "code",
   "execution_count": 160,
   "metadata": {
    "collapsed": false
   },
   "outputs": [
    {
     "data": {
      "text/plain": [
       "['goodbye', 'togoodbye', 'goto']"
      ]
     },
     "execution_count": 160,
     "metadata": {},
     "output_type": "execute_result"
    }
   ],
   "source": [
    "[pair[0] for pair in queue]"
   ]
  },
  {
   "cell_type": "code",
   "execution_count": null,
   "metadata": {
    "collapsed": true
   },
   "outputs": [],
   "source": []
  }
 ],
 "metadata": {
  "kernelspec": {
   "display_name": "Python [Root]",
   "language": "python",
   "name": "Python [Root]"
  },
  "language_info": {
   "codemirror_mode": {
    "name": "ipython",
    "version": 2
   },
   "file_extension": ".py",
   "mimetype": "text/x-python",
   "name": "python",
   "nbconvert_exporter": "python",
   "pygments_lexer": "ipython2",
   "version": "2.7.12"
  }
 },
 "nbformat": 4,
 "nbformat_minor": 0
}
