{
 "cells": [
  {
   "cell_type": "code",
   "execution_count": null,
   "metadata": {
    "collapsed": true
   },
   "outputs": [],
   "source": [
    "# subproblem repeats\n",
    "source: http://algorithmsandme.in/tag/dynamic-programming-problems-solution-to-interleaving-strings/"
   ]
  },
  {
   "cell_type": "code",
   "execution_count": 74,
   "metadata": {
    "collapsed": true
   },
   "outputs": [],
   "source": [
    "def isShuffle(str1, str2, str3, cache=set()):\n",
    "    if (str1, str2) in cache:\n",
    "        print \"not found\"\n",
    "        return False\n",
    "\n",
    " \n",
    "    if not str1 or not str2 or not str3:\n",
    "        print \"one out\"\n",
    "        if str1+str2==str3:\n",
    "            return True\n",
    "        else:\n",
    "            print \"not found one out\"\n",
    "            return False\n",
    " \n",
    "    if str1[0]!=str3[0] and str2[0]!=str3[0]:\n",
    "        return False\n",
    " \n",
    "    if str1[0]==str3[0] and isShuffle(str1[1:], str2, str3[1:], cache):\n",
    "            return Trueaa\n",
    "    if str2[0]==str3[0] and isShuffle(str1, str2[1:], str3[1:], cache):\n",
    "            return True\n",
    " \n",
    "    cache.add( (str1, str2) )\n",
    "    print str3\n",
    "    print cache\n",
    "    return False"
   ]
  },
  {
   "cell_type": "code",
   "execution_count": null,
   "metadata": {
    "collapsed": true
   },
   "outputs": [],
   "source": []
  },
  {
   "cell_type": "code",
   "execution_count": 145,
   "metadata": {
    "collapsed": true
   },
   "outputs": [],
   "source": [
    "str1=\"bcc\"\n",
    "str2=\"bbca\"\n",
    "str3=\"bbcbcac\""
   ]
  },
  {
   "cell_type": "code",
   "execution_count": 176,
   "metadata": {
    "collapsed": true
   },
   "outputs": [],
   "source": [
    "str1=\"abcc\"\n",
    "str2=\"defc\"\n",
    "str3=\"abcdefcc\""
   ]
  },
  {
   "cell_type": "code",
   "execution_count": 177,
   "metadata": {
    "collapsed": false,
    "scrolled": false
   },
   "outputs": [
    {
     "name": "stdout",
     "output_type": "stream",
     "text": [
      "not found\n"
     ]
    },
    {
     "data": {
      "text/plain": [
       "False"
      ]
     },
     "execution_count": 177,
     "metadata": {},
     "output_type": "execute_result"
    }
   ],
   "source": [
    "isShuffle(str1,str2,str3)"
   ]
  },
  {
   "cell_type": "markdown",
   "metadata": {
    "collapsed": false,
    "scrolled": true
   },
   "source": [
    "DP的讲解：source: http://algorithmsandme.in/tag/dynamic-programming-problems-solution-to-interleaving-strings/"
   ]
  },
  {
   "cell_type": "code",
   "execution_count": 179,
   "metadata": {
    "collapsed": false
   },
   "outputs": [],
   "source": [
    "def is_interleave(A,B,C):\n",
    "    table=[[None]*(len(B)+1) for i in range(len(A)+1)]\n",
    "    table[0][0]=True\n",
    "    for i in range(1,len(A)+1):\n",
    "        table[i][0]= A[i-1]==C[i-1] and table[i-1][0]\n",
    "    for i in range(1,len(B)+1):\n",
    "        table[0][i]= B[i-1]==C[i-1] and table[0][i-1]\n",
    "    \n",
    "    for i in range(1,len(A)+1):\n",
    "        for j in range(1,len(B)+1):\n",
    "            if not len(A[i:])+len(B[j:])==len(C[i+j:]):\n",
    "                return \"Not interleaved\"\n",
    "            if A[i-1]==C[i+j-1]:\n",
    "                if B[j-1]!=C[i+j-1]:\n",
    "                    table[i][j] = table[i-1][j]\n",
    "                else:\n",
    "                    table[i][j]=table[i-1][j] or table[i][j-1]\n",
    "            else:\n",
    "                if B[j-1]==C[i+j-1]:\n",
    "                    table[i][j] = table[i][j-1]\n",
    "                else:\n",
    "                    table[i][j]=False\n",
    "    return table"
   ]
  },
  {
   "cell_type": "code",
   "execution_count": 180,
   "metadata": {
    "collapsed": false
   },
   "outputs": [],
   "source": [
    "table=[[None]*(len(str1)+1) for i in range(len(str2)+1)]"
   ]
  },
  {
   "cell_type": "code",
   "execution_count": 184,
   "metadata": {
    "collapsed": false
   },
   "outputs": [
    {
     "data": {
      "text/plain": [
       "'c'"
      ]
     },
     "execution_count": 184,
     "metadata": {},
     "output_type": "execute_result"
    }
   ],
   "source": [
    "str2[3]\n"
   ]
  },
  {
   "cell_type": "code",
   "execution_count": 182,
   "metadata": {
    "collapsed": false,
    "scrolled": false
   },
   "outputs": [
    {
     "data": {
      "text/plain": [
       "[[True, False, False, False, False],\n",
       " [True, False, False, False, False],\n",
       " [True, False, False, False, False],\n",
       " [True, True, True, True, True],\n",
       " [False, False, False, True, True]]"
      ]
     },
     "execution_count": 182,
     "metadata": {},
     "output_type": "execute_result"
    }
   ],
   "source": [
    "is_interleave(str1,str2,str3)"
   ]
  },
  {
   "cell_type": "code",
   "execution_count": null,
   "metadata": {
    "collapsed": true
   },
   "outputs": [],
   "source": [
    "#"
   ]
  },
  {
   "cell_type": "code",
   "execution_count": null,
   "metadata": {
    "collapsed": true
   },
   "outputs": [],
   "source": []
  },
  {
   "cell_type": "code",
   "execution_count": null,
   "metadata": {
    "collapsed": true
   },
   "outputs": [],
   "source": []
  }
 ],
 "metadata": {
  "kernelspec": {
   "display_name": "Python [Root]",
   "language": "python",
   "name": "Python [Root]"
  },
  "language_info": {
   "codemirror_mode": {
    "name": "ipython",
    "version": 2
   },
   "file_extension": ".py",
   "mimetype": "text/x-python",
   "name": "python",
   "nbconvert_exporter": "python",
   "pygments_lexer": "ipython2",
   "version": "2.7.12"
  }
 },
 "nbformat": 4,
 "nbformat_minor": 0
}
