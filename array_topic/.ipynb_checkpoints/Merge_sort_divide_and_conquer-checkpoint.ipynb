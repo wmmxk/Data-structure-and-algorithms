{
 "cells": [
  {
   "cell_type": "code",
   "execution_count": null,
   "metadata": {
    "collapsed": true
   },
   "outputs": [],
   "source": [
    "# source: https://people.eecs.berkeley.edu/~vazirani/algorithms/chap2.pdf"
   ]
  },
  {
   "cell_type": "code",
   "execution_count": null,
   "metadata": {
    "collapsed": true
   },
   "outputs": [],
   "source": [
    "Looking back at the mergesort algorithm, we see that all the real work is done in merging,\n",
    "which doesn’t start until the recursion gets down to singleton arrays. \n",
    "每层divide做的interleaving sort的复杂度一样是O(n)，要做logn次。"
   ]
  },
  {
   "cell_type": "code",
   "execution_count": null,
   "metadata": {
    "collapsed": true
   },
   "outputs": [],
   "source": [
    "Mergesort的核心在于，inteleaving two sorted lists (升序）. 这个可以用recursion来实现：\n",
    "对于两个lists: A and B，得到C,\n",
    "如果A[0]<=B[0]，那么C[0]=A[0]; C.append(merge(A[0:],B))"
   ]
  }
 ],
 "metadata": {
  "kernelspec": {
   "display_name": "Python [Root]",
   "language": "python",
   "name": "Python [Root]"
  },
  "language_info": {
   "codemirror_mode": {
    "name": "ipython",
    "version": 2
   },
   "file_extension": ".py",
   "mimetype": "text/x-python",
   "name": "python",
   "nbconvert_exporter": "python",
   "pygments_lexer": "ipython2",
   "version": "2.7.12"
  }
 },
 "nbformat": 4,
 "nbformat_minor": 0
}
