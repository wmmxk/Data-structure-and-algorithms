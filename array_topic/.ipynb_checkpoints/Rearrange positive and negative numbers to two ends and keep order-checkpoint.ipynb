{
 "cells": [
  {
   "cell_type": "code",
   "execution_count": null,
   "metadata": {
    "collapsed": true
   },
   "outputs": [],
   "source": [
    "#要求：O(1) space complexity"
   ]
  },
  {
   "cell_type": "code",
   "execution_count": null,
   "metadata": {
    "collapsed": true
   },
   "outputs": [],
   "source": [
    "# inserted sort 时间complexity: O(n^2). space complexity (O(1))\n",
    "Loop from i = 1 to n - 1.\n",
    "  a) If the current element is positive, do nothing.\n",
    "  b) If the current element arr[i] is negative, we \n",
    "     insert it into sequence arr[0..i-1] such that \n",
    "     all positive elements in arr[0..i-1] are shifted \n",
    "     one position to their right and arr[i] is inserted\n",
    "     at index of first positive element."
   ]
  }
 ],
 "metadata": {
  "kernelspec": {
   "display_name": "Python [Root]",
   "language": "python",
   "name": "Python [Root]"
  },
  "language_info": {
   "codemirror_mode": {
    "name": "ipython",
    "version": 2
   },
   "file_extension": ".py",
   "mimetype": "text/x-python",
   "name": "python",
   "nbconvert_exporter": "python",
   "pygments_lexer": "ipython2",
   "version": "2.7.12"
  }
 },
 "nbformat": 4,
 "nbformat_minor": 0
}
