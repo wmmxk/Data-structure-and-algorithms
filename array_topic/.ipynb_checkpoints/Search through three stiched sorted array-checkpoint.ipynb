{
 "cells": [
  {
   "cell_type": "code",
   "execution_count": null,
   "metadata": {
    "collapsed": true
   },
   "outputs": [],
   "source": [
    "A[1..n] is an array of real numbers which is partially sorted:\n",
    "There are some p,q  (1 <= p <= q <=n) so:\n",
    "A[1] <= ... <= A[p]\n",
    "A[p] >= ... >= A[q]\n",
    "A[q] <= ... <= A[n]"
   ]
  },
  {
   "cell_type": "code",
   "execution_count": null,
   "metadata": {
    "collapsed": true
   },
   "outputs": [],
   "source": [
    "Search a value in A:"
   ]
  },
  {
   "cell_type": "code",
   "execution_count": null,
   "metadata": {
    "collapsed": true
   },
   "outputs": [],
   "source": [
    "先用quick search那个范围模式搜索找到p和q 复杂度logn\n",
    "然后在三段中进行binary search，复杂度logn\n",
    "整体为logn"
   ]
  }
 ],
 "metadata": {
  "kernelspec": {
   "display_name": "Python [Root]",
   "language": "python",
   "name": "Python [Root]"
  },
  "language_info": {
   "codemirror_mode": {
    "name": "ipython",
    "version": 2
   },
   "file_extension": ".py",
   "mimetype": "text/x-python",
   "name": "python",
   "nbconvert_exporter": "python",
   "pygments_lexer": "ipython2",
   "version": "2.7.12"
  }
 },
 "nbformat": 4,
 "nbformat_minor": 0
}
