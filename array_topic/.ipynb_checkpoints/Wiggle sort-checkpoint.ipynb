{
 "cells": [
  {
   "cell_type": "code",
   "execution_count": null,
   "metadata": {
    "collapsed": true
   },
   "outputs": [],
   "source": [
    "#简书中的方法不行："
   ]
  },
  {
   "cell_type": "code",
   "execution_count": 6,
   "metadata": {
    "collapsed": true
   },
   "outputs": [],
   "source": [
    "class Solution(object):\n",
    "    \"\"\"\n",
    "    @param {int[]} nums a list of integer\n",
    "    @return nothing, modify nums in-place instead\n",
    "    \"\"\"\n",
    "    def wiggleSort(self, nums):\n",
    "        # Write your code here\n",
    "        for i in xrange(1, len(nums)):\n",
    "            if i % 2 == 1 and nums[i] < nums[i - 1] or \\\n",
    "                i % 2 == 0 and nums[i] > nums[i - 1]:\n",
    "                nums[i], nums[i - 1] = nums[i- 1], nums[i]\n",
    "        return nums"
   ]
  },
  {
   "cell_type": "code",
   "execution_count": 17,
   "metadata": {
    "collapsed": false
   },
   "outputs": [],
   "source": [
    "mySolution = Solution()\n",
    "\n",
    "A = [2,2,2,2,4,5,6,7,8]"
   ]
  },
  {
   "cell_type": "code",
   "execution_count": 18,
   "metadata": {
    "collapsed": false
   },
   "outputs": [
    {
     "data": {
      "text/plain": [
       "[2, 2, 2, 4, 2, 6, 5, 8, 7]"
      ]
     },
     "execution_count": 18,
     "metadata": {},
     "output_type": "execute_result"
    }
   ],
   "source": [
    "mySolution.wiggleSort(A)"
   ]
  },
  {
   "cell_type": "code",
   "execution_count": null,
   "metadata": {
    "collapsed": true
   },
   "outputs": [],
   "source": [
    "#可以用quick sort 找到median，然后把小于median的数，放到左边，大于median的数放到右边：\n",
    "这种方法怎么用in-place的方法实现。也可用用下面这个三分的思想，三分的思想可以用递归来完成"
   ]
  },
  {
   "cell_type": "code",
   "execution_count": null,
   "metadata": {
    "collapsed": true
   },
   "outputs": [],
   "source": [
    "#然后用Dutch Nation Flag sort algorithm把这个array sort成，小于median的在左，大于median的在右边，\n",
    "#而median在中间。 (array_topic里面有Dutch nation flag这个算法的实现)"
   ]
  }
 ],
 "metadata": {
  "kernelspec": {
   "display_name": "Python [Root]",
   "language": "python",
   "name": "Python [Root]"
  },
  "language_info": {
   "codemirror_mode": {
    "name": "ipython",
    "version": 2
   },
   "file_extension": ".py",
   "mimetype": "text/x-python",
   "name": "python",
   "nbconvert_exporter": "python",
   "pygments_lexer": "ipython2",
   "version": "2.7.12"
  }
 },
 "nbformat": 4,
 "nbformat_minor": 0
}
