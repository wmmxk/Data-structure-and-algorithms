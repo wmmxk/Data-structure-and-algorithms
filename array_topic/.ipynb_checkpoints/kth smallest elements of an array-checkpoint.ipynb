{
 "cells": [
  {
   "cell_type": "markdown",
   "metadata": {},
   "source": [
    "source: http://www.ardendertat.com/2011/10/27/programming-interview-questions-10-kth-largest-element-in-array/"
   ]
  },
  {
   "cell_type": "code",
   "execution_count": 2,
   "metadata": {
    "collapsed": true
   },
   "outputs": [],
   "source": [
    "import random\n",
    "def genRandom(a, b,n): \n",
    "    output= []\n",
    "    for i in range(n):\n",
    "        output.append(random.randint(a, b))\n",
    "    return output\n",
    "A = genRandom(3,100,4)"
   ]
  },
  {
   "cell_type": "code",
   "execution_count": 5,
   "metadata": {
    "collapsed": true
   },
   "outputs": [],
   "source": [
    "def kth_smallest(nums,k):\n",
    "    pivot = random.choice(nums)\n",
    "    left, right=[],[]\n",
    "    for num in nums:\n",
    "        if num>pivot:\n",
    "            left.append(num)\n",
    "        if num<pivot:\n",
    "            right.append(num)\n",
    "    if k<=len(left):\n",
    "        return kth_smallest(left,k)\n",
    "    if k>(len(nums)-len(right)):\n",
    "        return kth_smallest(right,k-len(nums)+len(right))\n",
    "    return pivot\n",
    "        "
   ]
  },
  {
   "cell_type": "code",
   "execution_count": 6,
   "metadata": {
    "collapsed": false
   },
   "outputs": [
    {
     "data": {
      "text/plain": [
       "[91, 23, 72, 7]"
      ]
     },
     "execution_count": 6,
     "metadata": {},
     "output_type": "execute_result"
    }
   ],
   "source": [
    "A"
   ]
  },
  {
   "cell_type": "code",
   "execution_count": 7,
   "metadata": {
    "collapsed": false
   },
   "outputs": [
    {
     "data": {
      "text/plain": [
       "72"
      ]
     },
     "execution_count": 7,
     "metadata": {},
     "output_type": "execute_result"
    }
   ],
   "source": [
    "kth_smallest(A,2)"
   ]
  },
  {
   "cell_type": "code",
   "execution_count": null,
   "metadata": {
    "collapsed": true
   },
   "outputs": [],
   "source": [
    "# Quick sort in place. Three partitioning:\n",
    "这里有很好的图示逐步讲解：和code\n",
    "http://www.codenshare.com/2012/04/implementing-quicksort-in-python-plus.html"
   ]
  },
  {
   "cell_type": "code",
   "execution_count": 2,
   "metadata": {
    "collapsed": true
   },
   "outputs": [],
   "source": [
    "def part(a, left, right): #left and right are the start and end indixes of the subarray (right is not len(a))\n",
    "    i = left + 1\n",
    "    pivot = a[left]# choose first element in subarray as pivot\n",
    "     \n",
    "    for j in range(left + 1, right + 1):\n",
    "        if a[j] < pivot:\n",
    "            a[j], a[i] = a[i], a[j]\n",
    "            i += 1\n",
    "     \n",
    "    pos = i - 1\n",
    "    a[left], a[pos] = a[pos], a[left]\n",
    "     \n",
    "    return pos #new pivot position. Used to divide the next left and right side of the array.\n"
   ]
  },
  {
   "cell_type": "code",
   "execution_count": null,
   "metadata": {
    "collapsed": true
   },
   "outputs": [],
   "source": [
    "def sort_around_pivot(a,a[1]):"
   ]
  },
  {
   "cell_type": "code",
   "execution_count": 4,
   "metadata": {
    "collapsed": false
   },
   "outputs": [
    {
     "data": {
      "text/plain": [
       "2"
      ]
     },
     "execution_count": 4,
     "metadata": {},
     "output_type": "execute_result"
    }
   ],
   "source": [
    "a=[3,1,2,5,6]\n",
    "part(a,0,len(a)-1)"
   ]
  },
  {
   "cell_type": "code",
   "execution_count": null,
   "metadata": {
    "collapsed": true
   },
   "outputs": [],
   "source": [
    "def quick_sort(a, left, right):\n",
    " \n",
    "    if left < right:\n",
    "        pivot_pos = part(a, left, right )\n",
    "        quick_sort(a, left, pivot_pos - 1)\n",
    "        quick_sort(a, pivot_pos + 1, right)"
   ]
  }
 ],
 "metadata": {
  "kernelspec": {
   "display_name": "Python [Root]",
   "language": "python",
   "name": "Python [Root]"
  },
  "language_info": {
   "codemirror_mode": {
    "name": "ipython",
    "version": 2
   },
   "file_extension": ".py",
   "mimetype": "text/x-python",
   "name": "python",
   "nbconvert_exporter": "python",
   "pygments_lexer": "ipython2",
   "version": "2.7.12"
  }
 },
 "nbformat": 4,
 "nbformat_minor": 0
}
