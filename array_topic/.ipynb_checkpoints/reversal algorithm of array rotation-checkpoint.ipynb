{
 "cells": [
  {
   "cell_type": "markdown",
   "metadata": {},
   "source": [
    "#source: http://www.geeksforgeeks.org/program-for-array-rotation-continued-reversal-algorithm/"
   ]
  },
  {
   "cell_type": "markdown",
   "metadata": {
    "collapsed": true
   },
   "source": [
    "#算法：\n",
    "rotate(arr[], d, n)\n",
    "  reverse(arr[], 1, d) ;\n",
    "  reverse(arr[], d + 1, n);\n",
    "  reverse(arr[], l, n);"
   ]
  },
  {
   "cell_type": "markdown",
   "metadata": {
    "collapsed": true
   },
   "source": [
    "# 算法执行案例：\n",
    "For arr[] = [1, 2, 3, 4, 5, 6, 7], d =2 and n = 7\n",
    "A = [1, 2] and B = [3, 4, 5, 6, 7]\n",
    "Reverse A, we get ArB = [2, 1, 3, 4, 5, 6, 7]\n",
    "Reverse B, we get ArBr = [2, 1, 7, 6, 5, 4, 3]\n",
    "Reverse all, we get (ArBr)r = [3, 4, 5, 6, 7, 1, 2]\n",
    "\n"
   ]
  },
  {
   "cell_type": "code",
   "execution_count": null,
   "metadata": {
    "collapsed": true
   },
   "outputs": [],
   "source": [
    "#这里利用了一个python调用function的特点。就是Argument的改变会在function之外生效。\n",
    "# 因此不用把新返回的list 赋值给原来的list"
   ]
  },
  {
   "cell_type": "code",
   "execution_count": 36,
   "metadata": {
    "collapsed": true
   },
   "outputs": [],
   "source": [
    "A = [3, 4, 5, 6, 7, 1, 2]"
   ]
  },
  {
   "cell_type": "code",
   "execution_count": 37,
   "metadata": {
    "collapsed": false
   },
   "outputs": [
    {
     "data": {
      "text/plain": [
       "[3, 1, 7, 6, 5, 4, 2]"
      ]
     },
     "execution_count": 37,
     "metadata": {},
     "output_type": "execute_result"
    }
   ],
   "source": [
    "def reverseArray(arr,start,end):\n",
    "    while (start < end):\n",
    "        arr[start],arr[end] = arr[end],arr[start]\n",
    "        start += 1\n",
    "        end = end-1\n",
    "    return arr\n",
    "reverseArray(A,1,5)"
   ]
  },
  {
   "cell_type": "code",
   "execution_count": 44,
   "metadata": {
    "collapsed": true
   },
   "outputs": [],
   "source": [
    "def Rotate(arr, d):\n",
    "    n = len(arr)\n",
    "    reverseArray(arr, 0, d-1)\n",
    "    reverseArray(arr, d, n-1)\n",
    "    reverseArray(arr, 0, n-1)\n",
    "    return arr"
   ]
  },
  {
   "cell_type": "code",
   "execution_count": 47,
   "metadata": {
    "collapsed": false
   },
   "outputs": [
    {
     "data": {
      "text/plain": [
       "[4, 5, 6, 7, 1, 2, 3]"
      ]
     },
     "execution_count": 47,
     "metadata": {},
     "output_type": "execute_result"
    }
   ],
   "source": [
    "arr = [1, 2, 3, 4, 5, 6, 7]\n",
    "Rotate(arr,3)"
   ]
  },
  {
   "cell_type": "code",
   "execution_count": null,
   "metadata": {
    "collapsed": true
   },
   "outputs": [],
   "source": []
  }
 ],
 "metadata": {
  "kernelspec": {
   "display_name": "Python [Root]",
   "language": "python",
   "name": "Python [Root]"
  },
  "language_info": {
   "codemirror_mode": {
    "name": "ipython",
    "version": 2
   },
   "file_extension": ".py",
   "mimetype": "text/x-python",
   "name": "python",
   "nbconvert_exporter": "python",
   "pygments_lexer": "ipython2",
   "version": "2.7.12"
  }
 },
 "nbformat": 4,
 "nbformat_minor": 0
}
