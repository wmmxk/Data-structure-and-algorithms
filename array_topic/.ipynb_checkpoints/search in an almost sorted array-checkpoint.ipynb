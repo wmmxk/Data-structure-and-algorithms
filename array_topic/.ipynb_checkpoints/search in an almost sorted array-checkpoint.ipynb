{
 "cells": [
  {
   "cell_type": "code",
   "execution_count": null,
   "metadata": {
    "collapsed": true
   },
   "outputs": [],
   "source": [
    "# source: \n",
    "http://www.geeksforgeeks.org/search-almost-sorted-array/"
   ]
  },
  {
   "cell_type": "code",
   "execution_count": null,
   "metadata": {
    "collapsed": true
   },
   "outputs": [],
   "source": [
    "Given an array which is sorted, \n",
    "but after sorting some elements are moved to either of the adjacent positions, i.e., \n",
    "arr[i] may be present at arr[i+1] or arr[i-1]. Write an efficient function to search an element in this array. \n",
    "Basically the element arr[i] can only be swapped with either arr[i+1] or arr[i-1]."
   ]
  }
 ],
 "metadata": {
  "kernelspec": {
   "display_name": "Python [Root]",
   "language": "python",
   "name": "Python [Root]"
  },
  "language_info": {
   "codemirror_mode": {
    "name": "ipython",
    "version": 2
   },
   "file_extension": ".py",
   "mimetype": "text/x-python",
   "name": "python",
   "nbconvert_exporter": "python",
   "pygments_lexer": "ipython2",
   "version": "2.7.12"
  }
 },
 "nbformat": 4,
 "nbformat_minor": 0
}
