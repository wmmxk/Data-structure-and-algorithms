{
 "cells": [
  {
   "cell_type": "code",
   "execution_count": null,
   "metadata": {
    "collapsed": true
   },
   "outputs": [],
   "source": [
    "#待处理的array就是left和right之间的，它在逐渐地缩短。"
   ]
  },
  {
   "cell_type": "code",
   "execution_count": 3,
   "metadata": {
    "collapsed": false
   },
   "outputs": [
    {
     "name": "stdout",
     "output_type": "stream",
     "text": [
      "input:  [0, 1, 2, 2, 1, 0]\n",
      "output:  [0, 0, 1, 1, 2, 2]\n"
     ]
    }
   ],
   "source": [
    "def DNF(input):\n",
    "        right = len(input)-1\n",
    "        left = 0\n",
    "        current = 0\n",
    "        while current <= right:\n",
    "                if input[current] == 0:\n",
    "                        input[left],input[current]=input[current],input[left]\n",
    "                        current = current+1\n",
    "                        left = left+1\n",
    "                elif input[current] == 2:\n",
    "                        input[current],input[right]=input[right],input[current]\n",
    "                        right = right-1\n",
    "                else:\n",
    "                        current +=1\n",
    "input = [0,1,2,2,1,0]\n",
    "print \"input: \", input\n",
    "DNF(input)\n",
    "print \"output: \", input"
   ]
  }
 ],
 "metadata": {
  "kernelspec": {
   "display_name": "Python [Root]",
   "language": "python",
   "name": "Python [Root]"
  },
  "language_info": {
   "codemirror_mode": {
    "name": "ipython",
    "version": 2
   },
   "file_extension": ".py",
   "mimetype": "text/x-python",
   "name": "python",
   "nbconvert_exporter": "python",
   "pygments_lexer": "ipython2",
   "version": "2.7.12"
  }
 },
 "nbformat": 4,
 "nbformat_minor": 0
}
