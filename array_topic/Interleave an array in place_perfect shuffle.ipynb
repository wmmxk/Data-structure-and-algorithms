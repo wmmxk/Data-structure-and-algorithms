{
 "cells": [
  {
   "cell_type": "code",
   "execution_count": null,
   "metadata": {
    "collapsed": true
   },
   "outputs": [],
   "source": [
    "# source: http://discuss.joelonsoftware.com/default.asp?interview.11.810768"
   ]
  },
  {
   "cell_type": "code",
   "execution_count": 12,
   "metadata": {
    "collapsed": true
   },
   "outputs": [],
   "source": [
    "def convertArray(arr):\n",
    "    N=len(arr)/3\n",
    "    for currentIndex in range(len(arr)):\n",
    "        swapIndex=getIndex(currentIndex, N)\n",
    "        while swapIndex<currentIndex:\n",
    "            swapIndex=getIndex(swapIndex, N)\n",
    "        arr[currentIndex], arr[swapIndex] = arr[swapIndex], arr[currentIndex]\n",
    "    return arr"
   ]
  },
  {
   "cell_type": "code",
   "execution_count": 13,
   "metadata": {
    "collapsed": true
   },
   "outputs": [],
   "source": [
    "def getIndex(currentIndex, N):\n",
    "    return (currentIndex%3)*N + (currentIndex/3)"
   ]
  },
  {
   "cell_type": "code",
   "execution_count": 14,
   "metadata": {
    "collapsed": false
   },
   "outputs": [],
   "source": [
    "arr=[\"a_1\",\"a_2\",\"a_3\",\"b_1\",\"b_2\",\"b_3\",\"c_1\",\"c_2\",\"c_3\"]"
   ]
  },
  {
   "cell_type": "code",
   "execution_count": 15,
   "metadata": {
    "collapsed": false
   },
   "outputs": [
    {
     "data": {
      "text/plain": [
       "['a_1', 'b_1', 'c_1', 'a_2', 'b_2', 'c_2', 'a_3', 'b_3', 'c_3']"
      ]
     },
     "execution_count": 15,
     "metadata": {},
     "output_type": "execute_result"
    }
   ],
   "source": [
    "convertArray(arr)"
   ]
  },
  {
   "cell_type": "code",
   "execution_count": 16,
   "metadata": {
    "collapsed": false,
    "scrolled": true
   },
   "outputs": [
    {
     "data": {
      "text/plain": [
       "2"
      ]
     },
     "execution_count": 16,
     "metadata": {},
     "output_type": "execute_result"
    }
   ],
   "source": [
    "import random\n",
    "\n",
    "def genRandom(a, b,n): \n",
    "    output= []\n",
    "    for i in range(n):\n",
    "        output.append(random.randint(a, b))\n",
    "    return output\n",
    "A = genRandom(3,100,4)"
   ]
  },
  {
   "cell_type": "code",
   "execution_count": 1,
   "metadata": {
    "collapsed": false
   },
   "outputs": [],
   "source": [
    "i = ['title', 'email', 'password2', 'password1', 'first_name', \n",
    "         'last_name', 'next', 'newsletter']\n",
    "a, b = i.index('password2'), i.index('password1')\n",
    "i[b], i[a] = i[a], i[b]"
   ]
  },
  {
   "cell_type": "code",
   "execution_count": 2,
   "metadata": {
    "collapsed": false
   },
   "outputs": [
    {
     "data": {
      "text/plain": [
       "['title',\n",
       " 'email',\n",
       " 'password1',\n",
       " 'password2',\n",
       " 'first_name',\n",
       " 'last_name',\n",
       " 'next',\n",
       " 'newsletter']"
      ]
     },
     "execution_count": 2,
     "metadata": {},
     "output_type": "execute_result"
    }
   ],
   "source": [
    "i"
   ]
  }
 ],
 "metadata": {
  "kernelspec": {
   "display_name": "Python [Root]",
   "language": "python",
   "name": "Python [Root]"
  },
  "language_info": {
   "codemirror_mode": {
    "name": "ipython",
    "version": 2
   },
   "file_extension": ".py",
   "mimetype": "text/x-python",
   "name": "python",
   "nbconvert_exporter": "python",
   "pygments_lexer": "ipython2",
   "version": "2.7.12"
  }
 },
 "nbformat": 4,
 "nbformat_minor": 0
}
