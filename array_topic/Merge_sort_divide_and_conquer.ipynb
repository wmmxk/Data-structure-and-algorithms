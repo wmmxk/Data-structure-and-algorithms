{
 "cells": [
  {
   "cell_type": "code",
   "execution_count": null,
   "metadata": {
    "collapsed": true
   },
   "outputs": [],
   "source": [
    "# Berkley的讲解：source: https://people.eecs.berkeley.edu/~vazirani/algorithms/chap2.pdf"
   ]
  },
  {
   "cell_type": "code",
   "execution_count": null,
   "metadata": {
    "collapsed": true
   },
   "outputs": [],
   "source": [
    "Looking back at the mergesort algorithm, we see that all the real work is done in merging,\n",
    "which doesn’t start until the recursion gets down to singleton arrays. \n",
    "每层divide做的interleaving sort的复杂度一样是O(n)，要做logn次。"
   ]
  },
  {
   "cell_type": "code",
   "execution_count": null,
   "metadata": {
    "collapsed": true
   },
   "outputs": [],
   "source": [
    "Mergesort的核心在于，inteleaving two sorted lists (升序）. 这个可以用recursion来实现：\n",
    "对于两个lists: A and B，得到C,\n",
    "如果A[0]<=B[0]，那么C[0]=A[0]; C.append(merge(A[0:],B))"
   ]
  },
  {
   "cell_type": "code",
   "execution_count": 33,
   "metadata": {
    "collapsed": true
   },
   "outputs": [],
   "source": [
    "import random\n",
    "\n",
    "def genRandom(a, b,n): \n",
    "    output= []\n",
    "    for i in range(n):\n",
    "        output.append(random.randint(a, b))\n",
    "    return output\n",
    "A = genRandom(3,100,3)\n",
    "B = genRandom(2,100,3)\n",
    "A.sort()\n",
    "B.sort()"
   ]
  },
  {
   "cell_type": "code",
   "execution_count": 39,
   "metadata": {
    "collapsed": true
   },
   "outputs": [],
   "source": [
    "# This does not work as expected\n",
    "def merge(A,B,C=[]):\n",
    "    if len(A)==0:\n",
    "        return B\n",
    "    if len(B)==0:\n",
    "        return A\n",
    "    if A[0]<=B[0]:\n",
    "        C.append(A[0])\n",
    "        C.append(merge(A[1:],B))\n",
    "        return C\n",
    "    if A[0]>B[0]:\n",
    "        C.append(B[0])\n",
    "        C.append(merge(A,B[1:]))\n",
    "        return C\n",
    "    "
   ]
  },
  {
   "cell_type": "code",
   "execution_count": 41,
   "metadata": {
    "collapsed": false,
    "scrolled": true
   },
   "outputs": [
    {
     "data": {
      "text/plain": [
       "[9, 20, 27, 30, 32, [39], [...], [...], [...], [...]]"
      ]
     },
     "execution_count": 41,
     "metadata": {},
     "output_type": "execute_result"
    }
   ],
   "source": [
    "merge(A,B)"
   ]
  },
  {
   "cell_type": "code",
   "execution_count": 46,
   "metadata": {
    "collapsed": true
   },
   "outputs": [],
   "source": [
    "def combine(a, b):\n",
    "    alist = []\n",
    "    if a == [] and b == []:\n",
    "       return alist\n",
    "    if a != [] and b == []:\n",
    "       return alist + a\n",
    "    if a == [] and b != []:\n",
    "       return alist + b\n",
    "    if a != [] and b != []:\n",
    "       if a[0] <= b[0]:\n",
    "          alist.append(a[0])\n",
    "          alist = alist +  combine(a[1:], b)\n",
    "       if a[0] > b[0]:\n",
    "          alist.append(b[0])\n",
    "          alist = alist +  combine(a, b[1:])\n",
    "    return alist"
   ]
  },
  {
   "cell_type": "code",
   "execution_count": 43,
   "metadata": {
    "collapsed": false
   },
   "outputs": [
    {
     "data": {
      "text/plain": [
       "[9, 20, 27, 30, 32, 39]"
      ]
     },
     "execution_count": 43,
     "metadata": {},
     "output_type": "execute_result"
    }
   ],
   "source": [
    "combine(A,B)"
   ]
  },
  {
   "cell_type": "code",
   "execution_count": 47,
   "metadata": {
    "collapsed": true
   },
   "outputs": [],
   "source": [
    "D=genRandom(2,100,10)"
   ]
  },
  {
   "cell_type": "code",
   "execution_count": 52,
   "metadata": {
    "collapsed": true
   },
   "outputs": [],
   "source": [
    "def merge_sort(A):\n",
    "    n=len(A)\n",
    "    if n>1:\n",
    "        return combine(merge_sort(A[:n/2]),merge_sort(A[n/2:]))\n",
    "    else:\n",
    "        return A"
   ]
  },
  {
   "cell_type": "code",
   "execution_count": 53,
   "metadata": {
    "collapsed": false,
    "scrolled": true
   },
   "outputs": [
    {
     "data": {
      "text/plain": [
       "[22, 24, 29, 29, 39, 41, 62, 63, 91, 95]"
      ]
     },
     "execution_count": 53,
     "metadata": {},
     "output_type": "execute_result"
    }
   ],
   "source": [
    "merge_sort(D)"
   ]
  },
  {
   "cell_type": "code",
   "execution_count": 45,
   "metadata": {
    "collapsed": false
   },
   "outputs": [
    {
     "name": "stdout",
     "output_type": "stream",
     "text": [
      "[9]\n",
      "[30, 32]\n"
     ]
    }
   ],
   "source": [
    "print A[:1]\n",
    "print A[1:]"
   ]
  }
 ],
 "metadata": {
  "kernelspec": {
   "display_name": "Python [Root]",
   "language": "python",
   "name": "Python [Root]"
  },
  "language_info": {
   "codemirror_mode": {
    "name": "ipython",
    "version": 2
   },
   "file_extension": ".py",
   "mimetype": "text/x-python",
   "name": "python",
   "nbconvert_exporter": "python",
   "pygments_lexer": "ipython2",
   "version": "2.7.12"
  }
 },
 "nbformat": 4,
 "nbformat_minor": 0
}
