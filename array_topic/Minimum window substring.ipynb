{
 "cells": [
  {
   "cell_type": "code",
   "execution_count": null,
   "metadata": {
    "collapsed": true
   },
   "outputs": [],
   "source": [
    "#回答这个问题的时候，想想，你最终就是要得到这个window的左右边界，（这里存在min_start和min_length里。\n",
    "# 下面这个code第一部分，给target中独立字母建立一个字典：key为字母，value为在target中的出现次数。\n",
    "# while end < len(s) 中end +=1之前的是历遍s（不一定历遍完）直到，count_need为零（意味\n",
    "    #着target中所有的字母在source的截至end以前的string都有了），此时开始执行嵌套的while,\n",
    "    #去缩短min_start那个左边界\n",
    "# min_start就是source中第一个出现target中character那个。\n",
    "# 一旦s[start] in target，这个key对应的value就加一，（这里好像可以不用字典，直接s[start] in target\n",
    "#就找到了"
   ]
  },
  {
   "cell_type": "code",
   "execution_count": 1,
   "metadata": {
    "collapsed": true
   },
   "outputs": [],
   "source": [
    "from collections import defaultdict\n",
    "\n",
    "\n",
    "class Solution(object):\n",
    "    def minWindow(self, s, t):\n",
    "\n",
    "        MAX_INT = 2147483647\n",
    "        start = end = 0\n",
    "        char_need = defaultdict(int)    # the count of char needed by current window, \\\n",
    "                                    #negative means current window has it but not needs it\n",
    "        count_need = len(t)             # count of chars not in current window but in t\n",
    "        min_length = MAX_INT\n",
    "        min_start = 0\n",
    "        for i in t:\n",
    "            # current window needs all char in t\n",
    "            char_need[i] += 1           \n",
    "        while end < len(s):\n",
    "            if char_need[s[end]] > 0:\n",
    "                count_need -= 1\n",
    "            # current window contains s[end] now, so does not need it any more\n",
    "            char_need[s[end]] -= 1      \n",
    "            end += 1\n",
    "            while count_need == 0:\n",
    "                if min_length > end - start:\n",
    "                    min_length = end - start\n",
    "                    min_start = start\n",
    "                # current window does not contain s[start] any more\n",
    "                char_need[s[start]] += 1    \n",
    "                # when some count in char_need is positive, it means there is char in t but not current window\n",
    "                if char_need[s[start]] > 0: \n",
    "                    count_need += 1\n",
    "                start += 1\n",
    "        return \"\" if min_length == MAX_INT else s[min_start:min_start + min_length]\n",
    "\n"
   ]
  },
  {
   "cell_type": "code",
   "execution_count": 21,
   "metadata": {
    "collapsed": false
   },
   "outputs": [
    {
     "data": {
      "text/plain": [
       "'BG'"
      ]
     },
     "execution_count": 21,
     "metadata": {},
     "output_type": "execute_result"
    }
   ],
   "source": [
    "Solution().minWindow(\"ABG\", \"BG\")"
   ]
  },
  {
   "cell_type": "code",
   "execution_count": 27,
   "metadata": {
    "collapsed": true
   },
   "outputs": [],
   "source": [
    "s = \"ABG\"\n",
    "t=\"BG\"\n",
    "MAX_INT = 2147483647\n",
    "\n",
    "start = end = 0\n",
    "char_need = defaultdict(int)    # the count of char needed by current window, \\\n",
    "                                    #negative means current window has it but not needs it\n",
    "count_need = len(t)             # count of chars not in current window but in t\n",
    "min_length = MAX_INT\n",
    "min_start = 0\n",
    "\n",
    "for i in t:\n",
    "            # current window needs all char in t\n",
    "            char_need[i] += 1   "
   ]
  },
  {
   "cell_type": "code",
   "execution_count": 28,
   "metadata": {
    "collapsed": false
   },
   "outputs": [
    {
     "name": "stdout",
     "output_type": "stream",
     "text": [
      "ABG\n",
      "ABG\n",
      "BG\n"
     ]
    }
   ],
   "source": [
    "while end < len(s):\n",
    "            if char_need[s[end]] > 0:\n",
    "                count_need -= 1\n",
    "            # current window contains s[end] now, so does not need it any more\n",
    "            char_need[s[end]] -= 1      \n",
    "            end += 1\n",
    "            while count_need == 0:\n",
    "                if min_length > end - start:\n",
    "                    min_length = end - start\n",
    "                    min_start = start\n",
    "                # current window does not contain s[start] any more\n",
    "                char_need[s[start]] += 1    \n",
    "                # when some count in char_need is positive, it means there is char in t but not current window\n",
    "                if char_need[s[start]] > 0: \n",
    "                    count_need += 1\n",
    "                start += 1\n",
    "            print s[min_start:min_start + min_length]"
   ]
  },
  {
   "cell_type": "code",
   "execution_count": null,
   "metadata": {
    "collapsed": true
   },
   "outputs": [],
   "source": []
  }
 ],
 "metadata": {
  "kernelspec": {
   "display_name": "Python [Root]",
   "language": "python",
   "name": "Python [Root]"
  },
  "language_info": {
   "codemirror_mode": {
    "name": "ipython",
    "version": 2
   },
   "file_extension": ".py",
   "mimetype": "text/x-python",
   "name": "python",
   "nbconvert_exporter": "python",
   "pygments_lexer": "ipython2",
   "version": "2.7.12"
  }
 },
 "nbformat": 4,
 "nbformat_minor": 0
}
