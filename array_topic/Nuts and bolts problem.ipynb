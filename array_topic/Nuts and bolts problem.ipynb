{
 "cells": [
  {
   "cell_type": "code",
   "execution_count": null,
   "metadata": {
    "collapsed": true
   },
   "outputs": [],
   "source": [
    "source: 首先使用 nuts 中的某一个元素作为基准对 bolts 进行 partition 操作，\n",
    "    随后将 bolts 中得到的基准元素作为基准对 nuts 进行 partition 操作。\n",
    "\n"
   ]
  },
  {
   "cell_type": "code",
   "execution_count": null,
   "metadata": {
    "collapsed": true
   },
   "outputs": [],
   "source": [
    "code source：\n",
    "https://www.kancloud.cn/kancloud/data-structure-and-algorithm-notes/73103"
   ]
  },
  {
   "cell_type": "code",
   "execution_count": null,
   "metadata": {
    "collapsed": true
   },
   "outputs": [],
   "source": [
    "#关键点，先研究透：three partition方法进行 二分排序：\n",
    "array_topic里面有：kth smallest elements of an array"
   ]
  },
  {
   "cell_type": "code",
   "execution_count": 20,
   "metadata": {
    "collapsed": false
   },
   "outputs": [],
   "source": [
    "class Compare:\n",
    "        @classmethod\n",
    "        def cmp(cls, a, b):\n",
    "            \"\"\"\n",
    "            THIS IS A SAMPLE CMP FOR TESTING.\n",
    "            You can use Compare.cmp(a, b) to compare nuts \"a\" and bolts \"b\",\n",
    "            if \"a\" is bigger than \"b\", it will return 1, else if they are equal,\n",
    "            it will return 0, else if \"a\" is smaller than \"b\", it will return -1.\n",
    "            When \"a\" is not a nut or \"b\" is not a bolt, it will return 2, which is not valid.\n",
    "            :param a:\n",
    "            :param b:\n",
    "            :return:\n",
    "            \"\"\"\n",
    "            a = a.lower()\n",
    "            b = b.lower()\n",
    "\n",
    "            diff = ord(a)-ord(b)\n",
    "            if diff < 0:\n",
    "                return -1\n",
    "            elif diff > 0:\n",
    "                return 1\n",
    "            else:\n",
    "                return 0\n"
   ]
  },
  {
   "cell_type": "code",
   "execution_count": null,
   "metadata": {
    "collapsed": true
   },
   "outputs": [],
   "source": []
  },
  {
   "cell_type": "code",
   "execution_count": 139,
   "metadata": {
    "collapsed": false
   },
   "outputs": [],
   "source": [
    "class Solution:\n",
    "    def sortNutsAndBolts(self, nuts, bolts):\n",
    "\n",
    "        assert len(nuts) == len(bolts)\n",
    "        self.quick_sort(nuts, bolts, 0, len(nuts))\n",
    "\n",
    "    def quick_sort(self, nuts, bolts, start, end):\n",
    "\n",
    "        if start >= end:\n",
    "            return\n",
    "\n",
    "        pivot = self.partition(nuts, bolts[start], start, end)\n",
    "        self.partition(bolts, nuts[pivot], start, end)\n",
    "        self.quick_sort(nuts, bolts, start, pivot)\n",
    "        self.quick_sort(nuts, bolts, pivot+1, end)\n",
    "\n",
    "    def partition(self, A, pivot, start, end):\n",
    "      \n",
    "        left = start  # save for the counterpart's pivot\n",
    "        i = start+1\n",
    "        while i < end:\n",
    "            if Compare.cmp(A[i], pivot) == -1:\n",
    "                left += 1\n",
    "                A[left], A[i] = A[i], A[left]\n",
    "                i += 1\n",
    "            elif Compare.cmp(A[i], pivot) == 0: \n",
    "                A[start], A[i] = A[i], A[start]\n",
    "            else:\n",
    "                i += 1\n",
    "        A[start], A[left] = A[left], A[start]\n",
    "\n",
    "        return left"
   ]
  },
  {
   "cell_type": "code",
   "execution_count": 140,
   "metadata": {
    "collapsed": false
   },
   "outputs": [
    {
     "name": "stdout",
     "output_type": "stream",
     "text": [
      "['A', 'B', 'D', 'E', 'F', 'G']\n",
      "['a', 'b', 'd', 'e', 'f', 'g']\n"
     ]
    }
   ],
   "source": [
    "nuts = ['a', 'b', 'e', 'g','d','f']\n",
    "bolts = ['D', 'A', 'E', 'G','F','B']\n",
    "Solution().sortNutsAndBolts(nuts, bolts)\n",
    "print bolts\n",
    "print nuts"
   ]
  },
  {
   "cell_type": "code",
   "execution_count": 19,
   "metadata": {
    "collapsed": false
   },
   "outputs": [
    {
     "data": {
      "text/plain": [
       "['A', 'B', 'D', 'G']"
      ]
     },
     "execution_count": 19,
     "metadata": {},
     "output_type": "execute_result"
    }
   ],
   "source": [
    "def quick_sort(nuts, bolts, start, end):\n",
    "\n",
    "        if start >= end:\n",
    "            return\n",
    "\n",
    "        pivot = partition(nuts, bolts[start], start, end)\n",
    "        partition(bolts, nuts[pivot], start, end)"
   ]
  },
  {
   "cell_type": "code",
   "execution_count": 150,
   "metadata": {
    "collapsed": false
   },
   "outputs": [],
   "source": [
    "def partition(A, pivot, start, end):\n",
    "      \n",
    "        left = start  # save for the counterpart's pivot\n",
    "        i = start+1\n",
    "        while i < end:\n",
    "            if Compare.cmp(A[i], pivot) == -1: \n",
    "                print \"True\" \n",
    "                left += 1\n",
    "                print \"Not equal\",\"left and i\",left,i\n",
    "                A[left], A[i] = A[i], A[left]\n",
    "                print A\n",
    "                i += 1\n",
    "                print 'i after Notequal',i\n",
    "            elif Compare.cmp(A[i], pivot) == 0: \n",
    "                print \"Equal\"\n",
    "                A[start], A[i] = A[i], A[start]\n",
    "                print A\n",
    "                print 'left and i after equal',left,i\n",
    "            else:\n",
    "                i += 1\n",
    "                print \"i after else\",i\n",
    "            \n",
    "        A[start], A[left] = A[left], A[start]\n",
    "\n",
    "        return left"
   ]
  },
  {
   "cell_type": "code",
   "execution_count": 155,
   "metadata": {
    "collapsed": false,
    "scrolled": false
   },
   "outputs": [
    {
     "name": "stdout",
     "output_type": "stream",
     "text": [
      "D\n",
      "True\n",
      "Not equal left and i 1 1\n",
      "['a', 'b', 'e', 'g', 'd', 'f']\n",
      "i after Notequal 2\n",
      "i after else 3\n",
      "i after else 4\n",
      "Equal\n",
      "['d', 'b', 'e', 'g', 'a', 'f']\n",
      "left and i after equal 1 4\n",
      "True\n",
      "Not equal left and i 2 4\n",
      "['d', 'b', 'a', 'g', 'e', 'f']\n",
      "i after Notequal 5\n",
      "i after else 6\n",
      "2\n"
     ]
    },
    {
     "data": {
      "text/plain": [
       "['a', 'b', 'd', 'g', 'e', 'f']"
      ]
     },
     "execution_count": 155,
     "metadata": {},
     "output_type": "execute_result"
    }
   ],
   "source": [
    "nuts = ['a', 'b', 'e', 'g','d','f']\n",
    "bolts = ['D', 'A', 'E', 'G','F','B']\n",
    "print bolts[0]\n",
    "print partition(nuts,bolts[0],0,len(nuts))\n",
    "nuts\n"
   ]
  },
  {
   "cell_type": "code",
   "execution_count": 156,
   "metadata": {
    "collapsed": false,
    "scrolled": true
   },
   "outputs": [
    {
     "name": "stdout",
     "output_type": "stream",
     "text": [
      "True\n",
      "Not equal left and i 1 1\n",
      "['D', 'A', 'E', 'G', 'F', 'B']\n",
      "i after Notequal 2\n",
      "i after else 3\n",
      "i after else 4\n",
      "i after else 5\n",
      "True\n",
      "Not equal left and i 2 5\n",
      "['D', 'A', 'B', 'G', 'F', 'E']\n",
      "i after Notequal 6\n",
      "2\n",
      "['B', 'A', 'D', 'G', 'F', 'E']\n"
     ]
    }
   ],
   "source": [
    "print partition(bolts, nuts[2], 0, len(nuts))\n",
    "print bolts\n"
   ]
  },
  {
   "cell_type": "code",
   "execution_count": null,
   "metadata": {
    "collapsed": true
   },
   "outputs": [],
   "source": [
    "partition(nuts,)"
   ]
  }
 ],
 "metadata": {
  "kernelspec": {
   "display_name": "Python [Root]",
   "language": "python",
   "name": "Python [Root]"
  },
  "language_info": {
   "codemirror_mode": {
    "name": "ipython",
    "version": 2
   },
   "file_extension": ".py",
   "mimetype": "text/x-python",
   "name": "python",
   "nbconvert_exporter": "python",
   "pygments_lexer": "ipython2",
   "version": "2.7.12"
  }
 },
 "nbformat": 4,
 "nbformat_minor": 0
}
