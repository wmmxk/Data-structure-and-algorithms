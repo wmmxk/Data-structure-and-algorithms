{
 "cells": [
  {
   "cell_type": "code",
   "execution_count": null,
   "metadata": {
    "collapsed": true
   },
   "outputs": [],
   "source": [
    "# source: http://www.geeksforgeeks.org/rearrange-given-array-place/"
   ]
  },
  {
   "cell_type": "code",
   "execution_count": null,
   "metadata": {
    "collapsed": true
   },
   "outputs": [],
   "source": [
    "题目：\n",
    "Given an array arr[] of size n where every element\n",
    "is in range from 0 to n-1. Rearrange the given array \n",
    "so that arr[i] becomes arr[arr[i]]. This should be done with O(1) extra space.\n",
    "\n"
   ]
  },
  {
   "cell_type": "code",
   "execution_count": 3,
   "metadata": {
    "collapsed": false
   },
   "outputs": [
    {
     "data": {
      "text/plain": [
       "2"
      ]
     },
     "execution_count": 3,
     "metadata": {},
     "output_type": "execute_result"
    }
   ],
   "source": [
    "#这题的思路是如果能原地交换第i个元素与第arr[i]个元素就可以了。 但是第i个元素到后来可能就不是原来的元素了。\n",
    "\n",
    "# 如果能新第i个元素时，是在原来的基础上添加一部分，并且添加完，原来的部分和新加的部分能区分开就好办了。\n",
    "\n",
    "# 巧用求余数%与/的区别。另外利用所有数都小于n的特点"
   ]
  },
  {
   "cell_type": "code",
   "execution_count": null,
   "metadata": {
    "collapsed": true
   },
   "outputs": [],
   "source": [
    "这个题的关键点是所有的数，小于n，所以"
   ]
  }
 ],
 "metadata": {
  "kernelspec": {
   "display_name": "Python [Root]",
   "language": "python",
   "name": "Python [Root]"
  },
  "language_info": {
   "codemirror_mode": {
    "name": "ipython",
    "version": 2
   },
   "file_extension": ".py",
   "mimetype": "text/x-python",
   "name": "python",
   "nbconvert_exporter": "python",
   "pygments_lexer": "ipython2",
   "version": "2.7.12"
  }
 },
 "nbformat": 4,
 "nbformat_minor": 0
}
