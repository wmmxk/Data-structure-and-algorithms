{
 "cells": [
  {
   "cell_type": "code",
   "execution_count": null,
   "metadata": {
    "collapsed": true
   },
   "outputs": [],
   "source": [
    "# 转化成这个问题：\n",
    "The motivation of the algorithm is that we want to find some (x_ans,y_ans) such that \n",
    "x_ans + y_ans = k and max(A[x_ans],B[y_ans]) is the kth smallest element. "
   ]
  },
  {
   "cell_type": "code",
   "execution_count": 18,
   "metadata": {
    "collapsed": true
   },
   "outputs": [],
   "source": [
    "import random\n",
    "\n",
    "def genRandom(a, b,n): \n",
    "    output= []\n",
    "    for i in range(n):\n",
    "        output.append(random.randint(a, b))\n",
    "    return output"
   ]
  },
  {
   "cell_type": "code",
   "execution_count": 19,
   "metadata": {
    "collapsed": true
   },
   "outputs": [],
   "source": [
    "A = genRandom(3,100,10)\n",
    "B = genRandom(2,100,10)\n",
    "A.sort()\n",
    "B.sort()"
   ]
  },
  {
   "cell_type": "code",
   "execution_count": 21,
   "metadata": {
    "collapsed": false,
    "scrolled": true
   },
   "outputs": [
    {
     "name": "stdout",
     "output_type": "stream",
     "text": [
      "[7, 8, 17, 18, 22, 30, 40, 42, 54, 55, 56, 59, 66, 67, 80, 85, 85, 88, 90, 96]\n"
     ]
    }
   ],
   "source": [
    "C =A+B\n",
    "C.sort()\n",
    "print C"
   ]
  },
  {
   "cell_type": "code",
   "execution_count": 107,
   "metadata": {
    "collapsed": false
   },
   "outputs": [],
   "source": [
    "# define a sign function:\n",
    "sign = lambda a: (a>0) - (a<0)\n",
    "# 判断A[A_index]与B[B_index]的大小来决定往哪个方向走，有问题。冒险了\n",
    "def kth_element(A,B,k):\n",
    "    if len(B)>=k and A[0]>=B[k-1]:\n",
    "        return B[k-1]\n",
    "    if len(A)>=k and B[0]>=A[k-1]:\n",
    "        return A[k-1]\n",
    "    \n",
    "    step = k/2\n",
    "    A_index=step-1\n",
    "    B_index=k-step-1\n",
    "    while step:  \n",
    "            direction = sign(A[A_index]-B[B_index])\n",
    "            print direction\n",
    "\n",
    "            print \"A_index\",A_index, \"A\",A[A_index]\n",
    "            print \"B_index\",B_index, \"B\", B[B_index]\n",
    "            print \"step\",step\n",
    "            if direction==0:\n",
    "                return A[A_index]\n",
    "            \n",
    "            A_index = A_index - direction*step/2\n",
    "            B_index = B_index + direction*step/2\n",
    "            step/=2\n",
    "    return  max(A[A_index],B[B_index]),A_index+B_index\n"
   ]
  },
  {
   "cell_type": "code",
   "execution_count": 114,
   "metadata": {
    "collapsed": false
   },
   "outputs": [
    {
     "data": {
      "text/plain": [
       "-1"
      ]
     },
     "execution_count": 114,
     "metadata": {},
     "output_type": "execute_result"
    }
   ],
   "source": [
    "a=-1\n",
    "b=2\n",
    "(a>0) - (b>0)"
   ]
  },
  {
   "cell_type": "code",
   "execution_count": 147,
   "metadata": {
    "collapsed": false
   },
   "outputs": [],
   "source": [
    "def kth_elementfine(A,B,k):\n",
    "    if len(B)>=k and A[0]>=B[k-1]:\n",
    "        return B[k-1]\n",
    "    if len(A)>=k and B[0]>=A[k-1]:\n",
    "        return A[k-1]\n",
    "    \n",
    "    step = k/2\n",
    "    A_index=step-1\n",
    "    B_index=k-step-1\n",
    "    while step:  \n",
    "            if A[A_index]==B[B_index]:\n",
    "               return A[A_index]\n",
    "            \n",
    "            if A[A_index]>B[B_index]:\n",
    "                if A[A_index]>=B[B_index+1]:\n",
    "                   direction = 1\n",
    "                else:\n",
    "                    direction = 0\n",
    "            if A[A_index]<B[B_index]:\n",
    "                if A[A_index+1]<=B[B_index]:\n",
    "                    direction = -1\n",
    "                else:\n",
    "                    direction=0\n",
    "            \n",
    "\n",
    "            print \"A_index\",A_index, \"A\",A[A_index]\n",
    "            print \"B_index\",B_index, \"B\", B[B_index]\n",
    "            print \"step\",step\n",
    "            \n",
    "            A_index = A_index - direction*step/2\n",
    "            B_index = B_index + direction*step/2\n",
    "            step/=2\n",
    "    return  max(A[A_index],B[B_index])\n"
   ]
  },
  {
   "cell_type": "markdown",
   "metadata": {},
   "source": [
    "print kth_element(A,B,9)"
   ]
  },
  {
   "cell_type": "code",
   "execution_count": 150,
   "metadata": {
    "collapsed": false
   },
   "outputs": [],
   "source": [
    "A[8]=86"
   ]
  },
  {
   "cell_type": "code",
   "execution_count": 151,
   "metadata": {
    "collapsed": false,
    "scrolled": true
   },
   "outputs": [
    {
     "name": "stdout",
     "output_type": "stream",
     "text": [
      "A_index 7 A 85\n",
      "B_index 8 B 88\n",
      "step 8\n"
     ]
    },
    {
     "ename": "IndexError",
     "evalue": "list index out of range",
     "output_type": "error",
     "traceback": [
      "\u001b[1;31m---------------------------------------------------------------------------\u001b[0m",
      "\u001b[1;31mIndexError\u001b[0m                                Traceback (most recent call last)",
      "\u001b[1;32m<ipython-input-151-633db73ae599>\u001b[0m in \u001b[0;36m<module>\u001b[1;34m()\u001b[0m\n\u001b[0;32m      1\u001b[0m \u001b[1;33m\u001b[0m\u001b[0m\n\u001b[1;32m----> 2\u001b[1;33m \u001b[1;32mprint\u001b[0m \u001b[0mkth_elementfine\u001b[0m\u001b[1;33m(\u001b[0m\u001b[0mA\u001b[0m\u001b[1;33m,\u001b[0m\u001b[0mB\u001b[0m\u001b[1;33m,\u001b[0m\u001b[1;36m17\u001b[0m\u001b[1;33m)\u001b[0m\u001b[1;33m\u001b[0m\u001b[0m\n\u001b[0m",
      "\u001b[1;32m<ipython-input-147-0878a0e802c0>\u001b[0m in \u001b[0;36mkth_elementfine\u001b[1;34m(A, B, k)\u001b[0m\n\u001b[0;32m      9\u001b[0m     \u001b[0mB_index\u001b[0m\u001b[1;33m=\u001b[0m\u001b[0mk\u001b[0m\u001b[1;33m-\u001b[0m\u001b[0mstep\u001b[0m\u001b[1;33m-\u001b[0m\u001b[1;36m1\u001b[0m\u001b[1;33m\u001b[0m\u001b[0m\n\u001b[0;32m     10\u001b[0m     \u001b[1;32mwhile\u001b[0m \u001b[0mstep\u001b[0m\u001b[1;33m:\u001b[0m\u001b[1;33m\u001b[0m\u001b[0m\n\u001b[1;32m---> 11\u001b[1;33m             \u001b[1;32mif\u001b[0m \u001b[0mA\u001b[0m\u001b[1;33m[\u001b[0m\u001b[0mA_index\u001b[0m\u001b[1;33m]\u001b[0m\u001b[1;33m==\u001b[0m\u001b[0mB\u001b[0m\u001b[1;33m[\u001b[0m\u001b[0mB_index\u001b[0m\u001b[1;33m]\u001b[0m\u001b[1;33m:\u001b[0m\u001b[1;33m\u001b[0m\u001b[0m\n\u001b[0m\u001b[0;32m     12\u001b[0m                \u001b[1;32mreturn\u001b[0m \u001b[0mA\u001b[0m\u001b[1;33m[\u001b[0m\u001b[0mA_index\u001b[0m\u001b[1;33m]\u001b[0m\u001b[1;33m\u001b[0m\u001b[0m\n\u001b[0;32m     13\u001b[0m \u001b[1;33m\u001b[0m\u001b[0m\n",
      "\u001b[1;31mIndexError\u001b[0m: list index out of range"
     ]
    }
   ],
   "source": [
    "\n",
    "print kth_elementfine(A,B,17)"
   ]
  },
  {
   "cell_type": "code",
   "execution_count": 72,
   "metadata": {
    "collapsed": false
   },
   "outputs": [],
   "source": [
    "C_pair=[]\n",
    "for i, value in enumerate(C):\n",
    "    C_pair.append((i,value))"
   ]
  },
  {
   "cell_type": "code",
   "execution_count": 73,
   "metadata": {
    "collapsed": false,
    "scrolled": true
   },
   "outputs": [
    {
     "name": "stdout",
     "output_type": "stream",
     "text": [
      "[(0, 7), (1, 8), (2, 17), (3, 18), (4, 22), (5, 30), (6, 40), (7, 42), (8, 54), (9, 55), (10, 56), (11, 59), (12, 66), (13, 67), (14, 80), (15, 85), (16, 85), (17, 88), (18, 90), (19, 96)]\n"
     ]
    }
   ],
   "source": [
    "print C_pair"
   ]
  },
  {
   "cell_type": "code",
   "execution_count": 152,
   "metadata": {
    "collapsed": false,
    "scrolled": true
   },
   "outputs": [
    {
     "name": "stdout",
     "output_type": "stream",
     "text": [
      "[8, 30, 55, 56, 59, 66, 67, 85, 86, 96]\n",
      "[7, 17, 18, 22, 40, 42, 54, 80, 88, 90]\n"
     ]
    }
   ],
   "source": [
    "print A\n",
    "print B"
   ]
  },
  {
   "cell_type": "code",
   "execution_count": 94,
   "metadata": {
    "collapsed": false,
    "scrolled": true
   },
   "outputs": [
    {
     "name": "stdout",
     "output_type": "stream",
     "text": [
      "A_index 3 A 56\n",
      "B_index 4 B 40\n"
     ]
    },
    {
     "data": {
      "text/plain": [
       "30"
      ]
     },
     "execution_count": 94,
     "metadata": {},
     "output_type": "execute_result"
    }
   ],
   "source": []
  }
 ],
 "metadata": {
  "kernelspec": {
   "display_name": "Python [Root]",
   "language": "python",
   "name": "Python [Root]"
  },
  "language_info": {
   "codemirror_mode": {
    "name": "ipython",
    "version": 2
   },
   "file_extension": ".py",
   "mimetype": "text/x-python",
   "name": "python",
   "nbconvert_exporter": "python",
   "pygments_lexer": "ipython2",
   "version": "2.7.12"
  }
 },
 "nbformat": 4,
 "nbformat_minor": 0
}
