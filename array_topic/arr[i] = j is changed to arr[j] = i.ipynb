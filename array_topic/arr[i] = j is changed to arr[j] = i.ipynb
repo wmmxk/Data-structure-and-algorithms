{
 "cells": [
  {
   "cell_type": "code",
   "execution_count": null,
   "metadata": {
    "collapsed": true
   },
   "outputs": [],
   "source": [
    "#问题： all the elements are unique\n",
    "Given an array of size n where all elements are in range from 0 to n-1, \n",
    "change contents of arr[] so that arr[i] = j is changed to arr[j] = i."
   ]
  },
  {
   "cell_type": "code",
   "execution_count": null,
   "metadata": {
    "collapsed": true
   },
   "outputs": [],
   "source": [
    "http://www.geeksforgeeks.org/rearrange-array-arrj-becomes-arri-j/"
   ]
  },
  {
   "cell_type": "code",
   "execution_count": null,
   "metadata": {
    "collapsed": true
   },
   "outputs": [],
   "source": [
    "The idea is based on the fact that the modified array is basically a permutation of \n",
    "input array. We can find the target permutation by storing the next item before updating it.\n",
    "\n",
    "Let us consider array ‘{1, 3, 0, 2}’ for example.\n",
    "We start with i = 0, arr[i] is 1. So we go to arr[1] and change it to 0 (because i is 0). \n",
    "Before we make the change, we store old value of arr[1] as the old value is going \n",
    "to be our new index i. In next iteration, we have i = 3, arr[3] is 2, \n",
    "so we change arr[2] to 3. Before making the change we store next i as old value of arr[2]."
   ]
  }
 ],
 "metadata": {},
 "nbformat": 4,
 "nbformat_minor": 0
}
