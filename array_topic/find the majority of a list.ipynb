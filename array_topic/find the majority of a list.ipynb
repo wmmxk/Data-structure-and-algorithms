{
 "cells": [
  {
   "cell_type": "code",
   "execution_count": null,
   "metadata": {
    "collapsed": true
   },
   "outputs": [],
   "source": [
    "http://bookshadow.com/weblog/2014/12/22/leetcode-majority-element/"
   ]
  },
  {
   "cell_type": "code",
   "execution_count": null,
   "metadata": {
    "collapsed": true
   },
   "outputs": [],
   "source": [
    "class Solution:\n",
    "    # @param num, a list of integers\n",
    "    # @return an integer\n",
    "    def majorityElement(self, num):\n",
    "        candidate, count = None, 0\n",
    "        for e in num:\n",
    "            if count == 0:\n",
    "                candidate, count = e, 1\n",
    "            elif e == candidate:\n",
    "                count += 1\n",
    "            else:\n",
    "                count -= 1\n",
    "        return candidate"
   ]
  }
 ],
 "metadata": {
  "kernelspec": {
   "display_name": "Python [Root]",
   "language": "python",
   "name": "Python [Root]"
  },
  "language_info": {
   "codemirror_mode": {
    "name": "ipython",
    "version": 2
   },
   "file_extension": ".py",
   "mimetype": "text/x-python",
   "name": "python",
   "nbconvert_exporter": "python",
   "pygments_lexer": "ipython2",
   "version": "2.7.12"
  }
 },
 "nbformat": 4,
 "nbformat_minor": 0
}
