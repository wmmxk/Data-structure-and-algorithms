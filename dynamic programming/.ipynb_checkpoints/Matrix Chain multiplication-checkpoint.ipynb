{
 "cells": [
  {
   "cell_type": "code",
   "execution_count": null,
   "metadata": {
    "collapsed": true
   },
   "outputs": [],
   "source": [
    "Question:\n",
    "Given a sequence of matrices, find the most efficient way to multiply these matrices together.\n",
    "The problem is not actually to perform the multiplications, but merely to decide \n",
    "in which order to perform the multiplications.\n",
    "\n",
    "We have many options to multiply a chain of matrices because matrix multiplication is associative.\n",
    "In other words, no matter how we parenthesize the product, the result will be the same. For example, \n",
    "if we had four matrices A, B, C, and D, we would have:"
   ]
  }
 ],
 "metadata": {
  "kernelspec": {
   "display_name": "Python [Root]",
   "language": "python",
   "name": "Python [Root]"
  },
  "language_info": {
   "codemirror_mode": {
    "name": "ipython",
    "version": 2
   },
   "file_extension": ".py",
   "mimetype": "text/x-python",
   "name": "python",
   "nbconvert_exporter": "python",
   "pygments_lexer": "ipython2",
   "version": "2.7.12"
  }
 },
 "nbformat": 4,
 "nbformat_minor": 0
}
