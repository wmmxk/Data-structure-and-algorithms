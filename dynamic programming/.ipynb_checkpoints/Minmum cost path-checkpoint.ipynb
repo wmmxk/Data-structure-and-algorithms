{
 "cells": [
  {
   "cell_type": "code",
   "execution_count": null,
   "metadata": {
    "collapsed": true
   },
   "outputs": [],
   "source": [
    "# source: http://www.geeksforgeeks.org/dynamic-programming-set-6-min-cost-path/"
   ]
  },
  {
   "cell_type": "code",
   "execution_count": null,
   "metadata": {
    "collapsed": true
   },
   "outputs": [],
   "source": [
    "DP问题其实只有两层关系一个是递推公式，一个是起点（递推公式中的每个都对应一个递推起点）\n",
    "# 递推关系：\n",
    "The path to reach (m, n) must be through one of the 3 cells: (m-1, n-1) or (m-1, n) \n",
    "or (m, n-1). So minimum cost to reach (m, n) can be written as “minimum of the 3 cells plus cost[m][n]”.\n",
    "\n",
    "minCost(m, n) = min (minCost(m-1, n-1), minCost(m-1, n), minCost(m, n-1)) + cost[m][n]\n",
    "\n",
    "#有了递推关系，先要初始化，total[i-1][j]，total[i][j-1]和total[i-1][j-1]\n",
    " total[i-1][j-1]推到头是total[0][0]\n",
    "    "
   ]
  },
  {
   "cell_type": "code",
   "execution_count": 3,
   "metadata": {
    "collapsed": false
   },
   "outputs": [
    {
     "data": {
      "text/plain": [
       "[[3, 8, 10, 2], [2, 4, 5, 9], [1, 4, 2, 1]]"
      ]
     },
     "execution_count": 3,
     "metadata": {},
     "output_type": "execute_result"
    }
   ],
   "source": [
    "import random\n",
    "cost = [[random.randint(1,10) for i in range(4)] for j in range(3)]\n",
    "cost"
   ]
  },
  {
   "cell_type": "code",
   "execution_count": 5,
   "metadata": {
    "collapsed": false,
    "scrolled": false
   },
   "outputs": [],
   "source": [
    "def mincost(cost,k,l):\n",
    "    total = [[0 for i in range(k+1)] for j in range(l+1)]\n",
    "    total[0][0] = cost[0][0]\n",
    "    for i in range(1,k+1):\n",
    "        total[i][0]= total[i-1][0]+cost[i][0]\n",
    "    for j in range(1,l+1):\n",
    "        total[0][j] = total[0][j-1] + cost[0][j]\n",
    "    for i in range(1,k+1):\n",
    "        for j in range(1,l+1):\n",
    "            total[i][j] = min(total[i-1][j],total[i][j-1],total[i-1][j-1]) + cost[i][j]\n",
    "    return total[k][l]"
   ]
  },
  {
   "cell_type": "code",
   "execution_count": 6,
   "metadata": {
    "collapsed": false
   },
   "outputs": [
    {
     "data": {
      "text/plain": [
       "9"
      ]
     },
     "execution_count": 6,
     "metadata": {},
     "output_type": "execute_result"
    }
   ],
   "source": [
    "mincost(cost,2,2)"
   ]
  }
 ],
 "metadata": {
  "kernelspec": {
   "display_name": "Python [Root]",
   "language": "python",
   "name": "Python [Root]"
  },
  "language_info": {
   "codemirror_mode": {
    "name": "ipython",
    "version": 2
   },
   "file_extension": ".py",
   "mimetype": "text/x-python",
   "name": "python",
   "nbconvert_exporter": "python",
   "pygments_lexer": "ipython2",
   "version": "2.7.12"
  }
 },
 "nbformat": 4,
 "nbformat_minor": 0
}
