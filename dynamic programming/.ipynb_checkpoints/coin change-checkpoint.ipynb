{
 "cells": [
  {
   "cell_type": "code",
   "execution_count": null,
   "metadata": {
    "collapsed": true
   },
   "outputs": [],
   "source": [
    "Question:\n",
    "    Given a value N, if we want to make change for N cents, \n",
    "    and we have infinite supply of each of S = { S1, S2, .. , Sm} valued coins,\n",
    "    how many ways can we make the change? The order of coins doesn’t matter.\n",
    "\n",
    "For example, for N = 4 and S = {1,2,3}, there are four solutions:\n",
    "    {1,1,1,1},{1,1,2},{2,2},{1,3}. So output should be 4. For N = 10 and S = {2, 5, 3, 6}, \n",
    "    there are five solutions: {2,2,2,2,2}, {2,2,3,3}, {2,2,6}, {2,3,5} and {5,5}.\n",
    "        So the output should be 5."
   ]
  },
  {
   "cell_type": "code",
   "execution_count": null,
   "metadata": {
    "collapsed": true
   },
   "outputs": [],
   "source": [
    "To get all possible sets that elements are equal to 'a' or 'b' or 'c' (our coins) that sum up to 'X' you can:\n",
    "## image remove a from the possible coin candiates\n",
    "Take all such sets that sum up to X-a and add an extra 'a' to each one. \n",
    "Take all such sets that sum up to X-b and add an extra 'b' to each one.\n",
    "Take all such sets that sum up to X-c and add an extra 'c' to each one.\n",
    "So number of ways you can get X is sum of numbers of ways you can get X-a and X-b and X-c."
   ]
  },
  {
   "cell_type": "code",
   "execution_count": 2,
   "metadata": {
    "collapsed": false,
    "scrolled": true
   },
   "outputs": [
    {
     "data": {
      "text/plain": [
       "{2, 3}"
      ]
     },
     "execution_count": 2,
     "metadata": {},
     "output_type": "execute_result"
    }
   ],
   "source": [
    "S=set([3,2])\n",
    "S"
   ]
  },
  {
   "cell_type": "code",
   "execution_count": 6,
   "metadata": {
    "collapsed": false,
    "scrolled": false
   },
   "outputs": [
    {
     "data": {
      "text/plain": [
       "[1, 0, 0, 0, 0, 0]"
      ]
     },
     "execution_count": 6,
     "metadata": {},
     "output_type": "execute_result"
    }
   ],
   "source": [
    "[1]+[0]*target"
   ]
  },
  {
   "cell_type": "code",
   "execution_count": null,
   "metadata": {
    "collapsed": true
   },
   "outputs": [],
   "source": [
    "# how to overcome thee pitfall of counting twice "
   ]
  },
  {
   "cell_type": "code",
   "execution_count": null,
   "metadata": {
    "collapsed": true
   },
   "outputs": [],
   "source": [
    "ways[1:target]\n",
    "ways[2:target]"
   ]
  },
  {
   "cell_type": "code",
   "execution_count": 12,
   "metadata": {
    "collapsed": false,
    "scrolled": false
   },
   "outputs": [
    {
     "name": "stdout",
     "output_type": "stream",
     "text": [
      "coin 3\n",
      "[1, 0, 0, 1, 0, 0]\n",
      "[1, 0, 0, 1, 0, 0]\n",
      "[1, 0, 0, 1, 0, 0]\n",
      "coin 2\n",
      "[1, 0, 1, 1, 0, 0]\n",
      "[1, 0, 1, 1, 0, 0]\n",
      "[1, 0, 1, 1, 1, 0]\n",
      "[1, 0, 1, 1, 1, 1]\n",
      "coin 5\n",
      "[1, 0, 1, 1, 1, 2]\n",
      "2\n"
     ]
    }
   ],
   "source": [
    "# 这里是两层for loop与Fabnacci　number不同.这里没法一步知道ways[i],　\n",
    "# When only the first coin is used, all the elements are zero except the position which is a multiple \n",
    "# of the coin and ways[i]+=ways[i-coin] # ways[coin]=ways[0] means use this coin only ( it is always equal to 1)\n",
    "# When the 2nd coin comes, \n",
    "# The outer layer for loop is to remove the coin \n",
    "# ways[i-coin] is track the position back\n",
    "\n",
    "target = 5\n",
    "coins = [3,2,5]\n",
    "ways = [1]+[0]*target\n",
    "for coin in coins:\n",
    "    print \"coin\",coin\n",
    "    for i in range(coin, target+1):\n",
    "        ways[i]+=ways[i-coin]\n",
    "        print ways\n",
    "print ways[target]"
   ]
  }
 ],
 "metadata": {
  "kernelspec": {
   "display_name": "Python [Root]",
   "language": "python",
   "name": "Python [Root]"
  },
  "language_info": {
   "codemirror_mode": {
    "name": "ipython",
    "version": 2
   },
   "file_extension": ".py",
   "mimetype": "text/x-python",
   "name": "python",
   "nbconvert_exporter": "python",
   "pygments_lexer": "ipython2",
   "version": "2.7.12"
  }
 },
 "nbformat": 4,
 "nbformat_minor": 0
}
