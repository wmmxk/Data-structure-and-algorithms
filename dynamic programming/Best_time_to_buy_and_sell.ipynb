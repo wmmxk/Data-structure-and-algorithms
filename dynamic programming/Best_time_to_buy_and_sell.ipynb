{
 "cells": [
  {
   "cell_type": "code",
   "execution_count": 2,
   "metadata": {
    "collapsed": false
   },
   "outputs": [],
   "source": [
    "#Recursive program: Fibonacci\n",
    "def fib(n):\n",
    "   if ( n <= 1 ):\n",
    "      return n;\n",
    "   return fib(n-1) + fib(n-2);"
   ]
  },
  {
   "cell_type": "code",
   "execution_count": 4,
   "metadata": {
    "collapsed": false
   },
   "outputs": [
    {
     "data": {
      "text/plain": [
       "1"
      ]
     },
     "execution_count": 4,
     "metadata": {},
     "output_type": "execute_result"
    }
   ],
   "source": [
    "# Recursive program的不好的地方在于没有利用subproblems之间的overlap, \n",
    "#比如计算fib(n-1)与fib(n-2)时有overlap\n",
    "#DP的解法是把subproblem的解，放到一个lookup table，里这个lookup table一开始\n",
    "# 可以是空的。"
   ]
  },
  {
   "cell_type": "code",
   "execution_count": 5,
   "metadata": {
    "collapsed": true
   },
   "outputs": [],
   "source": [
    "# Calculate fibonacci using DP\n",
    "def fib(n, lookup):\n",
    "    if n == 0 or n == 1 :\n",
    "        lookup[n] = n\n",
    " \n",
    "    # If the value is not calculated previously then calculate it\n",
    "    if lookup[n] is None:\n",
    "        lookup[n] = fib(n-1 , lookup)  + fib(n-2 , lookup) \n",
    "    return lookup[n]"
   ]
  },
  {
   "cell_type": "code",
   "execution_count": 10,
   "metadata": {
    "collapsed": false
   },
   "outputs": [
    {
     "name": "stdout",
     "output_type": "stream",
     "text": [
      " Fibonacci Number is  5702887\n"
     ]
    }
   ],
   "source": [
    "n = 34\n",
    "lookup = [None]*(n+1)\n",
    "print \"Fibonacci Number is \", fib(n, lookup)"
   ]
  },
  {
   "cell_type": "code",
   "execution_count": null,
   "metadata": {
    "collapsed": true
   },
   "outputs": [],
   "source": [
    "#DP的另一种实现： Bottom up\n",
    "def fib(n):\n",
    "    # array declaration\n",
    "    f = [0]*(n+1)\n",
    " \n",
    "    # base case assignment\n",
    "    f[1] = 1\n",
    " \n",
    "    # calculating the fibonacci and storing the values\n",
    "    for i in xrange(2 , n+1):\n",
    "        f[i] = f[i-1] + f[i-2]\n",
    "    return f[n]"
   ]
  },
  {
   "cell_type": "code",
   "execution_count": 29,
   "metadata": {
    "collapsed": true
   },
   "outputs": [],
   "source": [
    "#注意是否持股票，只有两种状态：http://blog.csdn.net/xiaohei00000/article/details/50850794\n",
    "#stock example，既然DP problem要有Optimal substructure. 那么subproblem也是优化截至目前的收益。\n",
    "# 第i天的收益等于前一天的收益，与今天行为的叠加。\n",
    "# 第i天下来持股\n",
    "#如果今天没买也没卖，则hold[i]=hold[i-1], \n",
    "#如果今天买了，则第i-1天处于cooldown的状态, 而第i-2天有可能是卖了，有可能是cooldown，但有一点就是，处于unHold\n",
    "#的状态，那么hold[i]= unHold[i-2]-price[i]\n",
    "\n",
    "# 第i天下来，没股票\n",
    "# 如果今天卖了，说明第i-1处于hold的状态。收益等于第i-1天持有股票时的收益，加上price[i]。 notHold[i]=hold[i-1]+price[i]\n",
    "# 如果今天没卖，但是也没股票，说明昨天就没有hold 股票，notHold[i]=notHold[i-1]\n",
    "\n",
    "\n",
    "#最后一次肯定是卖出"
   ]
  },
  {
   "cell_type": "code",
   "execution_count": 71,
   "metadata": {
    "collapsed": false,
    "scrolled": true
   },
   "outputs": [
    {
     "name": "stdout",
     "output_type": "stream",
     "text": [
      "3\n",
      "2\n"
     ]
    }
   ],
   "source": [
    "for i in xrange(3,1,-1):\n",
    "    print i"
   ]
  },
  {
   "cell_type": "code",
   "execution_count": null,
   "metadata": {
    "collapsed": true
   },
   "outputs": [],
   "source": [
    "前两次特殊对待，不能放到哦for loop里"
   ]
  },
  {
   "cell_type": "code",
   "execution_count": 74,
   "metadata": {
    "collapsed": false
   },
   "outputs": [],
   "source": [
    "class Solution(object):\n",
    "    def maxProfit(self, prices):\n",
    "        size = len(prices)\n",
    "        if size < 2:\n",
    "            return 0\n",
    "        holds = [None] * size\n",
    "        unholds = [None] * size\n",
    "        unholds[0], unholds[1] = 0, max(0, prices[1] - prices[0])\n",
    "        holds[0], holds[1] = -prices[0], max(-prices[0], -prices[1])\n",
    "        for x in range(2, size):\n",
    "            unholds[x] = max(unholds[x - 1], holds[x - 1] + prices[x])\n",
    "            holds[x] = max(holds[x - 1], unholds[x - 2] - prices[x])\n",
    "        \n",
    "        actions=[None]*len(holds)\n",
    "        Instock=True\n",
    "        for i in xrange(len(holds)-1,1,-1): # 前两个特殊对待\n",
    "            \n",
    "            if i==len(holds)-1:\n",
    "                actions[i]=\"Sell\"\n",
    "                Instock=False\n",
    "            elif (not Instock and holds[i]==holds[i-1]) or (Instock and unholds[i]==unholds[i-1]):\n",
    "                actions[i]=\"Cooldown\"\n",
    "            elif holds[i]==unholds[i-2]-prices[i]:\n",
    "                actions[i]=\"Buy\"\n",
    "                Instock=True\n",
    "            else:\n",
    "                actions[i]=\"Sell\"\n",
    "                Instock=False\n",
    "        \n",
    "        i=1\n",
    "        if holds[1]==-prices[1]:\n",
    "           actions[i]=\"Buy\"\n",
    "           Instock=True\n",
    "        i=0\n",
    "        if Instock:\n",
    "           actions[i]=\"Cooldown\"\n",
    "\n",
    "        return holds,unholds,actions"
   ]
  },
  {
   "cell_type": "code",
   "execution_count": 76,
   "metadata": {
    "collapsed": false,
    "scrolled": false
   },
   "outputs": [
    {
     "name": "stdout",
     "output_type": "stream",
     "text": [
      "[3, 2, 3, 3, 0, 2, 2, 3, 5]\n"
     ]
    },
    {
     "data": {
      "text/plain": [
       "([-3, -2, -2, -2, 1, 1, 1, 1, 1],\n",
       " [0, 0, 1, 1, 1, 3, 3, 4, 6],\n",
       " ['Cooldown',\n",
       "  'Buy',\n",
       "  'Sell',\n",
       "  'Cooldown',\n",
       "  'Buy',\n",
       "  'Cooldown',\n",
       "  'Cooldown',\n",
       "  'Cooldown',\n",
       "  'Sell'])"
      ]
     },
     "execution_count": 76,
     "metadata": {},
     "output_type": "execute_result"
    }
   ],
   "source": [
    "prices = [3, 2,3,3,0, 2,2,3,5]\n",
    "instance = Solution()\n",
    "print prices\n",
    "instance.maxProfit(prices)\n"
   ]
  },
  {
   "cell_type": "code",
   "execution_count": 56,
   "metadata": {
    "collapsed": false,
    "scrolled": true
   },
   "outputs": [
    {
     "name": "stdout",
     "output_type": "stream",
     "text": [
      "3\n",
      "2\n"
     ]
    }
   ],
   "source": []
  },
  {
   "cell_type": "code",
   "execution_count": 9,
   "metadata": {
    "collapsed": false
   },
   "outputs": [
    {
     "name": "stdout",
     "output_type": "stream",
     "text": [
      "2\n",
      "1\n",
      "0\n"
     ]
    }
   ],
   "source": [
    "instance()"
   ]
  }
 ],
 "metadata": {
  "kernelspec": {
   "display_name": "Python [Root]",
   "language": "python",
   "name": "Python [Root]"
  },
  "language_info": {
   "codemirror_mode": {
    "name": "ipython",
    "version": 2
   },
   "file_extension": ".py",
   "mimetype": "text/x-python",
   "name": "python",
   "nbconvert_exporter": "python",
   "pygments_lexer": "ipython2",
   "version": "2.7.12"
  }
 },
 "nbformat": 4,
 "nbformat_minor": 0
}
