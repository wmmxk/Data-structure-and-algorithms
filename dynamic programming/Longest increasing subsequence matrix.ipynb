{
 "cells": [
  {
   "cell_type": "code",
   "execution_count": null,
   "metadata": {
    "collapsed": true
   },
   "outputs": [],
   "source": [
    "# problem:\n",
    "Give you an integer matrix (with row size n, column size m)，\n",
    "find the longest increasing continuous subsequence in this matrix."
   ]
  },
  {
   "cell_type": "code",
   "execution_count": null,
   "metadata": {
    "collapsed": true
   },
   "outputs": [],
   "source": [
    "# solution:\n",
    "http://www.blogs8.cn/posts/A2Bv2ca"
   ]
  },
  {
   "cell_type": "code",
   "execution_count": null,
   "metadata": {
    "collapsed": true
   },
   "outputs": [],
   "source": [
    "dp状态为dp[i][j]为以i,j为结尾的最长连续递增子序列的长度．"
   ]
  },
  {
   "cell_type": "code",
   "execution_count": 27,
   "metadata": {
    "collapsed": true
   },
   "outputs": [],
   "source": [
    "class Solution:\n",
    "    # @param {int[][]} A an integer matrix\n",
    "    # @return {int}  an integer\n",
    "    def skiing(self, A):\n",
    "        if not A or not A[0]:\n",
    "            return 0\n",
    "        n = len(A)\n",
    "        m = len(A[0])\n",
    "        flag = [[False]*m for i in xrange(n)]\n",
    "        dp = [[1]*m for i in xrange(n)]\n",
    "        maxVal = 1\n",
    "        for i in xrange(n):\n",
    "            for j in xrange(m):\n",
    "                maxVal = max(maxVal, self.search(A, flag, dp, i, j))\n",
    "        return dp\n",
    "    def search(self, A, flag, dp, x, y):\n",
    "        if flag[x][y]:\n",
    "            return dp[x][y]\n",
    "        dx = [0, -1, 0, 1]\n",
    "        dy = [-1, 0, 1, 0]\n",
    "        \n",
    "        for i in xrange(4):\n",
    "            if 0 <= x + dx[i] < len(A) and 0 <= y+dy[i] < len(A[0]) \\\n",
    "            and A[x][y] > A[x+dx[i]][y+dy[i]]:\n",
    "                dp[x][y] = max(dp[x][y], \\\n",
    "                               self.search(A, flag, dp, x+dx[i], y+dy[i])+1)\n",
    "        flag[x][y] = True\n",
    "        return dp[x][y]"
   ]
  },
  {
   "cell_type": "code",
   "execution_count": 30,
   "metadata": {
    "collapsed": true
   },
   "outputs": [],
   "source": [
    "A = [\n",
    "  [1,2 ,3 ],\n",
    "  [9,8,4],\n",
    "  [10,6,3],\n",
    "]"
   ]
  },
  {
   "cell_type": "code",
   "execution_count": 31,
   "metadata": {
    "collapsed": false
   },
   "outputs": [
    {
     "name": "stdout",
     "output_type": "stream",
     "text": [
      "[1, 2, 3]\n",
      "[6, 5, 4]\n",
      "[7, 2, 1]\n"
     ]
    }
   ],
   "source": [
    "mySolution = Solution()\n",
    "Dp = mySolution.skiing(A)\n",
    "for row in Dp:\n",
    "    print row"
   ]
  },
  {
   "cell_type": "code",
   "execution_count": 33,
   "metadata": {
    "collapsed": false
   },
   "outputs": [],
   "source": [
    "def search(A, flag, dp, x, y):\n",
    "        if flag[x][y]:\n",
    "            return dp[x][y]\n",
    "        dx = [0, -1, 0, 1]\n",
    "        dy = [-1, 0, 1, 0]\n",
    "        \n",
    "        for i in xrange(4):\n",
    "            if 0 <= x + dx[i] < len(A) and 0 <= y+dy[i] < len(A[0]) \\\n",
    "            and A[x][y] > A[x+dx[i]][y+dy[i]]:\n",
    "                dp[x][y] = max(dp[x][y], \\\n",
    "                               search(A, flag, dp, x+dx[i], y+dy[i])+1)\n",
    "        flag[x][y] = True\n",
    "        return dp[x][y]\n",
    "    \n",
    "def skiing(A):\n",
    "\n",
    "        n = len(A)\n",
    "        m = len(A[0])\n",
    "        flag = [[False]*m for i in xrange(n)]\n",
    "        dp = [[1]*m for i in xrange(n)]\n",
    "        \n",
    "        for i in xrange(n):\n",
    "            for j in xrange(m):\n",
    "                search(A, flag, dp, i, j)\n",
    "        return dp\n",
    "\n"
   ]
  },
  {
   "cell_type": "code",
   "execution_count": 36,
   "metadata": {
    "collapsed": false
   },
   "outputs": [
    {
     "name": "stdout",
     "output_type": "stream",
     "text": [
      "[1, 2, 3]\n",
      "[6, 5, 4]\n",
      "[7, 2, 1]\n"
     ]
    }
   ],
   "source": [
    "for row in skiing(A):\n",
    "    print row"
   ]
  }
 ],
 "metadata": {
  "kernelspec": {
   "display_name": "Python [Root]",
   "language": "python",
   "name": "Python [Root]"
  },
  "language_info": {
   "codemirror_mode": {
    "name": "ipython",
    "version": 2
   },
   "file_extension": ".py",
   "mimetype": "text/x-python",
   "name": "python",
   "nbconvert_exporter": "python",
   "pygments_lexer": "ipython2",
   "version": "2.7.12"
  }
 },
 "nbformat": 4,
 "nbformat_minor": 0
}
