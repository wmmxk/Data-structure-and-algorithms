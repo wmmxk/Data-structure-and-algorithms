{
 "cells": [
  {
   "cell_type": "code",
   "execution_count": null,
   "metadata": {
    "collapsed": true
   },
   "outputs": [],
   "source": [
    "# answer source: http://stackoverflow.com/questions/9041853/interview-puzzle-jump-game"
   ]
  },
  {
   "cell_type": "code",
   "execution_count": null,
   "metadata": {
    "collapsed": true
   },
   "outputs": [],
   "source": [
    "Iterative way of implementing dynamic programming\n",
    "Imagine you have an array B where B[i] shows the minimum number of step needed \n",
    "to reach index i in your array A. Your answer of course is in B[n], \n",
    "given A has n elements and indices start from 1.\n",
    "Assume C[i]=j means the you jumped from index j to index i (this is to recover the path taken later)"
   ]
  },
  {
   "cell_type": "code",
   "execution_count": null,
   "metadata": {
    "collapsed": true
   },
   "outputs": [],
   "source": []
  },
  {
   "cell_type": "code",
   "execution_count": 77,
   "metadata": {
    "collapsed": false
   },
   "outputs": [],
   "source": [
    "# 这里B[i+j]存储的是，截至到探索到第i个元素，到i+j所用的最短距离，而不是必须经过　i 位置的最短距离。\n",
    "# 恢复路径，path里面存的是到每个点的index\n",
    "def Min_jump(nums):\n",
    "    n = len(nums)\n",
    "    res=[float('inf')]*n\n",
    "    path=[0]*n\n",
    "    res[0]=0\n",
    "\n",
    "    for i in range(n):\n",
    "        for j in range(1,nums[i]+1):\n",
    "            if i+j > n-1:\n",
    "               break\n",
    "            if res[i+j]>res[i]:\n",
    "               res[i+j] = res[i]+1\n",
    "               path[i+j]=i\n",
    "    \n",
    "    spe_path=[]\n",
    "    spe_path.append(n-1)\n",
    "    index = path[-1]\n",
    "    for i in range(res[-1]):\n",
    "        spe_path.append(index)\n",
    "        index = path[index]\n",
    "    return res[-1], path,spe_path\n",
    "        \n",
    "               \n",
    "            "
   ]
  },
  {
   "cell_type": "code",
   "execution_count": 80,
   "metadata": {
    "collapsed": false
   },
   "outputs": [
    {
     "data": {
      "text/plain": [
       "11"
      ]
     },
     "execution_count": 80,
     "metadata": {},
     "output_type": "execute_result"
    }
   ],
   "source": [
    "len(nums)"
   ]
  },
  {
   "cell_type": "code",
   "execution_count": 81,
   "metadata": {
    "collapsed": false
   },
   "outputs": [
    {
     "data": {
      "text/plain": [
       "(4, [0, 0, 1, 1, 3, 3, 3, 2, 7, 7, 7], [10, 7, 2, 1, 0])"
      ]
     },
     "execution_count": 81,
     "metadata": {},
     "output_type": "execute_result"
    }
   ],
   "source": [
    "nums =[1, 2, 5, 3, 3, 2, 6, 5, 6, 8, 9]\n",
    "Min_jump(nums)"
   ]
  },
  {
   "cell_type": "code",
   "execution_count": 72,
   "metadata": {
    "collapsed": false,
    "scrolled": true
   },
   "outputs": [
    {
     "name": "stdout",
     "output_type": "stream",
     "text": [
      "[0, 0, 1, 1, 1, 4, 4, 4, 7, 7, 7]\n",
      "[5, 3, 3, 1]\n"
     ]
    }
   ],
   "source": [
    "print path\n",
    "print spe_path"
   ]
  },
  {
   "cell_type": "code",
   "execution_count": 59,
   "metadata": {
    "collapsed": false
   },
   "outputs": [
    {
     "data": {
      "text/plain": [
       "4"
      ]
     },
     "execution_count": 59,
     "metadata": {},
     "output_type": "execute_result"
    }
   ],
   "source": [
    "res"
   ]
  },
  {
   "cell_type": "code",
   "execution_count": 67,
   "metadata": {
    "collapsed": false
   },
   "outputs": [
    {
     "name": "stdout",
     "output_type": "stream",
     "text": [
      "7 5\n",
      "4 3\n",
      "1 3\n",
      "0 1\n"
     ]
    }
   ],
   "source": [
    "spe_path=[]\n",
    "index = path[-1]\n",
    "for i in range(res):\n",
    "        spe_path.append(nums[index])\n",
    "        print index, nums[index]\n",
    "        index = path[index]"
   ]
  },
  {
   "cell_type": "code",
   "execution_count": 32,
   "metadata": {
    "collapsed": false
   },
   "outputs": [
    {
     "name": "stdout",
     "output_type": "stream",
     "text": [
      "3\n",
      "2\n",
      "1\n"
     ]
    }
   ],
   "source": [
    "for i in reversed(a):\n",
    "    print i"
   ]
  }
 ],
 "metadata": {
  "kernelspec": {
   "display_name": "Python [Root]",
   "language": "python",
   "name": "Python [Root]"
  },
  "language_info": {
   "codemirror_mode": {
    "name": "ipython",
    "version": 2
   },
   "file_extension": ".py",
   "mimetype": "text/x-python",
   "name": "python",
   "nbconvert_exporter": "python",
   "pygments_lexer": "ipython2",
   "version": "2.7.12"
  }
 },
 "nbformat": 4,
 "nbformat_minor": 0
}
