{
 "cells": [
  {
   "cell_type": "code",
   "execution_count": null,
   "metadata": {
    "collapsed": true
   },
   "outputs": [],
   "source": [
    "# http://eddmann.com/posts/depth-first-search-and-breadth-first-search-in-python/"
   ]
  },
  {
   "cell_type": "code",
   "execution_count": null,
   "metadata": {
    "collapsed": true
   },
   "outputs": [],
   "source": [
    "#dfs stack那个方法就是由两条线组成，一个是visited那个那个set组成的路径， \n",
    "                              #另一个是stack组成的，已访问node所能链接到的node（不包括visited里出现的node)\n",
    "# stack.pop()那里可能连续弹出两个，如果所到node不延伸出新的node。这种情况下，后面的if条件判断不成立，于是有弹出一个"
   ]
  },
  {
   "cell_type": "code",
   "execution_count": null,
   "metadata": {
    "collapsed": true
   },
   "outputs": [],
   "source": [
    "append不需要重新赋值给原来的list\n",
    "mylist=mylist.append('X')是错的。\n",
    "下面两个操作是不equivalent的\n",
    "exploredNodes.append(\"x\")\n",
    "exploredNodes = exploredNodes + [\"x\"]"
   ]
  },
  {
   "cell_type": "code",
   "execution_count": 23,
   "metadata": {
    "collapsed": false,
    "scrolled": true
   },
   "outputs": [
    {
     "name": "stdout",
     "output_type": "stream",
     "text": [
      "[1]\n",
      "[1, 2]\n"
     ]
    }
   ],
   "source": [
    "#Bug, the default value is evaluated only once\n",
    "# soruce:https://developmentality.wordpress.com/2010/08/23/python-gotcha-default-arguments/\n",
    "def f(a, L=[]):\n",
    "  L.append(a)\n",
    "  return L\n",
    " \n",
    "print f(1)\n",
    "print f(2)\n",
    "\n"
   ]
  },
  {
   "cell_type": "code",
   "execution_count": 26,
   "metadata": {
    "collapsed": false
   },
   "outputs": [
    {
     "name": "stdout",
     "output_type": "stream",
     "text": [
      "[1]\n",
      "[2]\n"
     ]
    }
   ],
   "source": [
    "def f(a, L=[]):\n",
    "  L=L+[a]  # assignment这个操作使得，L这个variable的scope只在这个function里。\n",
    "  return L\n",
    " \n",
    "print f(1)\n",
    "print f(2)"
   ]
  },
  {
   "cell_type": "code",
   "execution_count": null,
   "metadata": {
    "collapsed": true
   },
   "outputs": [],
   "source": [
    "#这个bug在search all paths里的体现： 这个function,连续调用几次，结果不同，因为default argument path被刷新了\n",
    "def find_all_paths(graph, start, end, path=[]):\n",
    "  path.append([start])\n",
    "  if start == end:\n",
    "    return [path]\n",
    "  if not graph.has_key(start):\n",
    "    return []\n",
    "  paths = []\n",
    "  for node in graph[start]:\n",
    "    if node not in path:\n",
    "      # recursive call\n",
    "      newpaths = find_all_paths(graph, node, end, path)\n",
    "      for newpath in newpaths:\n",
    "        paths.append(newpath)\n",
    "  return paths"
   ]
  },
  {
   "cell_type": "code",
   "execution_count": null,
   "metadata": {
    "collapsed": true
   },
   "outputs": [],
   "source": [
    "#找到所有可以历遍的node, 一个是用stack一个是用recursion (dfs)"
   ]
  },
  {
   "cell_type": "code",
   "execution_count": 18,
   "metadata": {
    "collapsed": true
   },
   "outputs": [],
   "source": [
    "graph1 = {'A': set(['B', 'C']),\n",
    "         'B': set(['A', 'D', 'E']),\n",
    "         'C': set(['A', 'F']),\n",
    "         'D': set(['B']),\n",
    "         'E': set(['B', 'F']),\n",
    "         'F': set(['C', 'E'])}"
   ]
  },
  {
   "cell_type": "code",
   "execution_count": 4,
   "metadata": {
    "collapsed": false,
    "scrolled": true
   },
   "outputs": [
    {
     "name": "stdout",
     "output_type": "stream",
     "text": [
      "A\n",
      "B\n",
      "D\n",
      "E\n",
      "F\n",
      "C\n"
     ]
    },
    {
     "data": {
      "text/plain": [
       "{'A', 'B', 'C', 'D', 'E', 'F'}"
      ]
     },
     "execution_count": 4,
     "metadata": {},
     "output_type": "execute_result"
    }
   ],
   "source": [
    "#stack 方法\n",
    "def dfs(graph, start):\n",
    "    visited, stack = set(), [start]\n",
    "    while stack:\n",
    "        vertex = stack.pop()\n",
    "        if vertex not in visited:\n",
    "            visited.add(vertex)\n",
    "            print vertex\n",
    "            stack.extend(graph[vertex] - visited)\n",
    "    return visited\n",
    "\n",
    "dfs(graph1, 'A') # {'E', 'D', 'F', 'A', 'C', 'B'}"
   ]
  },
  {
   "cell_type": "code",
   "execution_count": 18,
   "metadata": {
    "collapsed": false,
    "scrolled": true
   },
   "outputs": [
    {
     "name": "stdout",
     "output_type": "stream",
     "text": [
      "set(['C', 'B'])\n",
      "['C', 'B']\n",
      "['C', 'B', 'A', 'E', 'D']\n"
     ]
    }
   ],
   "source": [
    "stack=[]\n",
    "print graph['A']\n",
    "stack.extend(graph['A'])\n",
    "print stack\n",
    "stack.extend(graph['B'])\n",
    "print stack"
   ]
  },
  {
   "cell_type": "code",
   "execution_count": 15,
   "metadata": {
    "collapsed": false,
    "scrolled": false
   },
   "outputs": [
    {
     "name": "stdout",
     "output_type": "stream",
     "text": [
      "set(['C', 'B']) C\n",
      "set(['A', 'F']) F\n",
      "set(['C', 'E']) E\n",
      "set(['B', 'F']) B\n",
      "set(['A', 'E', 'D']) D\n",
      "set(['C', 'B']) B\n"
     ]
    },
    {
     "data": {
      "text/plain": [
       "{'A', 'B', 'C', 'D', 'E', 'F'}"
      ]
     },
     "execution_count": 15,
     "metadata": {},
     "output_type": "execute_result"
    }
   ],
   "source": [
    "# recursion\n",
    "def dfs(graph, start, visited=None):\n",
    "    if visited is None:\n",
    "        visited = set()\n",
    "    visited.add(start)\n",
    "    for next in graph[start] - visited:\n",
    "        print graph[start],next\n",
    "        dfs(graph, next, visited)\n",
    "    return visited\n",
    "\n",
    "dfs(graph, 'A') "
   ]
  },
  {
   "cell_type": "code",
   "execution_count": null,
   "metadata": {
    "collapsed": true
   },
   "outputs": [],
   "source": [
    "dfs(g,\"A\",None)\n",
    "dfs(g,\"C\",[A]) A的链接的node有C和B  #这一层for loop不一定到最后执行完，这里B node被后来从E链接到了，\n",
    "                                 #而下面一个graph，由于C不链接到其它node，B和C 都别历遍到了。\n",
    "dfs(g,\"F\",[A,C]) C链接的node有A和F \n",
    "\n",
    "dfs(g,\"E\",[A,C,F]) F的链接有E和C\n"
   ]
  },
  {
   "cell_type": "code",
   "execution_count": 16,
   "metadata": {
    "collapsed": false
   },
   "outputs": [],
   "source": [
    "graph2 = {'A': set(['B', 'C']),\n",
    "         'B': set(['A', 'D', 'E']),\n",
    "         'C': set(['A']),\n",
    "         'D': set(['B']),\n",
    "         'E': set(['B'])}"
   ]
  },
  {
   "cell_type": "code",
   "execution_count": 17,
   "metadata": {
    "collapsed": false,
    "scrolled": true
   },
   "outputs": [
    {
     "name": "stdout",
     "output_type": "stream",
     "text": [
      "set(['C', 'B']) C\n",
      "set(['C', 'B']) B\n",
      "set(['A', 'E', 'D']) E\n",
      "set(['A', 'E', 'D']) D\n"
     ]
    },
    {
     "data": {
      "text/plain": [
       "{'A', 'B', 'C', 'D', 'E'}"
      ]
     },
     "execution_count": 17,
     "metadata": {},
     "output_type": "execute_result"
    }
   ],
   "source": [
    "dfs(graph2,'A')"
   ]
  },
  {
   "cell_type": "code",
   "execution_count": 12,
   "metadata": {
    "collapsed": true
   },
   "outputs": [],
   "source": [
    "# return 所有的pathes"
   ]
  },
  {
   "cell_type": "code",
   "execution_count": 22,
   "metadata": {
    "collapsed": false,
    "scrolled": true
   },
   "outputs": [
    {
     "name": "stdout",
     "output_type": "stream",
     "text": [
      "[('A', ['A'])]\n",
      "[('C', ['A', 'C']), ('B', ['A', 'B'])]\n",
      "[('C', ['A', 'C']), ('E', ['A', 'B', 'E']), ('D', ['A', 'B', 'D'])]\n",
      "[('C', ['A', 'C']), ('E', ['A', 'B', 'E'])]\n",
      "find 1 th path\n",
      "[('C', ['A', 'C'])]\n",
      "find 2 th path\n"
     ]
    },
    {
     "data": {
      "text/plain": [
       "[['A', 'B', 'E', 'F'], ['A', 'C', 'F']]"
      ]
     },
     "execution_count": 22,
     "metadata": {},
     "output_type": "execute_result"
    }
   ],
   "source": [
    "def dfs_paths(graph, start, goal):\n",
    "    stack = [(start, [start])]\n",
    "    i=1\n",
    "    while stack:\n",
    "        print stack\n",
    "        (vertex, path) = stack.pop()\n",
    "        for next in graph[vertex] - set(path):\n",
    "            if next == goal:\n",
    "                yield path + [next]\n",
    "                print \"find\",i,\"th path\"\n",
    "                i+=1\n",
    "            else:\n",
    "                stack.append((next, path + [next]))\n",
    "\n",
    "list(dfs_paths(graph1, 'A', 'F')) # [['A', 'C', 'F'], ['A', 'B', 'E', 'F']]"
   ]
  },
  {
   "cell_type": "code",
   "execution_count": null,
   "metadata": {
    "collapsed": true
   },
   "outputs": [],
   "source": [
    "[('A', ['A'])] \n",
    "[('C', ['A', 'C']), ('B', ['A', 'B'])] \n",
    "[('C', ['A', 'C']), ('E', ['A', 'B', 'E']), ('D', ['A', 'B', 'D'])] #（'B',['A','B'])被弹出，\n",
    "                                                              # E和D两个node加上\n",
    "[('C', ['A', 'C']), ('E', ['A', 'B', 'E'])] # D 被弹出，但不增加其它node.\n",
    "[('C', ['A', 'C'])] #E 被弹出，找到F,"
   ]
  },
  {
   "cell_type": "code",
   "execution_count": 25,
   "metadata": {
    "collapsed": true
   },
   "outputs": [],
   "source": [
    "# Look up cycle:\n",
    "#source: https://algocoding.wordpress.com/2015/04/02/detecting-cycles-in-an-undirected-graph-with-dfs-python/\n",
    "graph3 = { 0 : [1],\n",
    "                  1 : [0, 2, 3, 5],    # edit: corrected from [0, 2] to [0, 2, 3, 5]\n",
    "                  2 : [1],\n",
    "                  3 : [1, 4],\n",
    "                  4 : [3, 5],\n",
    "                  5 : [1, 4] }"
   ]
  },
  {
   "cell_type": "code",
   "execution_count": 26,
   "metadata": {
    "collapsed": true
   },
   "outputs": [],
   "source": [
    "def cycle_exists(G):        # - G is an undirected graph.              \n",
    "    marked = { u : False for u in G }  # - All nodes are initially unmarked.\n",
    "    found_cycle = [False]    # - Define found_cycle as a list so we can change\n",
    "                            # its value per reference, see:\n",
    "    # http://stackoverflow.com/questions/11222440/python-variable-reference-assignment\n",
    " \n",
    "    for u in G:              # - Visit all nodes.\n",
    "        if not marked[u]:\n",
    "            dfs_visit(G, u, found_cycle, u, marked)\n",
    "               # - u is its own predecessor initially\n",
    "        if found_cycle[0]:\n",
    "            break\n",
    "    return found_cycle[0]\n",
    " \n",
    " \n",
    "def dfs_visit(G, u, found_cycle, pred_node, marked):\n",
    "    if found_cycle[0]:                                # - Stop dfs if cycle is found.\n",
    "        return\n",
    "    marked[u] = True                                  # - Mark node.\n",
    "    for v in G[u]:      # - Check neighbors, where G[u] is the adjacency list of u.\n",
    "        if marked[v] and v != pred_node:# - If neighbor is marked and not predecessor,\n",
    "            found_cycle[0] = True                     # then a cycle exists.\n",
    "            return\n",
    "        if not marked[v]:                             # - Call dfs_visit recursively.\n",
    "            dfs_visit(G, v, found_cycle, u, marked)"
   ]
  },
  {
   "cell_type": "code",
   "execution_count": 27,
   "metadata": {
    "collapsed": false,
    "scrolled": true
   },
   "outputs": [
    {
     "data": {
      "text/plain": [
       "True"
      ]
     },
     "execution_count": 27,
     "metadata": {},
     "output_type": "execute_result"
    }
   ],
   "source": [
    "cycle_exists(graph3)"
   ]
  },
  {
   "cell_type": "code",
   "execution_count": null,
   "metadata": {
    "collapsed": true
   },
   "outputs": [],
   "source": [
    "# topological sort\n",
    "# source: http://stackoverflow.com/questions/15038876/topological-sort-python"
   ]
  },
  {
   "cell_type": "code",
   "execution_count": null,
   "metadata": {
    "collapsed": true
   },
   "outputs": [],
   "source": [
    "#这里递归的核心要义：\n",
    "children = graph.get(node, None)  # 如过没有children，返回一个None\n",
    "        level = 0 if not children else \\  # if not children的情况是这个递归的起点\n",
    "        (1 + max(level_evaluation(lnode) for lnode in children)) \n",
    "        # 如果有children,那个该node的level是它的所有children的level中的最大值加1."
   ]
  },
  {
   "cell_type": "code",
   "execution_count": 1,
   "metadata": {
    "collapsed": true
   },
   "outputs": [],
   "source": [
    "graph_unsorted = [(2, []),\n",
    "                  (5, [11]),\n",
    "                  (11, [2, 9, 10]),\n",
    "                  (7, [11, 8]),\n",
    "                  (9, []),\n",
    "                  (10, []),\n",
    "                  (8, [9]),\n",
    "                  (3, [10, 8])]"
   ]
  },
  {
   "cell_type": "code",
   "execution_count": 2,
   "metadata": {
    "collapsed": true
   },
   "outputs": [],
   "source": [
    "graph_unsorted = dict(graph_unsorted)"
   ]
  },
  {
   "cell_type": "code",
   "execution_count": 3,
   "metadata": {
    "collapsed": false
   },
   "outputs": [],
   "source": [
    "graph_sorted = []"
   ]
  },
  {
   "cell_type": "code",
   "execution_count": 4,
   "metadata": {
    "collapsed": false
   },
   "outputs": [],
   "source": [
    "from collections import defaultdict\n",
    "from itertools import takewhile, count\n",
    "\n",
    "def sort_topologically(graph):\n",
    "    levels_by_node = {}\n",
    "    nodes_by_level = defaultdict(set)\n",
    "\n",
    "    def level_evaluation(node):\n",
    "        if node in levels_by_node:\n",
    "            return levels_by_node[node]\n",
    "        children = graph.get(node, None)\n",
    "        level = 0 if not children else \\\n",
    "        (1 + max(level_evaluation(lnode) for lnode in children))\n",
    "        levels_by_node[node] = level\n",
    "        nodes_by_level[level].add(node)\n",
    "        return level\n",
    "\n",
    "    for node in graph:\n",
    "        level_evaluation(node)\n",
    "\n",
    "    return list(takewhile(lambda x: x is not None,\\\n",
    "                          (nodes_by_level.get(i, None) for i in count()))),nodes_by_level\n",
    "\n",
    "\n",
    "graph = {\n",
    "        1: [2, 3],\n",
    "        2: [4, 5, 6],\n",
    "        3: [4,6],\n",
    "        4: [5,6],\n",
    "        5: [6],\n",
    "        6: []\n",
    "    }\n",
    "\n",
    "result,nodes_by_level= sort_topologically(graph)"
   ]
  },
  {
   "cell_type": "code",
   "execution_count": 5,
   "metadata": {
    "collapsed": false
   },
   "outputs": [
    {
     "data": {
      "text/plain": [
       "defaultdict(set, {0: {6}, 1: {5}, 2: {4}, 3: {2, 3}, 4: {1}})"
      ]
     },
     "execution_count": 5,
     "metadata": {},
     "output_type": "execute_result"
    }
   ],
   "source": [
    "nodes_by_level"
   ]
  },
  {
   "cell_type": "code",
   "execution_count": 16,
   "metadata": {
    "collapsed": false
   },
   "outputs": [
    {
     "name": "stdout",
     "output_type": "stream",
     "text": [
      "[2, 3]\n"
     ]
    }
   ],
   "source": [
    "print graph.get(1,None)\n"
   ]
  },
  {
   "cell_type": "code",
   "execution_count": 19,
   "metadata": {
    "collapsed": false
   },
   "outputs": [
    {
     "name": "stdout",
     "output_type": "stream",
     "text": [
      "[set([6]), set([5]), set([4]), set([2, 3]), set([1])]\n"
     ]
    }
   ],
   "source": [
    "from collections import defaultdict\n",
    "from itertools import takewhile, count\n",
    "\n",
    "def sort_topologically_stackless(graph):\n",
    "    levels_by_name = {}\n",
    "    names_by_level = defaultdict(set)\n",
    "\n",
    "    def add_level_to_name(name, level):\n",
    "        levels_by_name[name] = level\n",
    "        names_by_level[level].add(name)\n",
    "\n",
    "\n",
    "    def walk_depth_first(name):\n",
    "        stack = [name]\n",
    "        while(stack):\n",
    "            name = stack.pop()\n",
    "            if name in levels_by_name:\n",
    "                continue\n",
    "\n",
    "            if name not in graph or not graph[name]:\n",
    "                level = 0\n",
    "                add_level_to_name(name, level)\n",
    "                continue\n",
    "\n",
    "            children = graph[name]\n",
    "\n",
    "            children_not_calculated = [child for child in children if child not in levels_by_name]\n",
    "            if children_not_calculated:\n",
    "                stack.append(name)\n",
    "                stack.extend(children_not_calculated)\n",
    "                continue\n",
    "\n",
    "            level = 1 + max(levels_by_name[lname] for lname in children)\n",
    "            add_level_to_name(name, level)\n",
    "\n",
    "    for name in graph:\n",
    "        walk_depth_first(name)\n",
    "\n",
    "    return list(takewhile(lambda x: x is not None, (names_by_level.get(i, None) for i in count())))\n",
    "\n",
    "\n",
    "graph = {\n",
    "        1: [2, 3],\n",
    "        2: [4, 5, 6],\n",
    "        3: [4,6],\n",
    "        4: [5,6],\n",
    "        5: [6],\n",
    "        6: []\n",
    "    }\n",
    "\n",
    "print(sort_topologically_stackless(graph))"
   ]
  }
 ],
 "metadata": {
  "kernelspec": {
   "display_name": "Python [Root]",
   "language": "python",
   "name": "Python [Root]"
  },
  "language_info": {
   "codemirror_mode": {
    "name": "ipython",
    "version": 2
   },
   "file_extension": ".py",
   "mimetype": "text/x-python",
   "name": "python",
   "nbconvert_exporter": "python",
   "pygments_lexer": "ipython2",
   "version": "2.7.12"
  }
 },
 "nbformat": 4,
 "nbformat_minor": 0
}
