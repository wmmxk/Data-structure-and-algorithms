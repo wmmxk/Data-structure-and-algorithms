{
 "cells": [
  {
   "cell_type": "code",
   "execution_count": null,
   "metadata": {
    "collapsed": true
   },
   "outputs": [],
   "source": [
    "如果这个题要用到graph的representation, transversal，和recursion，和stack这从复杂度来讲，并没有多难。"
   ]
  },
  {
   "cell_type": "code",
   "execution_count": null,
   "metadata": {
    "collapsed": true
   },
   "outputs": [],
   "source": [
    "The difference between append and extend\n",
    "\n",
    "1. append adds its argument as a single element to the end of a list.\n",
    "The length of the list itself will increase by one.\n",
    "2. extend iterates over its argument adding each element to the list, extending the list. \n",
    "The length of the list will increase by however many elements were in the iterable argument."
   ]
  },
  {
   "cell_type": "code",
   "execution_count": null,
   "metadata": {
    "collapsed": true
   },
   "outputs": [],
   "source": [
    "#当建立了一个directed graph之后，就归结位一个\n",
    "directed acyclic graph topological sort 问题"
   ]
  },
  {
   "cell_type": "code",
   "execution_count": 1,
   "metadata": {
    "collapsed": true
   },
   "outputs": [],
   "source": [
    "from collections import defaultdict\n",
    "graph = defaultdict(list)  "
   ]
  },
  {
   "cell_type": "code",
   "execution_count": 2,
   "metadata": {
    "collapsed": false,
    "scrolled": false
   },
   "outputs": [
    {
     "data": {
      "text/plain": [
       "defaultdict(list, {})"
      ]
     },
     "execution_count": 2,
     "metadata": {},
     "output_type": "execute_result"
    }
   ],
   "source": [
    "graph"
   ]
  },
  {
   "cell_type": "code",
   "execution_count": 1,
   "metadata": {
    "collapsed": false
   },
   "outputs": [],
   "source": [
    "words =[\n",
    "  \"wrt\",\n",
    "  \"wrf\",\n",
    "  \"er\",\n",
    "  \"ett\",\n",
    "  \"rftt\"\n",
    "] "
   ]
  },
  {
   "cell_type": "code",
   "execution_count": 2,
   "metadata": {
    "collapsed": true
   },
   "outputs": [],
   "source": [
    "words =[\n",
    "  \"abcde\",\n",
    "  \"abde\",\n",
    "  \"baa\",\n",
    "  \"bad\",\n",
    "  \"cad\",\n",
    "  \"cae\"\n",
    "    \n",
    "] "
   ]
  },
  {
   "cell_type": "code",
   "execution_count": null,
   "metadata": {
    "collapsed": true
   },
   "outputs": [],
   "source": [
    "# 1. Build graph. 找出所有字母，及graph里的node那个不用单独搞：用下面的就行，即第一次出现时，建立一个\n",
    "#               Exit = children.get(word1[i],None)\n",
    "                if not Exit:\n",
    "                   children[word1[i]]=[]\n",
    "# 2. 第二步，把建的children_graph 放到一个topological_sort里。"
   ]
  },
  {
   "cell_type": "code",
   "execution_count": null,
   "metadata": {
    "collapsed": true
   },
   "outputs": [],
   "source": []
  },
  {
   "cell_type": "code",
   "execution_count": 22,
   "metadata": {
    "collapsed": true
   },
   "outputs": [],
   "source": [
    "def findChildren(word1, word2, children):\n",
    "        min_len = min(len(word1), len(word2))\n",
    "        for i in xrange(min_len):\n",
    "            if word1[i] != word2[i]:  # 第一个不相同的元素找到后，就跳出循环\n",
    "                Exit = children.get(word1[i],None)\n",
    "                if not Exit:\n",
    "                   children[word1[i]]=[]\n",
    "                children[word1[i]].append(word2[i])\n",
    "                break\n",
    "def graph_build(words):\n",
    "    children_graph = {}\n",
    "    for i in xrange(1, len(words)):\n",
    "        findChildren(words[i - 1], words[i], children_graph)\n",
    "    return children_graph  "
   ]
  },
  {
   "cell_type": "code",
   "execution_count": 23,
   "metadata": {
    "collapsed": false
   },
   "outputs": [],
   "source": [
    "children_graph = graph_build(words)"
   ]
  },
  {
   "cell_type": "code",
   "execution_count": 24,
   "metadata": {
    "collapsed": false,
    "scrolled": false
   },
   "outputs": [
    {
     "data": {
      "text/plain": [
       "{'a': ['b', 'd'], 'b': ['c'], 'c': ['d'], 'd': ['e']}"
      ]
     },
     "execution_count": 24,
     "metadata": {},
     "output_type": "execute_result"
    }
   ],
   "source": [
    "children_graph"
   ]
  },
  {
   "cell_type": "code",
   "execution_count": 29,
   "metadata": {
    "collapsed": true
   },
   "outputs": [],
   "source": [
    "from collections import defaultdict\n",
    "from itertools import takewhile, count\n",
    "\n",
    "def topological_sort(graph):\n",
    "    levels_by_node = {}\n",
    "    nodes_by_level = defaultdict(set)\n",
    "\n",
    "    def level_evaluation(node):\n",
    "        if node in levels_by_node:\n",
    "            return levels_by_node[node]\n",
    "        children = graph.get(node, None)\n",
    "        level = 0 if not children else \\\n",
    "        (1 + max(level_evaluation(lnode) for lnode in children))\n",
    "        levels_by_node[node] = level\n",
    "        nodes_by_level[level].add(node)\n",
    "        return level\n",
    "\n",
    "    for node in graph:\n",
    "        level_evaluation(node)\n",
    "\n",
    "    return list(takewhile(lambda x: x is not None,\\\n",
    "                          (nodes_by_level.get(i, None) for i in count())))\n"
   ]
  },
  {
   "cell_type": "code",
   "execution_count": 30,
   "metadata": {
    "collapsed": false
   },
   "outputs": [
    {
     "data": {
      "text/plain": [
       "[{'e'}, {'d'}, {'c'}, {'b'}, {'a'}]"
      ]
     },
     "execution_count": 30,
     "metadata": {},
     "output_type": "execute_result"
    }
   ],
   "source": [
    "topological_sort(children_graph)"
   ]
  }
 ],
 "metadata": {
  "kernelspec": {
   "display_name": "Python [Root]",
   "language": "python",
   "name": "Python [Root]"
  },
  "language_info": {
   "codemirror_mode": {
    "name": "ipython",
    "version": 2
   },
   "file_extension": ".py",
   "mimetype": "text/x-python",
   "name": "python",
   "nbconvert_exporter": "python",
   "pygments_lexer": "ipython2",
   "version": "2.7.12"
  }
 },
 "nbformat": 4,
 "nbformat_minor": 0
}
