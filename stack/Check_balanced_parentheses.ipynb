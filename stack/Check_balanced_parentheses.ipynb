{
 "cells": [
  {
   "cell_type": "markdown",
   "metadata": {
    "collapsed": true
   },
   "source": [
    "source: http://www.ardendertat.com/2011/11/08/programming-interview-questions-14-check-balanced-parentheses/"
   ]
  },
  {
   "cell_type": "code",
   "execution_count": null,
   "metadata": {
    "collapsed": true
   },
   "outputs": [],
   "source": [
    "# 只把一半parentheses放到stack里，遇到的另一半应该跟stack里弹出的那个对上。\n",
    "# 如果最后，stack里没用完，或者stack在for loop里提前用完了，说明有一半并另一半多。"
   ]
  },
  {
   "cell_type": "code",
   "execution_count": null,
   "metadata": {
    "collapsed": true
   },
   "outputs": [],
   "source": [
    "def isBalanced(expr):\n",
    "    if len(expr)%2!=0:\n",
    "        return False\n",
    "    opening=set('([{')\n",
    "    match=set([ ('(',')'), ('[',']'), ('{','}') ])\n",
    "    stack=[]\n",
    "    for char in expr:\n",
    "        if char in opening:\n",
    "            stack.append(char)\n",
    "        else:\n",
    "            if len(stack)==0:\n",
    "                return False\n",
    "            lastOpen=stack.pop()\n",
    "            if (lastOpen, char) not in match:\n",
    "                return False\n",
    "    return len(stack)==0"
   ]
  }
 ],
 "metadata": {
  "kernelspec": {
   "display_name": "Python [Root]",
   "language": "python",
   "name": "Python [Root]"
  },
  "language_info": {
   "codemirror_mode": {
    "name": "ipython",
    "version": 2
   },
   "file_extension": ".py",
   "mimetype": "text/x-python",
   "name": "python",
   "nbconvert_exporter": "python",
   "pygments_lexer": "ipython2",
   "version": "2.7.12"
  }
 },
 "nbformat": 4,
 "nbformat_minor": 0
}
