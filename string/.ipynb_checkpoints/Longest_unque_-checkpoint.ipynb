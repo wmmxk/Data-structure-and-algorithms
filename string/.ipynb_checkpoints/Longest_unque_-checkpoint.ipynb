{
 "cells": [
  {
   "cell_type": "code",
   "execution_count": 1,
   "metadata": {
    "collapsed": false
   },
   "outputs": [
    {
     "data": {
      "text/plain": [
       "65"
      ]
     },
     "execution_count": 1,
     "metadata": {},
     "output_type": "execute_result"
    }
   ],
   "source": [
    "#基本思路:找出定义哪些量来capture这个问题，然后是这些量是怎么更新的。\n",
    "#要定义： 1. 合法字符的left边界。 2.每个字符最后一次是在那个位置出现的，因为如果一个字符在left往左出现过，并不算重复\n",
    "        # 3. 截至目前找到的最长的长度。（这个量存储上一个substring的长度，或者当下正在生长的那个substring的长度）\n",
    "    \n",
    "#更新规则：\n",
    "     #1. 如果当下字符跟left往右（包括自己）的某个字符重了，那么这个正在生长的substring结束，新起的substring的边界update为\n",
    "     #  last[s[i]]+1.\n",
    "     #2. 这个已经出现过的s[i]最后一次出现的位置也更新为i.这个是不管重不重，都要更新\n",
    "     #3. max_l是用max 这个function去更新，（那种if else那种反倒不利于思考明白这个问题）"
   ]
  },
  {
   "cell_type": "code",
   "execution_count": null,
   "metadata": {
    "collapsed": true
   },
   "outputs": [],
   "source": [
    "http://www.jiuzhang.com/solutions/longest-substring-without-repeating-characters/"
   ]
  },
  {
   "cell_type": "code",
   "execution_count": null,
   "metadata": {
    "collapsed": true
   },
   "outputs": [],
   "source": [
    "def lengthOfLongestSubstring(s):\n",
    "        ans = 0\n",
    "        # left用于记录合法的左边界位置，last用于记录字符上一次出现的位置\n",
    "        left = 0\n",
    "        last = {}\n",
    "        for i in range(len(s)):\n",
    "            # 子串中出现重复字符，变更left至上一次s[i]出现位置之后，使得子串合法\n",
    "            if s[i] in last and last[s[i]] >= left:\n",
    "                left = last[s[i]] + 1\n",
    "            last[s[i]] = i\n",
    "            ans = max(ans, i - left + 1)\n",
    "        return ans"
   ]
  },
  {
   "cell_type": "code",
   "execution_count": null,
   "metadata": {
    "collapsed": true
   },
   "outputs": [],
   "source": []
  }
 ],
 "metadata": {
  "kernelspec": {
   "display_name": "Python [Root]",
   "language": "python",
   "name": "Python [Root]"
  },
  "language_info": {
   "codemirror_mode": {
    "name": "ipython",
    "version": 2
   },
   "file_extension": ".py",
   "mimetype": "text/x-python",
   "name": "python",
   "nbconvert_exporter": "python",
   "pygments_lexer": "ipython2",
   "version": "2.7.12"
  }
 },
 "nbformat": 4,
 "nbformat_minor": 0
}
