{
 "cells": [
  {
   "cell_type": "code",
   "execution_count": 40,
   "metadata": {
    "collapsed": true
   },
   "outputs": [],
   "source": [
    "import random\n",
    "nums = [[random.randint(1,100) for i in range(5)] for j in range(6)]"
   ]
  },
  {
   "cell_type": "code",
   "execution_count": null,
   "metadata": {
    "collapsed": true
   },
   "outputs": [],
   "source": [
    "#四个动态指针，k指示剩下的rows里面的第一行; m总共的行数，k逐渐增加，m逐渐减小。\n",
    "#是对每一段要print的row或者column里面的iterator\n",
    "#i的范围是range(l,n), range(k,m) 或者range(n-1,l-1,-1) 这里n-1是因为n是总行数，l-1是因为range（不包括右边界）"
   ]
  },
  {
   "cell_type": "code",
   "execution_count": 41,
   "metadata": {
    "collapsed": true
   },
   "outputs": [],
   "source": [
    "def spiral(nums):\n",
    "    m = len(nums)\n",
    "    n = len(nums[0])\n",
    "    i,k,l=0,0,0\n",
    "    \n",
    "    while k<m and l<n:\n",
    "        for i in range(l,n):\n",
    "            \n",
    "            print nums[k][i],\"top\"\n",
    "            \n",
    "\n",
    "        k+=1\n",
    "        \n",
    "        for i in range(k,m):\n",
    "            print nums[i][n-1],\"right\"\n",
    "        \n",
    "        n-=1\n",
    "        \n",
    "        if k<m:\n",
    "            for i in range(n-1,l-1,-1):\n",
    "                print nums[m-1][i],\"down\"\n",
    "            m-=1\n",
    "            \n",
    "        if l<n:\n",
    "            for i in range(m-1,k-1,-1):  \n",
    "                print nums[i][l],\"left\"\n",
    "            l+=1\n",
    "    "
   ]
  },
  {
   "cell_type": "code",
   "execution_count": 42,
   "metadata": {
    "collapsed": false,
    "scrolled": false
   },
   "outputs": [
    {
     "data": {
      "text/plain": [
       "[[18, 76, 23, 53, 75],\n",
       " [3, 3, 80, 39, 71],\n",
       " [50, 90, 43, 31, 82],\n",
       " [61, 88, 62, 58, 43],\n",
       " [33, 90, 20, 26, 20],\n",
       " [79, 96, 70, 75, 30]]"
      ]
     },
     "execution_count": 42,
     "metadata": {},
     "output_type": "execute_result"
    }
   ],
   "source": [
    "nums"
   ]
  },
  {
   "cell_type": "code",
   "execution_count": 43,
   "metadata": {
    "collapsed": false,
    "scrolled": true
   },
   "outputs": [
    {
     "name": "stdout",
     "output_type": "stream",
     "text": [
      "18 top\n",
      "76 top\n",
      "23 top\n",
      "53 top\n",
      "75 top\n",
      "71 right\n",
      "82 right\n",
      "43 right\n",
      "20 right\n",
      "30 right\n",
      "75 down\n",
      "70 down\n",
      "96 down\n",
      "79 down\n",
      "33 left\n",
      "61 left\n",
      "50 left\n",
      "3 left\n",
      "3 top\n",
      "80 top\n",
      "39 top\n",
      "31 right\n",
      "58 right\n",
      "26 right\n",
      "20 down\n",
      "90 down\n",
      "88 left\n",
      "90 left\n",
      "43 top\n",
      "62 right\n"
     ]
    }
   ],
   "source": [
    "spiral(nums)"
   ]
  },
  {
   "cell_type": "code",
   "execution_count": 5,
   "metadata": {
    "collapsed": false
   },
   "outputs": [
    {
     "name": "stdout",
     "output_type": "stream",
     "text": [
      "1\n"
     ]
    }
   ],
   "source": [
    "a=1\n",
    "b=2\n",
    "if a and b:\n",
    "    print a"
   ]
  }
 ],
 "metadata": {
  "kernelspec": {
   "display_name": "Python [Root]",
   "language": "python",
   "name": "Python [Root]"
  },
  "language_info": {
   "codemirror_mode": {
    "name": "ipython",
    "version": 2
   },
   "file_extension": ".py",
   "mimetype": "text/x-python",
   "name": "python",
   "nbconvert_exporter": "python",
   "pygments_lexer": "ipython2",
   "version": "2.7.12"
  }
 },
 "nbformat": 4,
 "nbformat_minor": 0
}
