{
 "cells": [
  {
   "cell_type": "code",
   "execution_count": null,
   "metadata": {
    "collapsed": true
   },
   "outputs": [],
   "source": [
    "#设定一个初始起点，然后把这个sequence走一遍，看到那儿了就行了。\n",
    "# 每一步有三种可能，go或者，turn left或者turn right"
   ]
  },
  {
   "cell_type": "code",
   "execution_count": null,
   "metadata": {
    "collapsed": true
   },
   "outputs": [],
   "source": [
    "http://www.geeksforgeeks.org/check-if-a-given-sequence-of-moves-for-a-robot-is-circular-or-not/"
   ]
  },
  {
   "cell_type": "code",
   "execution_count": null,
   "metadata": {
    "collapsed": true
   },
   "outputs": [],
   "source": [
    "# Python program to check if the given path for a robot is circular\n",
    "# or not\n",
    "N = 0\n",
    "E = 1\n",
    "S = 2\n",
    "W = 3\n",
    " \n",
    "# This function returns true if the given path is circular,\n",
    "# else false\n",
    "def isCircular(path):\n",
    " \n",
    "    # Initialize starting point for robot as (0, 0) and starting\n",
    "    # direction as N North\n",
    "    x = 0\n",
    "    y = 0\n",
    "    dir = N\n",
    " \n",
    "    # Traverse the path given for robot\n",
    "    for i in xrange(len(path)):\n",
    " \n",
    "        # Find current move\n",
    "        move = path[i]\n",
    " \n",
    "        # If move is left or right, then change direction\n",
    "        if move == 'R':\n",
    "            dir = (dir + 1)%4\n",
    "        elif move == 'L':\n",
    "            dir = (4 + dir - 1)%4\n",
    " \n",
    "        # If move is Go, then change x or y according to\n",
    "        # current direction\n",
    "        else:    # if move == 'G'\n",
    "            if dir == N:\n",
    "                y += 1\n",
    "            elif dir == E:\n",
    "                x += 1\n",
    "            elif dir == S:\n",
    "                y -= 1\n",
    "            else:\n",
    "                x -= 1\n",
    " \n",
    "    return (x == 0 and y == 0)"
   ]
  }
 ],
 "metadata": {
  "kernelspec": {
   "display_name": "Python [Root]",
   "language": "python",
   "name": "Python [Root]"
  },
  "language_info": {
   "codemirror_mode": {
    "name": "ipython",
    "version": 2
   },
   "file_extension": ".py",
   "mimetype": "text/x-python",
   "name": "python",
   "nbconvert_exporter": "python",
   "pygments_lexer": "ipython2",
   "version": "2.7.12"
  }
 },
 "nbformat": 4,
 "nbformat_minor": 0
}
